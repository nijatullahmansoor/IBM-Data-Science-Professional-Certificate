{
 "cells": [
  {
   "cell_type": "markdown",
   "id": "reserved-commitment",
   "metadata": {},
   "source": [
    "## Python MySQL Database Connection using MySQL Connector"
   ]
  },
  {
   "cell_type": "markdown",
   "id": "complimentary-fields",
   "metadata": {},
   "source": [
    "In this lesson, you will learn how to connect the MySQL database in Python using the <b>`MySQL Connector Python` </b>module, and all the CRUD operation in Database. This Python MySQL tutorial demonstrates how to develop and integrate Python applications with a MySQL database server.\n",
    "\n",
    "In Python, We can use the following modules to communicate with MySQL.\n",
    "\n",
    " - `MySQL Connector Python`\n",
    " - `PyMySQL`\n",
    " - `MySQLDB`\n",
    " - `MySqlClient`\n",
    " - `OurSQL`"
   ]
  },
  {
   "cell_type": "markdown",
   "id": "occasional-angle",
   "metadata": {},
   "source": [
    "### Note:\n",
    "Above all interfaces or modules are adhere to <a href='https://www.python.org/dev/peps/pep-0249/'>Python Database API Specification v2.0 (PEP 249)</a> that means the <b>`syntax, method, and way of access the database is the same in all`</b>."
   ]
  },
  {
   "cell_type": "markdown",
   "id": "matched-scanning",
   "metadata": {},
   "source": [
    "PEP 249 is designed to encourage and maintain similarity between the Python modules that are used to access databases. By doing this, above all modules are following rules defined in Python Database API Specification v2.0 (PEP 249).\n",
    "\n",
    "You can choose any of the above modules as per your requirements. The way of accessing the MySQL database remains the same. I recommend you to use any of the following two modules:-\n",
    "\n",
    " - `MySQL Connector Python`\n",
    " - `PyMySQL`"
   ]
  },
  {
   "cell_type": "markdown",
   "id": "behind-hacker",
   "metadata": {},
   "source": [
    "### Note: \n",
    "This tutorial focuses on the MySQL Connector Python module. All examples are created using MySQL Connector Python."
   ]
  },
  {
   "cell_type": "markdown",
   "id": "crude-beijing",
   "metadata": {},
   "source": [
    "## Advantages and benefits of MySQL Connector Python: –\n",
    "\n",
    " - MySQL Connector Python is written in pure Python, and it is self-sufficient to execute database queries through Python.\n",
    " - It is an official Oracle-supported driver to work with MySQL and Python.\n",
    " - It is Python 3 compatible, actively maintained.\n",
    " \n",
    " ### Table of contents\n",
    " \n",
    " - How to connect MySQL database in Python\n",
    "   - Arguments required to connect\n",
    " - Create MySQL table from Python\n",
    " - Python MySQL CRUD Operation\n",
    " - Python MySQL Connection arguments list\n",
    "   - Use the Dictionary to keep MySQL Connection arguments\n",
    " - Change MySQL Connection Timeout from Python\n",
    " - Connect to MySQL Using Connector Python C Extension\n",
    " - Next Steps:"
   ]
  },
  {
   "cell_type": "markdown",
   "id": "inner-adaptation",
   "metadata": {},
   "source": [
    "## How to connect MySQL database in Python"
   ]
  },
  {
   "cell_type": "markdown",
   "id": "certain-great",
   "metadata": {},
   "source": [
    "Let’s see how to connect the MySQL database in Python using the ‘MySQL Connector Python’ module."
   ]
  },
  {
   "cell_type": "markdown",
   "id": "heated-holly",
   "metadata": {},
   "source": [
    "## Arguments required to connect\n",
    "You need to know the following detail of the MySQL server to perform the connection from Python."
   ]
  },
  {
   "cell_type": "markdown",
   "id": "simple-pendant",
   "metadata": {},
   "source": [
    "| Argument |  Description |\n",
    "|---|---|\n",
    "| Username  | The username that you use to work with MySQL Server. The default username for the MySQL database is a `root`. | \n",
    "| Password  | Password is given by the user at the time of installing the MySQL server. If you are using root then you won’t need the password. |  \n",
    "| Host name | The server name or Ip address on which MySQL is running. if you are running on localhost, then you can use localhost or its IP `127.0.0.0` |\n",
    "| Database name | The name of the database to which you want to connect and perform the operations. |"
   ]
  },
  {
   "cell_type": "markdown",
   "id": "outer-johnson",
   "metadata": {},
   "source": [
    "### How to Connect to MySQL Database in Python"
   ]
  },
  {
   "cell_type": "markdown",
   "id": "attempted-repair",
   "metadata": {},
   "source": [
    "#### 1. Install MySQL connector module\n",
    "Use the pip command to <a href='https://pynative.com/install-mysql-connector-python/'>install MySQL connector Python</a>.\n",
    "\n",
    "`pip install mysql-connector-python`"
   ]
  },
  {
   "cell_type": "code",
   "execution_count": 10,
   "id": "hispanic-gentleman",
   "metadata": {},
   "outputs": [],
   "source": [
    "# pip install mysql-connector-python"
   ]
  },
  {
   "cell_type": "markdown",
   "id": "victorian-nutrition",
   "metadata": {},
   "source": [
    "#### 2. Import MySQL connector module\n",
    "Import using a `import mysql.connector` statement so you can use this module’s methods to communicate with the MySQL database."
   ]
  },
  {
   "cell_type": "code",
   "execution_count": 37,
   "id": "contained-perfume",
   "metadata": {},
   "outputs": [],
   "source": [
    "import mysql.connector"
   ]
  },
  {
   "cell_type": "markdown",
   "id": "grateful-coverage",
   "metadata": {},
   "source": [
    "#### 3. Use the connect() method\n",
    "Use the `connect()` method of the MySQL Connector class with the required arguments to connect MySQL. It would return a `MySQLConnection` object if the connection established successfully"
   ]
  },
  {
   "cell_type": "code",
   "execution_count": 38,
   "id": "least-frame",
   "metadata": {},
   "outputs": [],
   "source": [
    "connection = mysql.connector.connect(host='localhost',\n",
    "                                     database='mydb',\n",
    "                                     user = 'nijat',\n",
    "                                     password = 'nijat123')\n"
   ]
  },
  {
   "cell_type": "markdown",
   "id": "technical-hostel",
   "metadata": {},
   "source": [
    "#### 4. Use the cursor() method\n",
    "Use the `cursor()` method of a `MySQLConnection` object to create a cursor object to perform various SQL operations."
   ]
  },
  {
   "cell_type": "code",
   "execution_count": 33,
   "id": "declared-satin",
   "metadata": {},
   "outputs": [],
   "source": [
    " mySql_Create_Table_Query = \"\"\"\n",
    "                DROP TABLE IF EXISTS FIRST_TABLE;\n",
    "                CREATE TABLE FIRST_TABLE(\n",
    "                NAME VARCHAR(20),\n",
    "                ADDRESS VARCHAR(50),\n",
    "                AGE INT);\n",
    "                \"\"\"\n",
    "cursor = connection.cursor()"
   ]
  },
  {
   "cell_type": "markdown",
   "id": "regulated-benefit",
   "metadata": {},
   "source": [
    "#### 5. Use the execute() method\n",
    "The `execute()` methods run the SQL query and return the result."
   ]
  },
  {
   "cell_type": "code",
   "execution_count": 21,
   "id": "continental-machinery",
   "metadata": {},
   "outputs": [
    {
     "name": "stdout",
     "output_type": "stream",
     "text": [
      "First_table created successfully:\n"
     ]
    }
   ],
   "source": [
    "result = cursor.execute(mySql_Create_Table_Query,multi=True) # we use multi = True if we wnat to execute multiple statment \n",
    "print(\"First_table created successfully:\")"
   ]
  },
  {
   "cell_type": "markdown",
   "id": "initial-withdrawal",
   "metadata": {},
   "source": [
    "#### 6. Extract result using <a heref='https://pynative.com/python-cursor-fetchall-fetchmany-fetchone-to-read-rows-from-table/'>`fetchall()`</a>\n",
    "Use `cursor.fetchall()` or `fetchone()` or `fetchmany()` to read query result."
   ]
  },
  {
   "cell_type": "code",
   "execution_count": 28,
   "id": "alien-creek",
   "metadata": {},
   "outputs": [
    {
     "name": "stdout",
     "output_type": "stream",
     "text": [
      "You're connected to database: ('mydb',)\n"
     ]
    }
   ],
   "source": [
    "cursor.execute(\"select database();\")\n",
    "record = cursor.fetchone()\n",
    "print(\"You're connected to database:\",record)"
   ]
  },
  {
   "cell_type": "markdown",
   "id": "exotic-pharmaceutical",
   "metadata": {},
   "source": [
    "#### 7. Close cursor and connection objects\n",
    "use `cursor.clsoe()` and `connection.clsoe()` method to close open connections after your work completes\n",
    "\n",
    "<img src='python.png'>\n"
   ]
  },
  {
   "cell_type": "code",
   "execution_count": 30,
   "id": "complete-record",
   "metadata": {},
   "outputs": [],
   "source": [
    "cursor.close()\n",
    "connection.close()"
   ]
  },
  {
   "cell_type": "markdown",
   "id": "welcome-pharmaceutical",
   "metadata": {},
   "source": [
    "Run the below query on the MySQL console if you have not created any database in MySQL. Otherwise, you can skip the below query.\n",
    "\n",
    "`Create Database in MySQL`"
   ]
  },
  {
   "cell_type": "markdown",
   "id": "distinguished-contamination",
   "metadata": {},
   "source": [
    "\n",
    "### Example to connect to MySQL Database in Python\n",
    "now let's put all together "
   ]
  },
  {
   "cell_type": "code",
   "execution_count": 42,
   "id": "initial-inside",
   "metadata": {},
   "outputs": [
    {
     "name": "stdout",
     "output_type": "stream",
     "text": [
      "Connected to MySQL Server version: 8.0.25\n",
      "You're connected to database: ('mydb',)\n",
      "MySQL connection is closed.\n"
     ]
    }
   ],
   "source": [
    "from mysql.connector import Error\n",
    "\n",
    "try:\n",
    "    connection = mysql.connector.connect(host='localhost',\n",
    "                                         database='mydb',\n",
    "                                         user = 'nijat',\n",
    "                                         password='nijat123')\n",
    "    if connection.is_connected():\n",
    "        db_Info = connection.get_server_info()\n",
    "        print(\"Connected to MySQL Server version:\",db_Info)\n",
    "        cursor = connection.cursor()\n",
    "        cursor.execute(\"select database();\")\n",
    "        record = cursor.fetchone()\n",
    "        print(\"You're connected to database:\",record)\n",
    "        \n",
    "except Error as e:\n",
    "    print(\"Error while connecting to MySQL:\",e)\n",
    "finally:\n",
    "    if connection.is_connected():\n",
    "        cursor.close()\n",
    "        connection.close()\n",
    "        print(\"MySQL connection is closed.\")\n",
    "        "
   ]
  },
  {
   "cell_type": "markdown",
   "id": "antique-wireless",
   "metadata": {},
   "source": [
    "#### Now let's create a table "
   ]
  },
  {
   "cell_type": "code",
   "execution_count": 49,
   "id": "engaging-thanksgiving",
   "metadata": {},
   "outputs": [
    {
     "name": "stdout",
     "output_type": "stream",
     "text": [
      "Staff table created successfully:\n",
      "MySQL connection is closed\n"
     ]
    }
   ],
   "source": [
    "from mysql.connector import Error\n",
    "\n",
    "try:\n",
    "    connection = mysql.connector.connect(host='localhost',\n",
    "                                         database='mydb',\n",
    "                                         user = 'nijat',\n",
    "                                         password='nijat123')\n",
    "    \n",
    "    mySql_Create_Table_Query = \"\"\"\n",
    "                drop table if exists staff;\n",
    "                create table staff(\n",
    "                ID int, \n",
    "                Staff_NAME varchar(50),\n",
    "                Staff_AGE int,\n",
    "                STAFF_ADDRESS varchar(50),\n",
    "                Monthley_Package int,\n",
    "                primary key (ID));\n",
    "                \"\"\"\n",
    "    if connection.is_connected():\n",
    "        cursor = connection.cursor()\n",
    "        result = cursor.execute(mySql_Create_Table_Query,multi=True)\n",
    "        print(\"Staff table created successfully:\")\n",
    "        \n",
    "except Error as e:\n",
    "    print(\"Failed to create table in MySQL: {}\".format(error))\n",
    "finally:\n",
    "    if connection.is_connected():\n",
    "        cursor.close()\n",
    "        connection.close()\n",
    "        print(\"MySQL connection is closed\")"
   ]
  },
  {
   "cell_type": "markdown",
   "id": "saving-garbage",
   "metadata": {},
   "source": [
    "## Points to remember"
   ]
  },
  {
   "cell_type": "markdown",
   "id": "opposed-dependence",
   "metadata": {},
   "source": [
    "- <b>Catch exceptions</b> that may occur during this process by importing the Error class from the MySQL connector module using a `from mysql.connector import Error statement`.\n",
    "   Error class is useful to debug when we failed to connect to MySQL. For example, ACCESS DENIED ERROR when    the username or password is wrong.\n",
    "   \n",
    " - The `connect()` method can throw a Database error exception if one of the required parameters is wrong. For example, if you provide a database name that is not present in MySQL.\n",
    " \n",
    "- The `is_connected()` is the method of the `MySQLConnection` class through which we can verify is our Python application connected to MySQL.\n",
    "\n",
    " - At last, we are closing the MySQL database connection using a `close()` method of MySQLConnection class."
   ]
  },
  {
   "cell_type": "markdown",
   "id": "deluxe-separation",
   "metadata": {},
   "source": [
    "## Python MySQL CRUD Operation"
   ]
  },
  {
   "cell_type": "markdown",
   "id": "fallen-tackle",
   "metadata": {},
   "source": [
    "Now we will demonstrates how to execute INSERT Query from Python to add a new row into the MySQL table.\n",
    "you’ll learn the following Python MySQL insert operations using a `MySQL Connector` module.\n",
    "\n",
    " - Insert single and multiple rows into the database table.\n",
    " - Use a parameterized query to insert a Python variable value (Integer, string, float, double, and DateTime) into a database table."
   ]
  },
  {
   "cell_type": "markdown",
   "id": "combined-relaxation",
   "metadata": {},
   "source": [
    "### Table of contents\n",
    " - Prerequisite\n",
    " - Insert a Single Row into MySQL table from Python\n",
    " - Use Python Variables in a MySQL Insert Query\n",
    " - Insert multiple rows into MySQL table using the cursor’s executemany()\n",
    " - Insert timestamp and DateTime into a MySQL table using Python"
   ]
  },
  {
   "cell_type": "markdown",
   "id": "thermal-democrat",
   "metadata": {},
   "source": [
    "#### Prerequisite\n",
    "Before moving further, Please make sure you have the following in place: –\n",
    "\n",
    " - Username and password to connect MySQL\n",
    " - MySQL table name in which you want to insert data.\n",
    "I have created a table Staff in the MySQL server to insert records in it. See its column structure in the image.\n",
    "\n",
    "<img src = 'sttaf.png'>\n"
   ]
  },
  {
   "cell_type": "markdown",
   "id": "egyptian-insurance",
   "metadata": {},
   "source": [
    "#### Insert a Single Row into MySQL table from Python\n",
    "\n",
    "How to Insert Into MySQL table from Python\n"
   ]
  },
  {
   "cell_type": "markdown",
   "id": "subtle-madagascar",
   "metadata": {},
   "source": [
    " - Connect to MySQL from Python\n",
    " - Define a SQL Insert query\n",
    "    - Next, prepare a SQL INSERT query to insert a row into a table. \n",
    "      in the insert query, we mention column   names and their values to insert in a table.\n",
    "      For example.<br>\n",
    "      `INSERT INTO mysql_table (column1, column2, …) VALUES (value1, value2, …);`\n",
    " - Get Cursor Object from Connection\n",
    "    - Next, use a `connection.cursor()` method to create a cursor object. This method creates a new `MySQLCursor` object.\n",
    " - Execute the insert query using execute() method\n",
    "    - Execute the insert query using the cursor.execute() method. This method executes the operation stored in the Insert query.\n",
    " - Commit your changes\n",
    "   - After the successful execution of a query make changes persistent into a database using the `commit()` of a connection class.\n",
    "   \n",
    " - Get the number of rows affected\n",
    "    - After a successful insert operation, use a `cursor.rowcount` method to get the number of rows affected. The count depends on how many rows you are Inserting.\n",
    "    \n",
    " - Verify result using the SQL SELECT query\n",
    "     - Execute a MySQL select query from Python to see the new changes.\n",
    "\n",
    " - Close the cursor object and database connection object\n",
    "      - use `cursor.clsoe()` and `connection.clsoe()` method to close open connections after your work completes."
   ]
  },
  {
   "cell_type": "markdown",
   "id": "becoming-theology",
   "metadata": {},
   "source": [
    "## Example of insert query "
   ]
  },
  {
   "cell_type": "code",
   "execution_count": null,
   "id": "overhead-connection",
   "metadata": {},
   "outputs": [],
   "source": [
    "# let's import the mysql.connector \n",
    "\n",
    "import mysql.connector \n",
    "from mysql.connector import Error\n",
    "\n",
    "try:\n",
    "    connection = mysql.connector.connect(host='localhost',\n",
    "                                         database='mydb',\n",
    "                                         user='nijat',\n",
    "                                         password='nijat123')\n",
    "    mysql_insert_query = \"\"\"\n",
    "                        insert into staff(\n",
    "                        id, staff_name, staff_age, staff_address, Monthley_Package)\n",
    "                        values(1,\"ARYAN\",22, \"MUMBAI\",18000);\n",
    "                         \"\"\"\n",
    "    cursor = connection.cursor()\n",
    "    cursor.execute(mysql_insert_query)\n",
    "    connection.commit()\n",
    "    print(cursor.rowcount,\"Record inserted successfully into Sttaf tabl.\")\n",
    "    cursor.close()\n",
    "    \n",
    "except Error as e:\n",
    "    print(\"Failed to insert record into staff table  {}\".format(e))\n",
    "\n",
    "finally:\n",
    "    if connection.is_connected():\n",
    "        connection.close()\n",
    "        print(\"MySQL connection is closed\")\n",
    "    "
   ]
  },
  {
   "cell_type": "markdown",
   "id": "square-pasta",
   "metadata": {},
   "source": [
    "### Use Python Variables in a MySQL Insert Query"
   ]
  },
  {
   "cell_type": "markdown",
   "id": "heavy-marsh",
   "metadata": {},
   "source": [
    "Sometimes you need to insert a Python variable value into a table’s column. For example, in the user signup form user enter his/her details. You can take those values in Python variables and insert them into a table.\n",
    "\n",
    " - We can insert Python variables into the table using the prepared statement and parameterized query.\n",
    " - Using a parameterized query, we can pass Python variables as a query parameter in which placeholders (%s) used for parameters."
   ]
  },
  {
   "cell_type": "code",
   "execution_count": 54,
   "id": "significant-journalism",
   "metadata": {},
   "outputs": [
    {
     "name": "stdout",
     "output_type": "stream",
     "text": [
      "1 Record inserted successfully into Sttaf tabl.\n",
      "MySQL connection is closed\n",
      "1 Record inserted successfully into Sttaf tabl.\n",
      "MySQL connection is closed\n"
     ]
    }
   ],
   "source": [
    "# let's import the mysql.connector \n",
    "\n",
    "import mysql.connector \n",
    "from mysql.connector import Error\n",
    "def insert_varibles_into_table(id,staff_name,staff_age,staff_address,Monthley_pakage):\n",
    "    try:\n",
    "        connection = mysql.connector.connect(host='localhost',\n",
    "                                         database='mydb',\n",
    "                                         user='nijat',\n",
    "                                         password='nijat123')\n",
    "        mysql_insert_query = \"\"\"\n",
    "                        insert into staff(\n",
    "                        id, staff_name, staff_age, staff_address, Monthley_package)\n",
    "                        values(%s,%s,%s,%s,%s); \n",
    "                        \n",
    "                        \"\"\"\n",
    "        record = (id,staff_name,staff_age,staff_address,Monthley_pakage)\n",
    "        cursor = connection.cursor()\n",
    "        cursor.execute(mysql_insert_query,record)\n",
    "        connection.commit()\n",
    "        print(cursor.rowcount,\"Record inserted successfully into Sttaf tabl.\")\n",
    "        cursor.close()\n",
    "    \n",
    "    except Error as e:\n",
    "        print(\"Failed to insert record into staff table  {}\".format(e))\n",
    "\n",
    "    finally:\n",
    "        if connection.is_connected():\n",
    "            connection.close()\n",
    "            print(\"MySQL connection is closed\")\n",
    "        \n",
    "insert_varibles_into_table(2,\"SHUHIL\",32,\"DHILI\",20000)\n",
    "insert_varibles_into_table(3,\"MONTY\",25,\"MOHALI\",22000)\n"
   ]
  },
  {
   "cell_type": "markdown",
   "id": "baking-evening",
   "metadata": {},
   "source": [
    "the result you can see in the image bellow.<br><br>\n",
    "<img src = 'result.png'>\n"
   ]
  },
  {
   "cell_type": "markdown",
   "id": "irish-shakespeare",
   "metadata": {},
   "source": [
    "### Insert multiple rows into MySQL table using the cursor’s executemany()"
   ]
  },
  {
   "cell_type": "markdown",
   "id": "chinese-patrick",
   "metadata": {},
   "source": [
    "In the previous example, we have used `execute()` method of cursor `object` to insert a single record.\n",
    "\n",
    "What if you want to insert multiple rows into a table in a single insert query from the Python application. Use the cursor’s `executemany()` function to insert multiple records into a table.\n",
    "\n",
    "Syntax of the `executemany()` method.<br><br>\n",
    "`cursor.executemany(operation, seq_of_params)`"
   ]
  },
  {
   "cell_type": "markdown",
   "id": "nutritional-outline",
   "metadata": {},
   "source": [
    "This method executes Insert `operation` against all parameter sequences in the sequence `seq_of_params` argument.\n",
    "\n",
    "You need to include lists of tuples in the `seq_of_params` argument along with the insert query.\n",
    "\n",
    "Each tuple inside the list contains a single row that you want to insert. So you can add as many rows in the list and pass a list to a `cursor.executemany()` function along with the insert query.\n",
    "\n",
    "<b>Note:</b> Each tuple is enclosed within parentheses and separated by commas. For example, to insert multiple rows in a staff table, we can use the following SQL Query:\n",
    "\n",
    "`INSERT INTO Laptop (Id, Name, Price, Purchase_date) VALUES (%s, %s, %s, %s)`\n",
    "\n",
    "And in seq_of_params we are passing the below List.\n"
   ]
  },
  {
   "cell_type": "code",
   "execution_count": 56,
   "id": "informative-dream",
   "metadata": {},
   "outputs": [],
   "source": [
    "records_to_insert =[(4,\"AMIT\",20,\"AHMADABAD\",12000),\n",
    "                    (5,\"Nijatullah Mansoor\",25,\"Afghanistan\",500000),\n",
    "                    (6,\"omar\",14,\"India\",123456)]"
   ]
  },
  {
   "cell_type": "code",
   "execution_count": 57,
   "id": "medieval-cigarette",
   "metadata": {},
   "outputs": [
    {
     "name": "stdout",
     "output_type": "stream",
     "text": [
      "3 Record inserted successfully into Sttaf tabl.\n",
      "MySQL connection is closed\n"
     ]
    }
   ],
   "source": [
    "# let's import the mysql.connector \n",
    "\n",
    "import mysql.connector \n",
    "from mysql.connector import Error\n",
    "\n",
    "try:\n",
    "    connection = mysql.connector.connect(host='localhost',\n",
    "                                         database='mydb',\n",
    "                                         user='nijat',\n",
    "                                         password='nijat123')\n",
    "    \n",
    "    mysql_insert_query = \"\"\"\n",
    "                        insert into staff(\n",
    "                        id, staff_name, staff_age, staff_address, Monthley_package)\n",
    "                        values(%s,%s,%s,%s,%s); \n",
    "                        \"\"\"\n",
    "        \n",
    "    records_to_insert =[(4,\"AMIT\",20,\"AHMADABAD\",12000),\n",
    "                    (5,\"Nijatullah Mansoor\",25,\"Afghanistan\",500000),\n",
    "                    (6,\"omar\",14,\"India\",123456)]\n",
    "    \n",
    "    cursor = connection.cursor()\n",
    "    cursor.executemany(mysql_insert_query,records_to_insert)\n",
    "    connection.commit()\n",
    "    print(cursor.rowcount,\"Record inserted successfully into Sttaf tabl.\")\n",
    "    cursor.close()\n",
    "    \n",
    "except Error as e:\n",
    "    print(\"Failed to insert record into staff table  {}\".format(e))\n",
    "\n",
    "finally:\n",
    "    if connection.is_connected():\n",
    "        connection.close()\n",
    "        print(\"MySQL connection is closed\")\n",
    "    "
   ]
  },
  {
   "cell_type": "markdown",
   "id": "naval-prospect",
   "metadata": {},
   "source": [
    "Let's check the result <br><br>\n",
    "<img src = 'result1.png'>\n"
   ]
  },
  {
   "cell_type": "markdown",
   "id": "indonesian-building",
   "metadata": {},
   "source": [
    "#### Note:\n",
    "\n",
    " - Using cursor.executemany(sql_insert_query, records_to_insert) we are inserting multiple rows (from a List) into the table.\n",
    " - Using the cursor.rowcount we can find the number of records inserted."
   ]
  },
  {
   "cell_type": "markdown",
   "id": "pregnant-applicant",
   "metadata": {},
   "source": [
    "### Python Select from MySQL Table"
   ]
  },
  {
   "cell_type": "markdown",
   "id": "human-benjamin",
   "metadata": {},
   "source": [
    "We will demonstrates how to select rows of a MySQL table in Python.\n",
    "\n",
    "You’ll learn the following MySQL SELECT operations from Python using a ‘MySQL Connector Python’ module."
   ]
  },
  {
   "cell_type": "markdown",
   "id": "bizarre-theorem",
   "metadata": {},
   "source": [
    " - Execute the SELECT query and process the result set returned by the query in Python.\n",
    " - Use Python variables in a where clause of a SELECT query to pass dynamic values.\n",
    " - Use `fetchall()`, `fetchmany()`, and `fetchone()` methods of a cursor class to fetch all or limited rows from a table.\n",
    " \n",
    " "
   ]
  },
  {
   "cell_type": "markdown",
   "id": "compound-blair",
   "metadata": {},
   "source": [
    "### Table of contents\n",
    "- Prerequisites\n",
    "- Steps to fetch rows from a MySQL database table\n",
    "- Use Python variables as parameters in MySQL Select Query\n",
    "- Select limited rows from MySQL table using fetchmany and fetchone\n",
    "   - Example to fetch fewer rows from MySQL table using cursor’s fetchmany\n",
    "   - Fetch single row from MySQL table using cursor’s fetchone\n",
    "- Python Fetch MySQL row using the column names\n",
    "\n"
   ]
  },
  {
   "cell_type": "markdown",
   "id": "automated-feedback",
   "metadata": {},
   "source": [
    "### Prerequisites\n",
    "\n",
    "Before moving further, Please make sure you have the following in place: –\n",
    "\n",
    "- Username and password to connect MySQL\n",
    "- MySQL table name from which you want to select data.<br>\n",
    "\n",
    "\n",
    "For this lesson, I am using a Employees table present in my MySQL server."
   ]
  },
  {
   "cell_type": "markdown",
   "id": "copyrighted-offer",
   "metadata": {},
   "source": [
    "#### Steps to fetch rows from a MySQL database table\n",
    "\n",
    "1. Connect to MySQL from Python\n",
    "2. Define a SQL SELECT Query\n",
    "   - Next, prepare a SQL SELECT query to fetch rows from a table. You can select all or limited rows based on your requirement. If the where condition is used, then it decides the number of rows to fetch.\n",
    "     For example, `SELECT col1, col2,…colnN FROM MySQL_table WHERE id = 10;`. This will return row number 10.\n",
    "     \n",
    "3. Get Cursor Object from Connection\n",
    "   - Next, use a `connection.cursor()` method to create a cursor object. This method creates a new `MySQLCursor` object.\n",
    "   \n",
    "4. Execute the SELECT query using execute() method\n",
    "   - Execute the select query using the cursor.execute() method.\n",
    "5. Extract all rows from a result\n",
    "    - After successfully executing a Select operation, Use the fetchall() method of a cursor object to get all rows from a query result. it returns a list of rows.\n",
    "6. Iterate each row\n",
    "    - Iterate a row list using a for loop and access each row individually (Access each row’s column data using a column name or index number.)\n",
    "    \n",
    "7. Close the cursor object and database connection object\n",
    "   - use cursor.clsoe() and connection.clsoe() method to close open connections after your work completes."
   ]
  },
  {
   "cell_type": "markdown",
   "id": "planned-camping",
   "metadata": {},
   "source": [
    "### Example"
   ]
  },
  {
   "cell_type": "markdown",
   "id": "weekly-slovak",
   "metadata": {},
   "source": [
    "In this example, we are fetching all the rows from the Employees table and copying them into Python variables so we can use it in our program."
   ]
  },
  {
   "cell_type": "code",
   "execution_count": 1,
   "id": "ethical-gender",
   "metadata": {},
   "outputs": [
    {
     "name": "stdout",
     "output_type": "stream",
     "text": [
      "Total number of rows in table:  10\n",
      "\n",
      "Printing each row\n",
      "Employ_Id =  E1001\n",
      "F_Name =  John\n",
      "L_Name =  Thomas\n",
      "SSN =  123456\n",
      "B_Date=  1976-01-09\n",
      "Sex =  M\n",
      "Address  =  5631 Rice, OakPark,IL\n",
      "Job_ID =  100\n",
      "Salary =  100000.00\n",
      "Mnager_ID =  30001\n",
      "Dep_ID =  2\n",
      "\n",
      "\n",
      "Employ_Id =  E1002\n",
      "F_Name =  Alice\n",
      "L_Name =  James\n",
      "SSN =  123457\n",
      "B_Date=  1972-07-31\n",
      "Sex =  F\n",
      "Address  =  980 Berry ln, Elgin,IL\n",
      "Job_ID =  200\n",
      "Salary =  80000.00\n",
      "Mnager_ID =  30002\n",
      "Dep_ID =  5\n",
      "\n",
      "\n",
      "MySQL connection is closed\n"
     ]
    }
   ],
   "source": [
    "import mysql.connector\n",
    "\n",
    "try:\n",
    "    connection = mysql.connector.connect(host='localhost',\n",
    "                                         database='mydb',\n",
    "                                         user='nijat',\n",
    "                                         password='nijat123')\n",
    "    \n",
    "\n",
    "    sql_select_Query = \"select * from Employees;\"\n",
    "    cursor = connection.cursor()\n",
    "    cursor.execute(sql_select_Query)\n",
    "    # get all records\n",
    "    records = cursor.fetchall()\n",
    "    print(\"Total number of rows in table: \", cursor.rowcount)\n",
    "\n",
    "    print(\"\\nPrinting each row\")\n",
    "    ## let's print only tow rows. \n",
    "    i = 0\n",
    "    for row in records:\n",
    "        print(\"Employ_Id = \", row[0], )\n",
    "        print(\"F_Name = \", row[1])\n",
    "        print(\"L_Name = \", row[2])\n",
    "        print(\"SSN = \", row[3])\n",
    "        print(\"B_Date= \", row[4])\n",
    "        print(\"Sex = \", row[5])\n",
    "        print(\"Address  = \", row[6])\n",
    "        print(\"Job_ID = \", row[7])\n",
    "        print(\"Salary = \", row[8])\n",
    "        print(\"Mnager_ID = \", row[9])\n",
    "        print(\"Dep_ID = \", row[10])\n",
    "        print(\"\\n\")\n",
    "        i = i+1\n",
    "        if i==2:\n",
    "            break\n",
    "\n",
    "except mysql.connector.Error as e:\n",
    "    print(\"Error reading data from MySQL table\", e)\n",
    "finally:\n",
    "    if connection.is_connected():\n",
    "        connection.close()\n",
    "        cursor.close()\n",
    "        print(\"MySQL connection is closed\")"
   ]
  },
  {
   "cell_type": "markdown",
   "id": "subject-thesis",
   "metadata": {},
   "source": [
    "## Retrieve data into Pandas\n",
    "In this step we will retrieve the contents of the `EMPLOYEES` table into a `Pandas dataframe`"
   ]
  },
  {
   "cell_type": "code",
   "execution_count": 4,
   "id": "bibliographic-stopping",
   "metadata": {},
   "outputs": [
    {
     "name": "stdout",
     "output_type": "stream",
     "text": [
      "Data retrive into panda successfully.\n",
      "MySQL connection is closed\n"
     ]
    }
   ],
   "source": [
    "import mysql.connector\n",
    "import pandas as pd      \n",
    "\n",
    "\n",
    "try:\n",
    "    connection = mysql.connector.connect(host='localhost',\n",
    "                                         database='mydb',\n",
    "                                         user='nijat',\n",
    "                                         password='nijat123')\n",
    "    \n",
    "\n",
    "    sql_select_Query = \"select * from Employees;\"\n",
    "    df = pd.read_sql(sql_select_Query,con=connection)\n",
    "    print(\"Data retrive into panda successfully.\")\n",
    "    \n",
    "    \n",
    "except mysql.connector.Error as e:\n",
    "    print(\"Error reading data from MySQL table\", e)\n",
    "finally:\n",
    "    if connection.is_connected():\n",
    "        connection.close()\n",
    "        cursor.close()\n",
    "        print(\"MySQL connection is closed\")"
   ]
  },
  {
   "cell_type": "code",
   "execution_count": 5,
   "id": "instructional-spare",
   "metadata": {},
   "outputs": [
    {
     "data": {
      "text/html": [
       "<div>\n",
       "<style scoped>\n",
       "    .dataframe tbody tr th:only-of-type {\n",
       "        vertical-align: middle;\n",
       "    }\n",
       "\n",
       "    .dataframe tbody tr th {\n",
       "        vertical-align: top;\n",
       "    }\n",
       "\n",
       "    .dataframe thead th {\n",
       "        text-align: right;\n",
       "    }\n",
       "</style>\n",
       "<table border=\"1\" class=\"dataframe\">\n",
       "  <thead>\n",
       "    <tr style=\"text-align: right;\">\n",
       "      <th></th>\n",
       "      <th>EMP_ID</th>\n",
       "      <th>F_NAME</th>\n",
       "      <th>L_NAME</th>\n",
       "      <th>SSN</th>\n",
       "      <th>B_DATE</th>\n",
       "      <th>SEX</th>\n",
       "      <th>ADDRESS</th>\n",
       "      <th>JOB_ID</th>\n",
       "      <th>SALARY</th>\n",
       "      <th>MANAGER_ID</th>\n",
       "      <th>DEP_ID</th>\n",
       "    </tr>\n",
       "  </thead>\n",
       "  <tbody>\n",
       "    <tr>\n",
       "      <th>0</th>\n",
       "      <td>E1001</td>\n",
       "      <td>John</td>\n",
       "      <td>Thomas</td>\n",
       "      <td>123456</td>\n",
       "      <td>1976-01-09</td>\n",
       "      <td>M</td>\n",
       "      <td>5631 Rice, OakPark,IL</td>\n",
       "      <td>100</td>\n",
       "      <td>100000.0</td>\n",
       "      <td>30001</td>\n",
       "      <td>2</td>\n",
       "    </tr>\n",
       "    <tr>\n",
       "      <th>1</th>\n",
       "      <td>E1002</td>\n",
       "      <td>Alice</td>\n",
       "      <td>James</td>\n",
       "      <td>123457</td>\n",
       "      <td>1972-07-31</td>\n",
       "      <td>F</td>\n",
       "      <td>980 Berry ln, Elgin,IL</td>\n",
       "      <td>200</td>\n",
       "      <td>80000.0</td>\n",
       "      <td>30002</td>\n",
       "      <td>5</td>\n",
       "    </tr>\n",
       "    <tr>\n",
       "      <th>2</th>\n",
       "      <td>E1003</td>\n",
       "      <td>Steve</td>\n",
       "      <td>Wells</td>\n",
       "      <td>123458</td>\n",
       "      <td>1980-08-10</td>\n",
       "      <td>M</td>\n",
       "      <td>291 Springs, Gary,IL</td>\n",
       "      <td>300</td>\n",
       "      <td>50000.0</td>\n",
       "      <td>30002</td>\n",
       "      <td>5</td>\n",
       "    </tr>\n",
       "    <tr>\n",
       "      <th>3</th>\n",
       "      <td>E1004</td>\n",
       "      <td>Santosh</td>\n",
       "      <td>Kumar</td>\n",
       "      <td>123459</td>\n",
       "      <td>1985-07-20</td>\n",
       "      <td>M</td>\n",
       "      <td>511 Aurora Av, Aurora,IL</td>\n",
       "      <td>400</td>\n",
       "      <td>60000.0</td>\n",
       "      <td>30004</td>\n",
       "      <td>5</td>\n",
       "    </tr>\n",
       "    <tr>\n",
       "      <th>4</th>\n",
       "      <td>E1005</td>\n",
       "      <td>Ahmed</td>\n",
       "      <td>Hussain</td>\n",
       "      <td>123410</td>\n",
       "      <td>1981-01-04</td>\n",
       "      <td>M</td>\n",
       "      <td>216 Oak Tree, Geneva,IL</td>\n",
       "      <td>500</td>\n",
       "      <td>70000.0</td>\n",
       "      <td>30001</td>\n",
       "      <td>2</td>\n",
       "    </tr>\n",
       "    <tr>\n",
       "      <th>5</th>\n",
       "      <td>E1006</td>\n",
       "      <td>Nancy</td>\n",
       "      <td>Allen</td>\n",
       "      <td>123411</td>\n",
       "      <td>1978-02-06</td>\n",
       "      <td>F</td>\n",
       "      <td>111 Green Pl, Elgin,IL</td>\n",
       "      <td>600</td>\n",
       "      <td>90000.0</td>\n",
       "      <td>30001</td>\n",
       "      <td>2</td>\n",
       "    </tr>\n",
       "    <tr>\n",
       "      <th>6</th>\n",
       "      <td>E1007</td>\n",
       "      <td>Mary</td>\n",
       "      <td>Thomas</td>\n",
       "      <td>123412</td>\n",
       "      <td>1975-05-05</td>\n",
       "      <td>F</td>\n",
       "      <td>100 Rose Pl, Gary,IL</td>\n",
       "      <td>650</td>\n",
       "      <td>65000.0</td>\n",
       "      <td>30003</td>\n",
       "      <td>7</td>\n",
       "    </tr>\n",
       "    <tr>\n",
       "      <th>7</th>\n",
       "      <td>E1008</td>\n",
       "      <td>Bharath</td>\n",
       "      <td>Gupta</td>\n",
       "      <td>123413</td>\n",
       "      <td>1985-05-06</td>\n",
       "      <td>M</td>\n",
       "      <td>145 Berry Ln, Naperville,IL</td>\n",
       "      <td>660</td>\n",
       "      <td>65000.0</td>\n",
       "      <td>30003</td>\n",
       "      <td>7</td>\n",
       "    </tr>\n",
       "    <tr>\n",
       "      <th>8</th>\n",
       "      <td>E1009</td>\n",
       "      <td>Andrea</td>\n",
       "      <td>Jones</td>\n",
       "      <td>123414</td>\n",
       "      <td>1990-07-09</td>\n",
       "      <td>F</td>\n",
       "      <td>120 Fall Creek, Gary,IL</td>\n",
       "      <td>234</td>\n",
       "      <td>70000.0</td>\n",
       "      <td>30003</td>\n",
       "      <td>7</td>\n",
       "    </tr>\n",
       "    <tr>\n",
       "      <th>9</th>\n",
       "      <td>E1010</td>\n",
       "      <td>Ann</td>\n",
       "      <td>Jacob</td>\n",
       "      <td>123415</td>\n",
       "      <td>1982-03-30</td>\n",
       "      <td>F</td>\n",
       "      <td>111 Britany Springs,Elgin,IL</td>\n",
       "      <td>220</td>\n",
       "      <td>70000.0</td>\n",
       "      <td>30004</td>\n",
       "      <td>5</td>\n",
       "    </tr>\n",
       "  </tbody>\n",
       "</table>\n",
       "</div>"
      ],
      "text/plain": [
       "  EMP_ID   F_NAME   L_NAME     SSN      B_DATE SEX  \\\n",
       "0  E1001     John   Thomas  123456  1976-01-09   M   \n",
       "1  E1002    Alice    James  123457  1972-07-31   F   \n",
       "2  E1003    Steve    Wells  123458  1980-08-10   M   \n",
       "3  E1004  Santosh    Kumar  123459  1985-07-20   M   \n",
       "4  E1005    Ahmed  Hussain  123410  1981-01-04   M   \n",
       "5  E1006    Nancy    Allen  123411  1978-02-06   F   \n",
       "6  E1007     Mary   Thomas  123412  1975-05-05   F   \n",
       "7  E1008  Bharath    Gupta  123413  1985-05-06   M   \n",
       "8  E1009   Andrea    Jones  123414  1990-07-09   F   \n",
       "9  E1010      Ann    Jacob  123415  1982-03-30   F   \n",
       "\n",
       "                        ADDRESS JOB_ID    SALARY MANAGER_ID DEP_ID  \n",
       "0         5631 Rice, OakPark,IL    100  100000.0      30001      2  \n",
       "1        980 Berry ln, Elgin,IL    200   80000.0      30002      5  \n",
       "2          291 Springs, Gary,IL    300   50000.0      30002      5  \n",
       "3      511 Aurora Av, Aurora,IL    400   60000.0      30004      5  \n",
       "4       216 Oak Tree, Geneva,IL    500   70000.0      30001      2  \n",
       "5        111 Green Pl, Elgin,IL    600   90000.0      30001      2  \n",
       "6          100 Rose Pl, Gary,IL    650   65000.0      30003      7  \n",
       "7   145 Berry Ln, Naperville,IL    660   65000.0      30003      7  \n",
       "8       120 Fall Creek, Gary,IL    234   70000.0      30003      7  \n",
       "9  111 Britany Springs,Elgin,IL    220   70000.0      30004      5  "
      ]
     },
     "execution_count": 5,
     "metadata": {},
     "output_type": "execute_result"
    }
   ],
   "source": [
    "#print the entire data frame\n",
    "df"
   ]
  },
  {
   "cell_type": "markdown",
   "id": "streaming-mexican",
   "metadata": {},
   "source": [
    "Once the data is in a Pandas dataframe, you can do the typical pandas operations on it.\n",
    "\n",
    "For example you can use the shape method to see how many rows and columns are in the dataframe"
   ]
  },
  {
   "cell_type": "code",
   "execution_count": 6,
   "id": "decreased-white",
   "metadata": {},
   "outputs": [
    {
     "data": {
      "text/plain": [
       "(10, 11)"
      ]
     },
     "execution_count": 6,
     "metadata": {},
     "output_type": "execute_result"
    }
   ],
   "source": [
    "df.shape"
   ]
  },
  {
   "cell_type": "code",
   "execution_count": 7,
   "id": "superior-speed",
   "metadata": {},
   "outputs": [
    {
     "data": {
      "text/plain": [
       "<bound method NDFrame.describe of   EMP_ID   F_NAME   L_NAME     SSN      B_DATE SEX  \\\n",
       "0  E1001     John   Thomas  123456  1976-01-09   M   \n",
       "1  E1002    Alice    James  123457  1972-07-31   F   \n",
       "2  E1003    Steve    Wells  123458  1980-08-10   M   \n",
       "3  E1004  Santosh    Kumar  123459  1985-07-20   M   \n",
       "4  E1005    Ahmed  Hussain  123410  1981-01-04   M   \n",
       "5  E1006    Nancy    Allen  123411  1978-02-06   F   \n",
       "6  E1007     Mary   Thomas  123412  1975-05-05   F   \n",
       "7  E1008  Bharath    Gupta  123413  1985-05-06   M   \n",
       "8  E1009   Andrea    Jones  123414  1990-07-09   F   \n",
       "9  E1010      Ann    Jacob  123415  1982-03-30   F   \n",
       "\n",
       "                        ADDRESS JOB_ID    SALARY MANAGER_ID DEP_ID  \n",
       "0         5631 Rice, OakPark,IL    100  100000.0      30001      2  \n",
       "1        980 Berry ln, Elgin,IL    200   80000.0      30002      5  \n",
       "2          291 Springs, Gary,IL    300   50000.0      30002      5  \n",
       "3      511 Aurora Av, Aurora,IL    400   60000.0      30004      5  \n",
       "4       216 Oak Tree, Geneva,IL    500   70000.0      30001      2  \n",
       "5        111 Green Pl, Elgin,IL    600   90000.0      30001      2  \n",
       "6          100 Rose Pl, Gary,IL    650   65000.0      30003      7  \n",
       "7   145 Berry Ln, Naperville,IL    660   65000.0      30003      7  \n",
       "8       120 Fall Creek, Gary,IL    234   70000.0      30003      7  \n",
       "9  111 Britany Springs,Elgin,IL    220   70000.0      30004      5  >"
      ]
     },
     "execution_count": 7,
     "metadata": {},
     "output_type": "execute_result"
    }
   ],
   "source": [
    "df.describe"
   ]
  },
  {
   "cell_type": "markdown",
   "id": "outside-peoples",
   "metadata": {},
   "source": [
    "### Use Python variables as parameters in MySQL Select Query\n",
    "We often need to pass variables to SQL select query in where clause to check some conditions.\n",
    "Let’s say the application wants to fetch employees salary by giving any employee id at runtime. To handle such a requirement, we need to use a parameterized query.\n",
    "\n",
    "A `parameterized query` is a query in which placeholders `(%s)` are used for parameters and the parameter values supplied at execution time."
   ]
  },
  {
   "cell_type": "markdown",
   "id": "grand-tunisia",
   "metadata": {},
   "source": [
    "`cursor.execute(\"SELECT SALARY FROM EMPLOYEE WHERE EMP_ID = \"ID from application\")`"
   ]
  },
  {
   "cell_type": "code",
   "execution_count": 14,
   "id": "reduced-knowing",
   "metadata": {},
   "outputs": [],
   "source": [
    "import mysql.connector\n",
    "\n",
    "def get_employee_dettails(emp_id):\n",
    "    \n",
    "    try:\n",
    "        connection = mysql.connector.connect(host='localhost',\n",
    "                                             database='mydb',\n",
    "                                             user='nijat',\n",
    "                                             password='nijat123')\n",
    "        cursor = connection.cursor()\n",
    "        sql_select_query = \"\"\" SELECT * FROM EMPLOYEES WHERE EMP_ID = %s; \"\"\"\n",
    "        cursor.execute(sql_select_query,(emp_id,))\n",
    "        #fetch the result. \n",
    "        record = cursor.fetchall()\n",
    "        for row in record:\n",
    "            print(\"Employ_Id = \", row[0], )\n",
    "            print(\"F_Name = \", row[1])\n",
    "            print(\"L_Name = \", row[2])\n",
    "            print(\"SSN = \", row[3])\n",
    "            print(\"B_Date= \", row[4])\n",
    "            print(\"Sex = \", row[5])\n",
    "            print(\"Address  = \", row[6])\n",
    "            print(\"Job_ID = \", row[7])\n",
    "            print(\"Salary = \", row[8])\n",
    "            print(\"Mnager_ID = \", row[9])\n",
    "            print(\"Dep_ID = \", row[10])\n",
    "            print(\"\\n\")\n",
    "        \n",
    "        \n",
    "    except mysql.connector.Error as e:\n",
    "        print(\"Error reading data from MySQL table\", e)\n",
    "    finally:\n",
    "        if connection.is_connected():\n",
    "            connection.close()\n",
    "            cursor.close()\n",
    "            print(\"MySQL connection is closed\")"
   ]
  },
  {
   "cell_type": "markdown",
   "id": "combined-pacific",
   "metadata": {},
   "source": [
    "Now let's call the get_employee_details() function."
   ]
  },
  {
   "cell_type": "code",
   "execution_count": 15,
   "id": "acknowledged-ceramic",
   "metadata": {},
   "outputs": [
    {
     "name": "stdout",
     "output_type": "stream",
     "text": [
      "Employ_Id =  E1001\n",
      "F_Name =  John\n",
      "L_Name =  Thomas\n",
      "SSN =  123456\n",
      "B_Date=  1976-01-09\n",
      "Sex =  M\n",
      "Address  =  5631 Rice, OakPark,IL\n",
      "Job_ID =  100\n",
      "Salary =  100000.00\n",
      "Mnager_ID =  30001\n",
      "Dep_ID =  2\n",
      "\n",
      "\n",
      "MySQL connection is closed\n"
     ]
    }
   ],
   "source": [
    "get_employee_dettails('E1001')"
   ]
  },
  {
   "cell_type": "markdown",
   "id": "coupled-private",
   "metadata": {},
   "source": [
    "### Select limited rows from MySQL table using fetchmany and fetchone\n",
    "In some situations, fetching all the rows from a table is a time-consuming task if a table contains thousands of rows.\n",
    "\n",
    "If we fetch all rows, we need more space and processing time. So it is essentials to use the `fetchmany()` method of cursor class to fetch fewer rows.\n",
    "\n",
    "<b>Syntax of the cursor’s fetchmany()</b>\n",
    "\n",
    "`rows = cursor.fetchmany(size=row_size)`\n",
    "\n",
    "\n",
    "Cursor’s fetchmany() methods return the number of rows specified by size argument, defaults value of size argument is one. For example, if the specified size is 5, then it returns five rows.\n",
    "\n",
    "`Note: If a table contains a row lesser than the specified size, then fewer rows are returned.`\n",
    "\n",
    "<b>Syntax of fetchone()</b>\n",
    "\n",
    "`row = cursor.fetchone()`\n",
    "\n",
    "This method fetches the next set of rows of a query result and returns a list of tuples. If no more rows are available, it returns an empty list.\n",
    "\n",
    "This method returns a single record or None if no more rows are available.\n",
    "\n",
    "The `fetchone()` method is internally used by a `fetchall()` and `fetchmany()` to fetch rows."
   ]
  },
  {
   "cell_type": "markdown",
   "id": "greater-redhead",
   "metadata": {},
   "source": [
    "### Example to fetch fewer rows from MySQL table using cursor’s fetchmany"
   ]
  },
  {
   "cell_type": "code",
   "execution_count": 18,
   "id": "geographic-restriction",
   "metadata": {},
   "outputs": [
    {
     "name": "stdout",
     "output_type": "stream",
     "text": [
      "Total number of rows in table:  4\n",
      "Printing  4  Employee record using cursor.fetchmany\n",
      "('E1001', 'John', 'Thomas', '123456', datetime.date(1976, 1, 9), 'M', '5631 Rice, OakPark,IL', '100', Decimal('100000.00'), '30001', '2')\n",
      "('E1002', 'Alice', 'James', '123457', datetime.date(1972, 7, 31), 'F', '980 Berry ln, Elgin,IL', '200', Decimal('80000.00'), '30002', '5')\n",
      "('E1003', 'Steve', 'Wells', '123458', datetime.date(1980, 8, 10), 'M', '291 Springs, Gary,IL', '300', Decimal('50000.00'), '30002', '5')\n",
      "('E1004', 'Santosh', 'Kumar', '123459', datetime.date(1985, 7, 20), 'M', '511 Aurora Av, Aurora,IL', '400', Decimal('60000.00'), '30004', '5')\n"
     ]
    }
   ],
   "source": [
    "import mysql.connector\n",
    "\n",
    "try:\n",
    "    connection = mysql.connector.connect(host='localhost',\n",
    "                                         database='mydb',\n",
    "                                         user='nijat',\n",
    "                                         password='nijat123')\n",
    "    \n",
    "\n",
    "    sql_select_Query = \"select * from Employees;\"\n",
    "    cursor = connection.cursor()\n",
    "    cursor.execute(sql_select_Query)\n",
    "    # get all records\n",
    "    number_of_row = 4\n",
    "    records = cursor.fetchmany(number_of_row)\n",
    "    print(\"Total number of rows in table: \", cursor.rowcount)\n",
    "    print(\"Printing \", number_of_row, \" Employee record using cursor.fetchmany\")\n",
    "    for row in records:\n",
    "        print(row)\n",
    "\n",
    "except mysql.connector.Error as e:\n",
    "    print(\"Error reading data from MySQL table\", e)\n",
    "finally:\n",
    "    if connection.is_connected():\n",
    "        connection.close()\n",
    "        cursor.close()\n",
    "        print(\"MySQL connection is closed\")"
   ]
  },
  {
   "cell_type": "markdown",
   "id": "controversial-indian",
   "metadata": {},
   "source": [
    "### Fetch single row from MySQL table using cursor’s fetchone\n"
   ]
  },
  {
   "cell_type": "code",
   "execution_count": 19,
   "id": "atmospheric-whale",
   "metadata": {},
   "outputs": [
    {
     "name": "stdout",
     "output_type": "stream",
     "text": [
      "Total number of rows in table:  1\n",
      "('E1001', 'John', 'Thomas', '123456', datetime.date(1976, 1, 9), 'M', '5631 Rice, OakPark,IL', '100', Decimal('100000.00'), '30001', '2')\n"
     ]
    }
   ],
   "source": [
    "import mysql.connector\n",
    "\n",
    "try:\n",
    "    connection = mysql.connector.connect(host='localhost',\n",
    "                                         database='mydb',\n",
    "                                         user='nijat',\n",
    "                                         password='nijat123')\n",
    "    \n",
    "\n",
    "    sql_select_Query = \"select * from Employees;\"\n",
    "    cursor = connection.cursor()\n",
    "    cursor.execute(sql_select_Query)\n",
    "    record = cursor.fetchone()\n",
    "    print(\"Total number of rows in table: \", cursor.rowcount)\n",
    "    print(record)\n",
    "\n",
    "except mysql.connector.Error as e:\n",
    "    print(\"Error reading data from MySQL table\", e)\n",
    "finally:\n",
    "    if connection.is_connected():\n",
    "        connection.close()\n",
    "        cursor.close()\n",
    "        print(\"MySQL connection is closed\")"
   ]
  },
  {
   "cell_type": "markdown",
   "id": "adaptive-insert",
   "metadata": {},
   "source": [
    "### Python Fetch MySQL row using the column names\n",
    "You can also retrieve result using columns names instead of id. For example, you would like to do something like this.\n",
    "<code>\n",
    "records = cursor.fetchall()\n",
    "for row in records:\n",
    "    val1 = row[\"columnName1\"],)\n",
    "    val2 = row[\"columnName2\"])\n",
    "    val3 = row[\"columnName3\"])\n",
    "</code>\n",
    "\n",
    "If you try to fetch data using column name directly, you will receive a `TypeError: tuple indices must be integers or slices, not str`.\n",
    "\n",
    "To select records from my MySQL table using a column name, we only need to change the cursor creation. Replace the standard cursor creation with the following code, and you are ready to fetch records from my MySQL table using a column name.\n",
    "\n",
    "`cursor = connection.cursor(dictionary=True)`\n",
    "\n",
    "Why set `dictionary=True`? because MySQLCursorDict creates a cursor that returns rows as dictionaries so we can access using column name (here column name is the key of the dictionary)\n",
    "\n",
    "In the following example, I have selected all the records from my MySQL table using a column name instead of the column’s integer index.\n"
   ]
  },
  {
   "cell_type": "code",
   "execution_count": 25,
   "id": "exceptional-elite",
   "metadata": {},
   "outputs": [
    {
     "name": "stdout",
     "output_type": "stream",
     "text": [
      "Total number of rows in table:  10\n",
      "Fetching each row using column name\n",
      "Employ_Id =  E1001\n",
      "F_Name =  John\n",
      "L_Name =  Thomas\n",
      "SSN =  123456\n",
      "B_Date=  1976-01-09\n",
      "Sex =  M\n",
      "Address  =  5631 Rice, OakPark,IL\n",
      "Job_ID =  100\n",
      "Salary =  100000.00\n",
      "Mnager_ID =  30001\n",
      "Dep_ID =  2\n",
      "\n",
      "\n",
      "Employ_Id =  E1002\n",
      "F_Name =  Alice\n",
      "L_Name =  James\n",
      "SSN =  123457\n",
      "B_Date=  1972-07-31\n",
      "Sex =  F\n",
      "Address  =  980 Berry ln, Elgin,IL\n",
      "Job_ID =  200\n",
      "Salary =  80000.00\n",
      "Mnager_ID =  30002\n",
      "Dep_ID =  5\n",
      "\n",
      "\n",
      "MySQL connection is closed\n"
     ]
    }
   ],
   "source": [
    "import mysql.connector\n",
    "\n",
    "try:\n",
    "    connection = mysql.connector.connect(host='localhost',\n",
    "                                         database='mydb',\n",
    "                                         user='nijat',\n",
    "                                         password='nijat123')\n",
    "    \n",
    "\n",
    "    sql_select_Query = \"select * from Employees;\"\n",
    "    # MySQLCursorDict creates a cursor that returns rows as dictionaries\n",
    "    cursor = connection.cursor(dictionary=True)\n",
    "    cursor.execute(sql_select_Query)\n",
    "    # get all records\n",
    "    records = cursor.fetchall()\n",
    "    print(\"Total number of rows in table: \", cursor.rowcount)\n",
    "\n",
    "\n",
    "    print(\"Fetching each row using column name\")\n",
    "    ## let's print only tow rows. \n",
    "    i = 0\n",
    "    for row in records:\n",
    "        print(\"Employ_Id = \", row['EMP_ID'])\n",
    "        print(\"F_Name = \", row['F_NAME'])\n",
    "        print(\"L_Name = \", row['L_NAME'])\n",
    "        print(\"SSN = \", row['SSN'])\n",
    "        print(\"B_Date= \", row['B_DATE'])\n",
    "        print(\"Sex = \", row['SEX'])\n",
    "        print(\"Address  = \", row['ADDRESS'])\n",
    "        print(\"Job_ID = \", row['JOB_ID'])\n",
    "        print(\"Salary = \", row['SALARY'])\n",
    "        print(\"Mnager_ID = \", row['MANAGER_ID'])\n",
    "        print(\"Dep_ID = \", row['DEP_ID'])\n",
    "        print(\"\\n\")\n",
    "        i = i+1\n",
    "        if i==2:\n",
    "            break\n",
    "\n",
    "except mysql.connector.Error as e:\n",
    "    print(\"Error reading data from MySQL table\", e)\n",
    "finally:\n",
    "    if connection.is_connected():\n",
    "        connection.close()\n",
    "        cursor.close()\n",
    "        print(\"MySQL connection is closed\")"
   ]
  },
  {
   "cell_type": "markdown",
   "id": "charged-morrison",
   "metadata": {},
   "source": [
    "## Python Update MySQL Table\n",
    "We will demonstrates how to execute a `MySQL UPDATE query` from Python to modify the MySQL table’s data.\n",
    "\n",
    "### Table of contents\n",
    "- Prerequisite\n",
    "- Example to Update a row of MySQL Table\n",
    "- Use a Python variable in MySQL Update query\n",
    "- Update Multiple Rows of MySQL Table using Python\n",
    "  - Python update multiple Columns of MySQL table\n",
    "- Update Datetime and timestamp column of a MySQL table from Python"
   ]
  },
  {
   "cell_type": "markdown",
   "id": "caring-ribbon",
   "metadata": {},
   "source": [
    "#### Prerequisite \n",
    "- Username and password that you need to connect MySQL\n",
    "- MySQL database table name which you want to update\n",
    "\n",
    "### Example to Update a row of MySQL Table\n",
    "To perform a SQL UPDATE query from Python, you need to follow the following steps: –\n",
    "  1. Connect to MySQL from Python\n",
    "  2. Prepare a SQL Update Query\n",
    "     - Prepare an update statement query with data to update. FOr example, `UPDATE table_name SET column1 = value1, column2 = value2 WHERE condition`;\n",
    "  3. Execute the UPDATE query, using `cursor.execute()`\n",
    "     - Execute the UPDATE query using c`ursor.execute()` method. This method execute the operation stored in the UPDATE query.\n",
    "  4. Commit your changes\n",
    "     - Make modification persistent into a database using the commit() of a connection class.\n",
    "     \n",
    "  5. Extract the number of rows affected\n",
    "     - After a successful update operation, use a `cursor.rowcount` method to get the number of rows affected. The count depends on how many rows you are updating.\n",
    " 6. Verify result using the SQL SELECT query\n",
    " 7. Close the cursor object and database connection object\n",
    "       - use cursor.clsoe() and connection.clsoe() method to close open connections after your work completes."
   ]
  },
  {
   "cell_type": "markdown",
   "id": "tracked-lincoln",
   "metadata": {},
   "source": [
    "Let’s see the program now. In this program, we are updating a Employee table by changing the Salary column of the first row."
   ]
  },
  {
   "cell_type": "code",
   "execution_count": 33,
   "id": "toxic-monitor",
   "metadata": {},
   "outputs": [
    {
     "name": "stdout",
     "output_type": "stream",
     "text": [
      "Before updating the record.\n",
      "EMP_ID E1001\n",
      "Salary: 100000.00\n",
      "After updating the record.\n",
      "EMP_ID E1001\n",
      "Salary: 200000.00\n",
      "MySQL connection is closed\n"
     ]
    }
   ],
   "source": [
    "import mysql.connector\n",
    "\n",
    "try:\n",
    "    connection = mysql.connector.connect(host='localhost',\n",
    "                                         database='mydb',\n",
    "                                         user='nijat',\n",
    "                                         password='nijat123')\n",
    "    \n",
    "\n",
    "    sql_select_query = \"\"\"select * from Employees Where EMP_ID = 'E1001';\"\"\"\n",
    "    # MySQLCursorDict creates a cursor that returns rows as dictionaries\n",
    "    cursor = connection.cursor(dictionary=True)\n",
    "    cursor.execute(sql_select_query)\n",
    "    record = cursor.fetchall()\n",
    "    print(\"Before updating the record.\")\n",
    "    for row in record:\n",
    "        print(\"EMP_ID\",row['EMP_ID'])\n",
    "        print(\"Salary:\",row['SALARY'])\n",
    "\n",
    "    # let's update the salary for the employee with the id E10001\n",
    "    sql_update_query = \"\"\" update employees set SALARY = 200000 where EMP_ID = 'E1001';\"\"\"\n",
    "    cursor.execute(sql_update_query)\n",
    "    connection.commit()\n",
    "    \n",
    "    sql_select_query = \"\"\"select * from Employees Where EMP_ID = 'E1001';\"\"\"\n",
    "    # MySQLCursorDict creates a cursor that returns rows as dictionaries\n",
    "    cursor = connection.cursor(dictionary=True)\n",
    "    cursor.execute(sql_select_query)\n",
    "    record1 = cursor.fetchall()\n",
    "    print(\"After updating the record.\")\n",
    "    for row in record1:\n",
    "        print(\"EMP_ID\",row['EMP_ID'])\n",
    "        print(\"Salary:\",row['SALARY'])\n",
    "        \n",
    "        \n",
    "except mysql.connector.Error as e:\n",
    "    print(\"Error reading data from MySQL table\", e)\n",
    "finally:\n",
    "    if connection.is_connected():\n",
    "        connection.close()\n",
    "        cursor.close()\n",
    "        print(\"MySQL connection is closed\")"
   ]
  },
  {
   "cell_type": "markdown",
   "id": "small-penetration",
   "metadata": {},
   "source": [
    "### Use a Python variable in MySQL Update query\n",
    "Sometimes we need input from the user, such as when users update their password or any other details through User Interface. Or when you want to update details dynamically by passing Python variables into a query. Such as setting column value using the variable.\n",
    "\n",
    "It is always best practice to use parameterized query and prepared statement, i.e., placeholders ( %s ) inside any SQL statements that contain input from users. This helps us prevent SQL injection and other SQL issues."
   ]
  },
  {
   "cell_type": "markdown",
   "id": "through-alpha",
   "metadata": {},
   "source": [
    "## Example "
   ]
  },
  {
   "cell_type": "code",
   "execution_count": 40,
   "id": "mature-suicide",
   "metadata": {},
   "outputs": [],
   "source": [
    "import mysql.connector\n",
    "\n",
    "def update_employee_dettails(emp_id,address):\n",
    "    \n",
    "    try:\n",
    "        connection = mysql.connector.connect(host='localhost',\n",
    "                                             database='mydb',\n",
    "                                             user='nijat',\n",
    "                                             password='nijat123')\n",
    "        cursor = connection.cursor()\n",
    "        sql_update_query = \"\"\" UPDATE EMPLOYEES SET ADDRESS = %s WHERE EMP_ID = %s; \"\"\"\n",
    "        #input_date = (address,emp_id)\n",
    "        #cursor.execute(sql_update_query,input_date)\n",
    "        cursor.execute(sql_update_query,(address,emp_id))\n",
    "        connection.commit()\n",
    "        print(\"Record Updated successfully \")\n",
    "        \n",
    "    \n",
    "        \n",
    "    except mysql.connector.Error as e:\n",
    "        print(\"Error reading data from MySQL table\", e)\n",
    "    finally:\n",
    "        if connection.is_connected():\n",
    "            connection.close()\n",
    "            cursor.close()\n",
    "            print(\"MySQL connection is closed\")"
   ]
  },
  {
   "cell_type": "markdown",
   "id": "personal-mercy",
   "metadata": {},
   "source": [
    "Now let's call the update_employee_details functions. "
   ]
  },
  {
   "cell_type": "code",
   "execution_count": 41,
   "id": "interior-voltage",
   "metadata": {},
   "outputs": [
    {
     "name": "stdout",
     "output_type": "stream",
     "text": [
      "Record Updated successfully \n",
      "MySQL connection is closed\n"
     ]
    }
   ],
   "source": [
    "update_employee_dettails(\"E1001\",\"Kabul Afghanistan\")"
   ]
  },
  {
   "cell_type": "markdown",
   "id": "secret-fruit",
   "metadata": {},
   "source": [
    "Let's see the result \n",
    "\n",
    "<img src = 'result2.png'>"
   ]
  },
  {
   "cell_type": "markdown",
   "id": "solid-cable",
   "metadata": {},
   "source": [
    "Let’s understand the above program: –\n",
    "- We used the prepared statement to accept user input using a placeholder, i.e., we put two placeholders in the update query, one for the Address column and the other is for the” Emp_id” column.\n",
    "- Next, we added those two columns value in the tuple format in sequential order and passed SQL update query and input tuple to the `cursor.execute()` method. Remember tuple contains user data in the sequential order of placeholders.\n",
    "- In the end, we are committing our changes to the database using the `connection.commit()`."
   ]
  },
  {
   "cell_type": "markdown",
   "id": "smoking-playing",
   "metadata": {},
   "source": [
    "### Update Multiple Rows of MySQL Table using Python"
   ]
  },
  {
   "cell_type": "markdown",
   "id": "durable-going",
   "metadata": {},
   "source": [
    "It is possible to update multiple rows in a single SQL Query. You can also call it a bulk update. Use the `cursor.executemany()` method of cursor object to update multiple rows of a table.\n",
    "\n",
    "The syntax of the `executemany()` method\n",
    "\n",
    "`cursor.executemany(operation, seq_of_params)`\n",
    "This method executes operation against all parameter sequences in the sequence `seq_of_params` argument."
   ]
  },
  {
   "cell_type": "code",
   "execution_count": 45,
   "id": "dependent-boston",
   "metadata": {},
   "outputs": [
    {
     "name": "stdout",
     "output_type": "stream",
     "text": [
      "Record Updated successfully \n",
      "0 Records of a laptop table updated successfully\n",
      "MySQL connection is closed\n"
     ]
    }
   ],
   "source": [
    "try:\n",
    "    connection = mysql.connector.connect(host='localhost',\n",
    "                                             database='mydb',\n",
    "                                             user='nijat',\n",
    "                                             password='nijat123')\n",
    "    cursor = connection.cursor()\n",
    "    sql_update_query = \"\"\" UPDATE EMPLOYEES SET ADDRESS = %s WHERE EMP_ID = %s; \"\"\"\n",
    "    input_date = [(\"India Bangalore\",'E1008'),(\"India, Goa\",'E1009')]\n",
    "    #cursor.execute(sql_update_query,input_date)\n",
    "    cursor.executemany(sql_update_query,input_date)\n",
    "    connection.commit()\n",
    "    print(\"Record Updated successfully \")\n",
    "    print(cursor.rowcount, \"Records of a laptop table updated successfully\")\n",
    "        \n",
    "    \n",
    "        \n",
    "except mysql.connector.Error as e:\n",
    "    print(\"Error reading data from MySQL table\", e)\n",
    "finally:\n",
    "    if connection.is_connected():\n",
    "        connection.close()\n",
    "        cursor.close()\n",
    "        print(\"MySQL connection is closed\")"
   ]
  },
  {
   "cell_type": "markdown",
   "id": "novel-field",
   "metadata": {},
   "source": [
    "let's see the result. \n",
    "\n",
    "<img src ='result3.png'>"
   ]
  },
  {
   "cell_type": "markdown",
   "id": "accompanied-stations",
   "metadata": {},
   "source": [
    "### Python update multiple Columns of MySQL table\n",
    "\n",
    "its almost same as to update a single row in table just change the sql query \n"
   ]
  },
  {
   "cell_type": "code",
   "execution_count": 51,
   "id": "satisfactory-eugene",
   "metadata": {},
   "outputs": [
    {
     "name": "stdout",
     "output_type": "stream",
     "text": [
      "Record Updated successfully \n",
      "1 Records of a laptop table updated successfully\n",
      "MySQL connection is closed\n"
     ]
    }
   ],
   "source": [
    "try:\n",
    "    connection = mysql.connector.connect(host='localhost',\n",
    "                                             database='mydb',\n",
    "                                             user='nijat',\n",
    "                                             password='nijat123')\n",
    "    address = \"Us Virginia\"\n",
    "    sex = 'M'\n",
    "    salary = 5000000\n",
    "    emp_id = 'E1001'\n",
    "    \n",
    "    update_data = (address,sex,salary,emp_id)\n",
    "    cursor = connection.cursor()\n",
    "    sql_update_query = \"\"\" UPDATE EMPLOYEES SET ADDRESS = %s, SEX = %s, SALARY = %s WHERE EMP_ID = %s;\"\"\"\n",
    "    cursor.execute(sql_update_query,update_data)\n",
    "    connection.commit()\n",
    "    print(\"Record Updated successfully \")\n",
    "    print(cursor.rowcount, \"Records of a laptop table updated successfully\")\n",
    "        \n",
    "    \n",
    "        \n",
    "except mysql.connector.Error as e:\n",
    "    print(\"Error reading data from MySQL table\", e)\n",
    "finally:\n",
    "    if connection.is_connected():\n",
    "        connection.close()\n",
    "        cursor.close()\n",
    "        print(\"MySQL connection is closed\")"
   ]
  },
  {
   "cell_type": "markdown",
   "id": "fundamental-stadium",
   "metadata": {},
   "source": [
    "let's check the result. \n",
    "\n",
    "<img src = 'result4.png'>"
   ]
  },
  {
   "cell_type": "markdown",
   "id": "round-journalist",
   "metadata": {},
   "source": [
    "### Update Datetime and timestamp column of a MySQL table from Python"
   ]
  },
  {
   "cell_type": "markdown",
   "id": "solar-capture",
   "metadata": {},
   "source": [
    "Suppose you have a date column in a MySQL table and you want to update a datetime.datetime() object into this column. Let’s see how to prepare an update query to update the datetime column of a table"
   ]
  },
  {
   "cell_type": "code",
   "execution_count": 53,
   "id": "environmental-consistency",
   "metadata": {},
   "outputs": [
    {
     "name": "stdout",
     "output_type": "stream",
     "text": [
      "Record Updated successfully \n",
      "1 Records of a laptop table updated successfully\n",
      "MySQL connection is closed\n"
     ]
    }
   ],
   "source": [
    "import mysql.connector\n",
    "from datetime import datetime\n",
    "\n",
    "try:\n",
    "    connection = mysql.connector.connect(host='localhost',\n",
    "                                             database='mydb',\n",
    "                                             user='nijat',\n",
    "                                             password='nijat123')\n",
    "  \n",
    "    emp_id = 'E1001'\n",
    "    current_Date = datetime.now()\n",
    "    formatted_date = current_Date.strftime('%Y-%m-%d %H:%M:%S')\n",
    "    \n",
    "    update_data = (formatted_date,emp_id)\n",
    "    cursor = connection.cursor()\n",
    "    sql_update_query = \"\"\" UPDATE EMPLOYEES SET B_DATE = %s WHERE EMP_ID = %s;\"\"\"\n",
    "    cursor.execute(sql_update_query,update_data)\n",
    "    connection.commit()\n",
    "    print(\"Record Updated successfully \")\n",
    "    print(cursor.rowcount, \"Records of a laptop table updated successfully\")\n",
    "        \n",
    "    \n",
    "        \n",
    "except mysql.connector.Error as e:\n",
    "    print(\"Error reading data from MySQL table\", e)\n",
    "finally:\n",
    "    if connection.is_connected():\n",
    "        connection.close()\n",
    "        cursor.close()\n",
    "        print(\"MySQL connection is closed\")"
   ]
  },
  {
   "cell_type": "markdown",
   "id": "useful-cabin",
   "metadata": {},
   "source": [
    "let's check the result \n",
    "\n",
    "<img src='result5.PNG'>"
   ]
  },
  {
   "cell_type": "markdown",
   "id": "hazardous-convergence",
   "metadata": {},
   "source": [
    "### Python Delete data from MySQL Table"
   ]
  },
  {
   "cell_type": "markdown",
   "id": "infrared-liechtenstein",
   "metadata": {},
   "source": [
    "We will demonstrates how to execute the SQL DELETE query from Python to delete data from a MySQL database table.\n",
    "### Table of contents\n",
    "- Prerequisites\n",
    "- Python Example to Delete a Single Row from a MySQL table\n",
    "- Use Python Variable in a SQL query to delete data from the table\n",
    "- Python Delete Multiple Rows from a MySQL Table\n",
    "- Delete All rows from a table in Python\n",
    "- Delete MySQL Table and Database from Python\n",
    "- Delete MySQL Table column from Python\n",
    "\n",
    "\n",
    "#### Prerequisites\n",
    "- Username and password to connect MySQL\n",
    "- MySQL table name in which you want to insert data.\n",
    "\n"
   ]
  },
  {
   "cell_type": "markdown",
   "id": "heavy-ceremony",
   "metadata": {},
   "source": [
    "### Python Example to Delete a Single Row from a MySQL table"
   ]
  },
  {
   "cell_type": "markdown",
   "id": "statewide-spell",
   "metadata": {},
   "source": [
    "  1. Connect to MySQL from Python\n",
    "  2. Prepare a SQL Delete Query\n",
    "     - Next, prepare a SQL delete query to delete a row from a table. Delete query contains the row to be deleted based on a condition placed in where clause of a query.\n",
    "       For example, `DELETE FROM MySQL_table WHERE id=10;`.\n",
    "  3. Get Cursor Object from Connection\n",
    "     - Next, use a `connection.cursor()` method to create a cursor object. This method creates a new `MySQLCursor` object.\n",
    "  4. Execute the delete query using `execute()` method\n",
    "     - Execute the delete query using the `cursor.execute()` method. This method executes the operation stored in the delete query.\n",
    "        After a successful delete operation, the `execute()` method returns us the number of rows affected.\n",
    "     \n",
    "  5. Commit your changes\n",
    "     - After successfully executing a delete operation, make changes persistent into a database using the `commit()` of a connection class.\n",
    "  6. Get the number of rows affected\n",
    "      - Use a cursor.rowcount method to get the number of rows affected. The count depends on how many rows you are deleting.\n",
    " 7. Verify result using the SQL SELECT query\n",
    " \n",
    " 8. Close the cursor object and database connection object\n",
    "       - use `cursor.clsoe()` and `connection.clsoe()` method to close open connections after your work completes."
   ]
  },
  {
   "cell_type": "markdown",
   "id": "institutional-petersburg",
   "metadata": {},
   "source": [
    "let's delete the following row from table. \n",
    "\n",
    "<img src = 'result6.png'>\n",
    "\n",
    "We will delete the recored from the employee table with the id `E1005`."
   ]
  },
  {
   "cell_type": "code",
   "execution_count": 54,
   "id": "patient-romantic",
   "metadata": {},
   "outputs": [
    {
     "name": "stdout",
     "output_type": "stream",
     "text": [
      "Record Deleted successfully \n",
      "MySQL connection is closed\n"
     ]
    }
   ],
   "source": [
    "import mysql.connector\n",
    "\n",
    "try: \n",
    "    connection = mysql.connector.connect(host='localhost',\n",
    "                                         database='mydb',\n",
    "                                         user='nijat',\n",
    "                                         password='nijat123')\n",
    "    cursor = connection.cursor()\n",
    "    sql_delete_query = \"\"\" DELETE FROM EMPLOYEES WHERE EMP_ID = %s;\"\"\"\n",
    "    emp_id = 'E1005'\n",
    "    cursor.execute(sql_delete_query,(emp_id,))\n",
    "    connection.commit()\n",
    "    print(\"Record Deleted successfully \")\n",
    "except mysql.connector.Error as error:\n",
    "    print(\"Failed to Delete record from table: {}\".format(error))\n",
    "finally:\n",
    "    if connection.is_connected():\n",
    "        cursor.close()\n",
    "        connection.close()\n",
    "        print(\"MySQL connection is closed\")\n",
    "        "
   ]
  },
  {
   "cell_type": "markdown",
   "id": "metallic-malta",
   "metadata": {},
   "source": [
    "Now let's look at the result\n",
    "\n",
    "<img src='result7.png'>\n",
    "\n",
    "We can see that we don't have record witht the EMP_ID = 'E1005'.\n"
   ]
  },
  {
   "cell_type": "markdown",
   "id": "about-selling",
   "metadata": {},
   "source": [
    "### Python Delete Multiple Rows from a MySQL Table\n",
    "\n",
    "Sometimes we need to delete an N-number of rows that match a specific condition. For example, you want to delete employee data from the employee table who left the organization. You can delete multiple rows from the MySQL table using a single delete SQL Query in Python.\n",
    "\n",
    "Now let's delete the employees with the EMP_ID E1006 and E1007, from the employee table."
   ]
  },
  {
   "cell_type": "code",
   "execution_count": 55,
   "id": "graduate-utilization",
   "metadata": {},
   "outputs": [
    {
     "name": "stdout",
     "output_type": "stream",
     "text": [
      "2  Record Deleted successfully. \n",
      "MySQL connection is closed\n"
     ]
    }
   ],
   "source": [
    "import mysql.connector\n",
    "\n",
    "try: \n",
    "    connection = mysql.connector.connect(host='localhost',\n",
    "                                         database='mydb',\n",
    "                                         user='nijat',\n",
    "                                         password='nijat123')\n",
    "    cursor = connection.cursor()\n",
    "    sql_delete_query = \"\"\" DELETE FROM EMPLOYEES WHERE EMP_ID = %s;\"\"\"\n",
    "    records_to_delete = [('E1006',),('E1007',)]\n",
    "    cursor.executemany(sql_delete_query,records_to_delete)\n",
    "    connection.commit()\n",
    "    print(cursor.rowcount,\" Record Deleted successfully. \")\n",
    "except mysql.connector.Error as error:\n",
    "    print(\"Failed to Delete record from table: {}\".format(error))\n",
    "finally:\n",
    "    if connection.is_connected():\n",
    "        cursor.close()\n",
    "        connection.close()\n",
    "        print(\"MySQL connection is closed\")\n",
    "        "
   ]
  },
  {
   "cell_type": "markdown",
   "id": "million-courage",
   "metadata": {},
   "source": [
    "Now let's look at the result\n",
    "\n",
    "<img src='result8.png'>\n",
    "\n",
    "We can see that we don't have record witht the EMP_ID = 'E1006' and E1007."
   ]
  },
  {
   "cell_type": "markdown",
   "id": "personalized-nickname",
   "metadata": {},
   "source": [
    "Similarly we can do the following in the same manaer just change the query. \n",
    "- Delete All rows from a table in Python\n",
    "- Delete MySQL Table and Database from Python\n",
    "- Delete MySQL Table column from Python"
   ]
  },
  {
   "cell_type": "markdown",
   "id": "charged-pressing",
   "metadata": {},
   "source": [
    "### Python Execute MySQL Stored Procedure"
   ]
  },
  {
   "cell_type": "markdown",
   "id": "stunning-footwear",
   "metadata": {},
   "source": [
    "We will demonstrate how to execute `MySQL stored procedures` in Python.\n",
    "\n",
    "### Table of contents\n",
    "- Prerequisites\n",
    "- Steps to execute MySQL Stored Procedure in Python\n",
    "- Cursor callproc() Method\n",
    "#### Prerequisites\n",
    "- uername and password that you need to connect to MySQL\n",
    "- MySQL stored procedure name which you want to call.\n",
    "\n",
    " I have created a stored procedure get_employees under the “mydb” database. This procedure fetches employees details from the Laptop table based on the laptop id passed as an IN parameter.\n",
    " \n",
    "`open the MySQL console and run the below query to create a MySQL Stored Procedure`.\n",
    "\n",
    "<code>\n",
    "DELIMITER //\n",
    "\n",
    "CREATE PROCEDURE GetAllEmployys()\n",
    "BEGIN\n",
    "\tSELECT *  FROM employees;\n",
    "END //\n",
    "\n",
    "DELIMITER ;</code>"
   ]
  },
  {
   "cell_type": "markdown",
   "id": "official-hypothesis",
   "metadata": {},
   "source": [
    "## Steps to execute MySQL Stored Procedure in Python\n",
    "1. Connect to MySQL from Python\n",
    "     - Refer to Python MySQL database connection to connect to MySQL database from Python using MySQL Connector module\n",
    "\n",
    "2. Get Cursor Object from Connection\n",
    "     - Next, use a connection.cursor() method to create a cursor object. This method creates a new MySQLCursor object.\n",
    "\n",
    " 3. Execute the stored procedure\n",
    "       - Execute the stored procedure using the `cursor.callproc()`. here, you must know the stored procedure name and its IN and OUT parameters. For example, `cursor.callproc('get_employee',[1,])`\n",
    "\n",
    "4. Fetch results\n",
    "    - Once the stored procedure executes successfully, we can extract the result using a `cursor.stored_results()`\n",
    "\n",
    "5. Close the cursor object and database connection object\n",
    "     - use `cursor.clsoe()` and `connection.clsoe()` method to close open connections after your work completes."
   ]
  },
  {
   "cell_type": "code",
   "execution_count": 62,
   "id": "emotional-short",
   "metadata": {},
   "outputs": [
    {
     "name": "stdout",
     "output_type": "stream",
     "text": [
      "Printing employees details\n",
      "('E1001', 'John', 'Thomas', '123456', datetime.date(2021, 7, 14), 'M', 'Us Virginia', '100', Decimal('5000000.00'), '30001', '2')\n",
      "MySQL connection is closed\n"
     ]
    }
   ],
   "source": [
    "import mysql.connector\n",
    "\n",
    "\n",
    "    \n",
    "try:\n",
    "    connection = mysql.connector.connect(host='localhost',\n",
    "                                             database='mydb',\n",
    "                                             user='nijat',\n",
    "                                             password='nijat123')\n",
    "    cursor = connection.cursor()\n",
    "        \n",
    "    cursor.callproc('GetAllEmployys')\n",
    "    # print results\n",
    "    print(\"Printing employees details\")\n",
    "    for result in cursor.stored_results():\n",
    "        print(result.fetchone())\n",
    "        \n",
    "    \n",
    "        \n",
    "except mysql.connector.Error as e:\n",
    "    print(\"Error reading data from MySQL table\", e)\n",
    "finally:\n",
    "    if connection.is_connected():\n",
    "        connection.close()\n",
    "        cursor.close()\n",
    "        print(\"MySQL connection is closed\")\n",
    "            \n",
    "            "
   ]
  },
  {
   "cell_type": "markdown",
   "id": "paperback-diagnosis",
   "metadata": {},
   "source": [
    "### Cursor callproc() Method"
   ]
  },
  {
   "cell_type": "markdown",
   "id": "expanded-coordinate",
   "metadata": {},
   "source": [
    "### Syntax\n",
    "\n",
    "result_args = cursor.callproc(proc_name, args=())\n",
    "The `callproc()` method calls the stored procedure mentioned in the `proc_name` argument. The args sequence of parameters must contain one entry for each argument that the procedure expects. For example, the procedure can have one or many IN and OUT parameters.\n",
    "\n",
    "The callproc() returns a modified copy of the input sequence. This method doesn’t change the input parameters. However, It can replace the output and input/output parameters with new values as per the execution result.\n",
    "\n",
    "The stored procedure returns the output in result sets, and It is automatically fetched and stored as MySQLCursorBuffered instances.\n",
    "\n",
    "For example, a stored procedure “addition” takes two parameters, adds the values, and returns the sum."
   ]
  },
  {
   "cell_type": "markdown",
   "id": "decimal-grave",
   "metadata": {},
   "source": [
    "<code>\n",
    "CREATE PROCEDURE add_num(IN num1 INT, IN num2 INT, OUT sum INT)\n",
    "BEGIN\n",
    "SET sum := num1 + num2;\n",
    "END;\n",
    "</code>`"
   ]
  },
  {
   "cell_type": "markdown",
   "id": "ahead-transportation",
   "metadata": {},
   "source": [
    "# Thank you \n",
    "for more to explore please visite <a href='https://pynative.com/python-database-connection-pooling-with-mysql/'>This</a>."
   ]
  },
  {
   "cell_type": "code",
   "execution_count": null,
   "id": "continuing-indiana",
   "metadata": {},
   "outputs": [],
   "source": []
  }
 ],
 "metadata": {
  "kernelspec": {
   "display_name": "Python 3",
   "language": "python",
   "name": "python3"
  },
  "language_info": {
   "codemirror_mode": {
    "name": "ipython",
    "version": 3
   },
   "file_extension": ".py",
   "mimetype": "text/x-python",
   "name": "python",
   "nbconvert_exporter": "python",
   "pygments_lexer": "ipython3",
   "version": "3.8.8"
  }
 },
 "nbformat": 4,
 "nbformat_minor": 5
}
