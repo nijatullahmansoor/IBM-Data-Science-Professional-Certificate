{
 "cells": [
  {
   "cell_type": "code",
   "execution_count": 1,
   "metadata": {},
   "outputs": [],
   "source": [
    "%load_ext sql"
   ]
  },
  {
   "cell_type": "code",
   "execution_count": 2,
   "metadata": {},
   "outputs": [
    {
     "data": {
      "text/plain": [
       "'Connected: xvf28527@BLUDB'"
      ]
     },
     "execution_count": 2,
     "metadata": {},
     "output_type": "execute_result"
    }
   ],
   "source": [
    "%sql ibm_db_sa://xvf28527:dpt%5Ewh8wd36hbz54@dashdb-txn-sbox-yp-lon02-13.services.eu-gb.bluemix.net:50000/BLUDB"
   ]
  },
  {
   "cell_type": "markdown",
   "metadata": {},
   "source": [
    "### Question 1\n",
    "## --Write and execute a SQL query to list the school names, community names, and average attendance for communities with a hardship index of 98."
   ]
  },
  {
   "cell_type": "code",
   "execution_count": 3,
   "metadata": {},
   "outputs": [
    {
     "name": "stdout",
     "output_type": "stream",
     "text": [
      " * ibm_db_sa://xvf28527:***@dashdb-txn-sbox-yp-lon02-13.services.eu-gb.bluemix.net:50000/BLUDB\n",
      "Done.\n"
     ]
    },
    {
     "data": {
      "text/html": [
       "<table>\n",
       "    <thead>\n",
       "        <tr>\n",
       "            <th>community_area_name</th>\n",
       "            <th>name_of_school</th>\n",
       "            <th>average_student_attendance</th>\n",
       "        </tr>\n",
       "    </thead>\n",
       "    <tbody>\n",
       "        <tr>\n",
       "            <td>RIVERDALE</td>\n",
       "            <td>George Washington Carver Military Academy High School</td>\n",
       "            <td>91.60%</td>\n",
       "        </tr>\n",
       "        <tr>\n",
       "            <td>RIVERDALE</td>\n",
       "            <td>George Washington Carver Primary School</td>\n",
       "            <td>90.90%</td>\n",
       "        </tr>\n",
       "        <tr>\n",
       "            <td>RIVERDALE</td>\n",
       "            <td>Ira F Aldridge Elementary School</td>\n",
       "            <td>92.90%</td>\n",
       "        </tr>\n",
       "        <tr>\n",
       "            <td>RIVERDALE</td>\n",
       "            <td>William E B Dubois Elementary School</td>\n",
       "            <td>93.30%</td>\n",
       "        </tr>\n",
       "    </tbody>\n",
       "</table>"
      ],
      "text/plain": [
       "[('RIVERDALE', 'George Washington Carver Military Academy High School', '91.60%'),\n",
       " ('RIVERDALE', 'George Washington Carver Primary School', '90.90%'),\n",
       " ('RIVERDALE', 'Ira F Aldridge Elementary School', '92.90%'),\n",
       " ('RIVERDALE', 'William E B Dubois Elementary School', '93.30%')]"
      ]
     },
     "execution_count": 3,
     "metadata": {},
     "output_type": "execute_result"
    }
   ],
   "source": [
    "%%sql \n",
    "\n",
    "\n",
    "select sc.COMMUNITY_AREA_NAME,sc.NAME_OF_SCHOOL,sc.AVERAGE_STUDENT_ATTENDANCE\n",
    "from CHICAGO_PUBLIC_SCHOOLS as sc \n",
    "left join CHICAGO_SOCIOECONOMIC_DATA as sd\n",
    "on sd.COMMUNITY_AREA_NUMBER= sc.COMMUNITY_AREA_NUMBER\n",
    "where sd.HARDSHIP_INDEX = 98;\n"
   ]
  },
  {
   "cell_type": "markdown",
   "metadata": {},
   "source": [
    "### Question 2\n",
    "### Write and execute a SQL query to list all crimes that took place at a school. Include case number, crime type and community name."
   ]
  },
  {
   "cell_type": "code",
   "execution_count": 4,
   "metadata": {},
   "outputs": [
    {
     "name": "stdout",
     "output_type": "stream",
     "text": [
      " * ibm_db_sa://xvf28527:***@dashdb-txn-sbox-yp-lon02-13.services.eu-gb.bluemix.net:50000/BLUDB\n",
      "Done.\n"
     ]
    },
    {
     "data": {
      "text/html": [
       "<table>\n",
       "    <thead>\n",
       "        <tr>\n",
       "            <th>case_number</th>\n",
       "            <th>primary_type</th>\n",
       "            <th>community_area_name</th>\n",
       "        </tr>\n",
       "    </thead>\n",
       "    <tbody>\n",
       "        <tr>\n",
       "            <td>HK577020</td>\n",
       "            <td>NARCOTICS</td>\n",
       "            <td>Rogers Park</td>\n",
       "        </tr>\n",
       "        <tr>\n",
       "            <td>HL725506</td>\n",
       "            <td>BATTERY</td>\n",
       "            <td>Lincoln Square</td>\n",
       "        </tr>\n",
       "        <tr>\n",
       "            <td>HH639427</td>\n",
       "            <td>BATTERY</td>\n",
       "            <td>Austin</td>\n",
       "        </tr>\n",
       "        <tr>\n",
       "            <td>HS200939</td>\n",
       "            <td>CRIMINAL DAMAGE</td>\n",
       "            <td>Austin</td>\n",
       "        </tr>\n",
       "        <tr>\n",
       "            <td>HT315369</td>\n",
       "            <td>ASSAULT</td>\n",
       "            <td>East Garfield Park</td>\n",
       "        </tr>\n",
       "        <tr>\n",
       "            <td>HP716225</td>\n",
       "            <td>BATTERY</td>\n",
       "            <td>Douglas</td>\n",
       "        </tr>\n",
       "        <tr>\n",
       "            <td>HL353697</td>\n",
       "            <td>BATTERY</td>\n",
       "            <td>South Shore</td>\n",
       "        </tr>\n",
       "        <tr>\n",
       "            <td>HS305355</td>\n",
       "            <td>NARCOTICS</td>\n",
       "            <td>Brighton Park</td>\n",
       "        </tr>\n",
       "        <tr>\n",
       "            <td>JA460432</td>\n",
       "            <td>BATTERY</td>\n",
       "            <td>Ashburn</td>\n",
       "        </tr>\n",
       "        <tr>\n",
       "            <td>HR585012</td>\n",
       "            <td>CRIMINAL TRESPASS</td>\n",
       "            <td>Ashburn</td>\n",
       "        </tr>\n",
       "    </tbody>\n",
       "</table>"
      ],
      "text/plain": [
       "[('HK577020', 'NARCOTICS', 'Rogers Park'),\n",
       " ('HL725506', 'BATTERY', 'Lincoln Square'),\n",
       " ('HH639427', 'BATTERY', 'Austin'),\n",
       " ('HS200939', 'CRIMINAL DAMAGE', 'Austin'),\n",
       " ('HT315369', 'ASSAULT', 'East Garfield Park'),\n",
       " ('HP716225', 'BATTERY', 'Douglas'),\n",
       " ('HL353697', 'BATTERY', 'South Shore'),\n",
       " ('HS305355', 'NARCOTICS', 'Brighton Park'),\n",
       " ('JA460432', 'BATTERY', 'Ashburn'),\n",
       " ('HR585012', 'CRIMINAL TRESPASS', 'Ashburn')]"
      ]
     },
     "execution_count": 4,
     "metadata": {},
     "output_type": "execute_result"
    }
   ],
   "source": [
    "%%sql \n",
    "select cr.case_number, cr.primary_type,cd.COMMUNITY_AREA_NAME\n",
    "from chicago_crime_data as cr\n",
    "right join CHICAGO_SOCIOECONOMIC_DATA as cd\n",
    "on cr.COMMUNITY_AREA_NUMBER= cd.COMMUNITY_AREA_NUMBER\n",
    "where cr.LOCATION_DESCRIPTION like 'SCHOOL%';"
   ]
  },
  {
   "cell_type": "markdown",
   "metadata": {},
   "source": [
    "# Exercise 2: Creating a View"
   ]
  },
  {
   "cell_type": "markdown",
   "metadata": {},
   "source": [
    "For privacy reasons, you have been asked to create a view that enables users to select just the school name and the icon fields from the CHICAGO_PUBLIC_SCHOOLS table. By providing a view, you can ensure that users cannot see the actual scores given to a school, just the icon associated with their score. You should define new names for the view columns to obscure the use of scores and icons in the original table."
   ]
  },
  {
   "cell_type": "markdown",
   "metadata": {},
   "source": [
    "## Question 1\n",
    "Write and execute a SQL statement to create a view showing the columns listed in the following table, with new column names as shown in the second column"
   ]
  },
  {
   "cell_type": "code",
   "execution_count": 10,
   "metadata": {},
   "outputs": [
    {
     "name": "stdout",
     "output_type": "stream",
     "text": [
      " * ibm_db_sa://xvf28527:***@dashdb-txn-sbox-yp-lon02-13.services.eu-gb.bluemix.net:50000/BLUDB\n",
      "Done.\n",
      "Done.\n",
      "Done.\n"
     ]
    },
    {
     "data": {
      "text/html": [
       "<table>\n",
       "    <thead>\n",
       "        <tr>\n",
       "            <th>school_name</th>\n",
       "            <th>afety_rating</th>\n",
       "            <th>family_rating</th>\n",
       "            <th>environment_rating</th>\n",
       "            <th>instruction_rating</th>\n",
       "            <th>leaders_rating</th>\n",
       "            <th>teacher_rating</th>\n",
       "        </tr>\n",
       "    </thead>\n",
       "    <tbody>\n",
       "        <tr>\n",
       "            <td>Abraham Lincoln Elementary School</td>\n",
       "            <td>Very Strong</td>\n",
       "            <td>Very Strong</td>\n",
       "            <td>Strong</td>\n",
       "            <td>Strong</td>\n",
       "            <td>Weak</td>\n",
       "            <td>Strong</td>\n",
       "        </tr>\n",
       "        <tr>\n",
       "            <td>Adam Clayton Powell Paideia Community Academy Elementary School</td>\n",
       "            <td>Average</td>\n",
       "            <td>Strong</td>\n",
       "            <td>Strong</td>\n",
       "            <td>Very Strong</td>\n",
       "            <td>Weak</td>\n",
       "            <td>Strong</td>\n",
       "        </tr>\n",
       "        <tr>\n",
       "            <td>Adlai E Stevenson Elementary School</td>\n",
       "            <td>Strong</td>\n",
       "            <td>NDA</td>\n",
       "            <td>Average</td>\n",
       "            <td>Weak</td>\n",
       "            <td>Weak</td>\n",
       "            <td>NDA</td>\n",
       "        </tr>\n",
       "        <tr>\n",
       "            <td>Agustin Lara Elementary Academy</td>\n",
       "            <td>Average</td>\n",
       "            <td>Average</td>\n",
       "            <td>Average</td>\n",
       "            <td>Weak</td>\n",
       "            <td>Weak</td>\n",
       "            <td>Average</td>\n",
       "        </tr>\n",
       "        <tr>\n",
       "            <td>Air Force Academy High School</td>\n",
       "            <td>Average</td>\n",
       "            <td>Strong</td>\n",
       "            <td>Strong</td>\n",
       "            <td>Average</td>\n",
       "            <td>Weak</td>\n",
       "            <td>Average</td>\n",
       "        </tr>\n",
       "    </tbody>\n",
       "</table>"
      ],
      "text/plain": [
       "[('Abraham Lincoln Elementary School', 'Very Strong', 'Very Strong', 'Strong', 'Strong', 'Weak', 'Strong'),\n",
       " ('Adam Clayton Powell Paideia Community Academy Elementary School', 'Average', 'Strong', 'Strong', 'Very Strong', 'Weak', 'Strong'),\n",
       " ('Adlai E Stevenson Elementary School', 'Strong', 'NDA', 'Average', 'Weak', 'Weak', 'NDA'),\n",
       " ('Agustin Lara Elementary Academy', 'Average', 'Average', 'Average', 'Weak', 'Weak', 'Average'),\n",
       " ('Air Force Academy High School', 'Average', 'Strong', 'Strong', 'Average', 'Weak', 'Average')]"
      ]
     },
     "execution_count": 10,
     "metadata": {},
     "output_type": "execute_result"
    }
   ],
   "source": [
    "%%sql \n",
    "drop view chicago_public;\n",
    "create view chicago_public as\n",
    "select \"NAME_OF_SCHOOL\" as school_name,\"Safety_Icon\" as afety_rating,\n",
    "\"Family_Involvement_Icon\" as family_rating,\n",
    "\"Environment_Icon\" as environment_rating,\n",
    "\"Instruction_Icon\" as instruction_rating,\n",
    "\"Leaders_Icon\" as leaders_rating,\n",
    "\"Teachers_Icon\" as teacher_rating\n",
    " from CHICAGO_PUBLIC_SCHOOLS;\n",
    "\n",
    "select * from chicago_public limit 5;"
   ]
  },
  {
   "cell_type": "markdown",
   "metadata": {},
   "source": [
    "1.Write and execute a SQL statement that returns all of the columns from the view."
   ]
  },
  {
   "cell_type": "code",
   "execution_count": 12,
   "metadata": {},
   "outputs": [
    {
     "name": "stdout",
     "output_type": "stream",
     "text": [
      " * ibm_db_sa://xvf28527:***@dashdb-txn-sbox-yp-lon02-13.services.eu-gb.bluemix.net:50000/BLUDB\n",
      "Done.\n"
     ]
    },
    {
     "data": {
      "text/html": [
       "<table>\n",
       "    <thead>\n",
       "        <tr>\n",
       "            <th>school_name</th>\n",
       "            <th>afety_rating</th>\n",
       "            <th>family_rating</th>\n",
       "            <th>environment_rating</th>\n",
       "            <th>instruction_rating</th>\n",
       "            <th>leaders_rating</th>\n",
       "            <th>teacher_rating</th>\n",
       "        </tr>\n",
       "    </thead>\n",
       "    <tbody>\n",
       "        <tr>\n",
       "            <td>Abraham Lincoln Elementary School</td>\n",
       "            <td>Very Strong</td>\n",
       "            <td>Very Strong</td>\n",
       "            <td>Strong</td>\n",
       "            <td>Strong</td>\n",
       "            <td>Weak</td>\n",
       "            <td>Strong</td>\n",
       "        </tr>\n",
       "        <tr>\n",
       "            <td>Adam Clayton Powell Paideia Community Academy Elementary School</td>\n",
       "            <td>Average</td>\n",
       "            <td>Strong</td>\n",
       "            <td>Strong</td>\n",
       "            <td>Very Strong</td>\n",
       "            <td>Weak</td>\n",
       "            <td>Strong</td>\n",
       "        </tr>\n",
       "        <tr>\n",
       "            <td>Adlai E Stevenson Elementary School</td>\n",
       "            <td>Strong</td>\n",
       "            <td>NDA</td>\n",
       "            <td>Average</td>\n",
       "            <td>Weak</td>\n",
       "            <td>Weak</td>\n",
       "            <td>NDA</td>\n",
       "        </tr>\n",
       "    </tbody>\n",
       "</table>"
      ],
      "text/plain": [
       "[('Abraham Lincoln Elementary School', 'Very Strong', 'Very Strong', 'Strong', 'Strong', 'Weak', 'Strong'),\n",
       " ('Adam Clayton Powell Paideia Community Academy Elementary School', 'Average', 'Strong', 'Strong', 'Very Strong', 'Weak', 'Strong'),\n",
       " ('Adlai E Stevenson Elementary School', 'Strong', 'NDA', 'Average', 'Weak', 'Weak', 'NDA')]"
      ]
     },
     "execution_count": 12,
     "metadata": {},
     "output_type": "execute_result"
    }
   ],
   "source": [
    "%sql select * from chicago_public limit 3;"
   ]
  },
  {
   "cell_type": "markdown",
   "metadata": {},
   "source": [
    "\n",
    "\n",
    "Write and execute a SQL statement that returns just the school name and leaders rating from the view."
   ]
  },
  {
   "cell_type": "code",
   "execution_count": 18,
   "metadata": {},
   "outputs": [
    {
     "name": "stdout",
     "output_type": "stream",
     "text": [
      " * ibm_db_sa://xvf28527:***@dashdb-txn-sbox-yp-lon02-13.services.eu-gb.bluemix.net:50000/BLUDB\n",
      "Done.\n"
     ]
    },
    {
     "data": {
      "text/html": [
       "<table>\n",
       "    <thead>\n",
       "        <tr>\n",
       "            <th>school_name</th>\n",
       "            <th>leaders_rating</th>\n",
       "        </tr>\n",
       "    </thead>\n",
       "    <tbody>\n",
       "        <tr>\n",
       "            <td>Abraham Lincoln Elementary School</td>\n",
       "            <td>Weak</td>\n",
       "        </tr>\n",
       "        <tr>\n",
       "            <td>Adam Clayton Powell Paideia Community Academy Elementary School</td>\n",
       "            <td>Weak</td>\n",
       "        </tr>\n",
       "    </tbody>\n",
       "</table>"
      ],
      "text/plain": [
       "[('Abraham Lincoln Elementary School', 'Weak'),\n",
       " ('Adam Clayton Powell Paideia Community Academy Elementary School', 'Weak')]"
      ]
     },
     "execution_count": 18,
     "metadata": {},
     "output_type": "execute_result"
    }
   ],
   "source": [
    "%sql select school_name,leaders_rating from chicago_public limit 2;"
   ]
  },
  {
   "cell_type": "markdown",
   "metadata": {},
   "source": [
    "# Exercise 3: Creating a Stored Procedure"
   ]
  },
  {
   "cell_type": "markdown",
   "metadata": {},
   "source": [
    "The icon fields are calculated based on the value in the corresponding score field. You need to make sure that when a score field is updated, the icon field is updated too. To do this, you will write a stored procedure that receives the school id and a leaders score as input parameters, calculates the icon setting and updates the fields appropriately."
   ]
  },
  {
   "cell_type": "markdown",
   "metadata": {},
   "source": [
    "## Question 1\n",
    "Write the structure of a query to create or replace a stored procedure called UPDATE_LEADERS_SCORE that takes a in_School_ID parameter as an integer and a in_Leader_Score parameter as an integer. Don't forget to use the #SET TERMINATOR statement to use the @ for the CREATE statement terminator."
   ]
  },
  {
   "cell_type": "code",
   "execution_count": 27,
   "metadata": {},
   "outputs": [
    {
     "name": "stdout",
     "output_type": "stream",
     "text": [
      " * ibm_db_sa://xvf28527:***@dashdb-txn-sbox-yp-lon02-13.services.eu-gb.bluemix.net:50000/BLUDB\n",
      "(ibm_db_dbi.ProgrammingError) ibm_db_dbi::ProgrammingError: Statement Execute Failed: [IBM][CLI Driver][DB2/LINUXX8664] SQL0778N  End label \"@\" is not the same as the begin label.  LINE NUMBER=35.  SQLSTATE=428D5 SQLCODE=-778\n",
      "[SQL: --#SET TERMINATOR @\n",
      "CREATE PROCEDURE UPDATE_LEADERS_SCORE(IN in_School_ID INTEGER,in_Leader_Score INTEGER)\n",
      "LANGUAGE SQL \n",
      "MODIFIES SQL DATA \n",
      "BEGIN \n",
      "\n",
      "\tIF in_Leader_Score < 20 THEN                       \n",
      "        UPDATE CHICAGO_PUBLIC_SCHOOLS\n",
      "        SET \"Leaders_Icon\" = 'VERY_WEAK';\n",
      "     \n",
      "    ELSEIF in_Leader_Score < 40 THEN                       \n",
      "        UPDATE CHICAGO_PUBLIC_SCHOOLS\n",
      "        SET \"Leaders_Icon\" = 'WEAK';\n",
      "        \n",
      "    ELSEIF in_Leader_Score < 60 THEN                       \n",
      "        UPDATE CHICAGO_PUBLIC_SCHOOLS\n",
      "        SET  \"Leaders_Icon\" = 'AVG';\n",
      "        \n",
      "    ELSEIF in_Leader_Score < 80 THEN                       \n",
      "        UPDATE CHICAGO_PUBLIC_SCHOOLS\n",
      "        SET \"Leaders_Icon\" = 'STRONG';\n",
      "\n",
      "\t ELSEIF in_Leader_Score < 100 THEN                      \n",
      "        UPDATE CHICAGO_PUBLIC_SCHOOLS\n",
      "        SET \"Leaders_Icon\" = 'VERY_STRONG';\n",
      "        \n",
      "    ELSE\n",
      "        ROLLBACK WORK;\n",
      "\n",
      "    END IF;       \n",
      "    \n",
      "    ELSE:\n",
      "    COMMIT WORK;\n",
      "\n",
      "END \n",
      "@]\n",
      "(Background on this error at: http://sqlalche.me/e/13/f405)\n"
     ]
    }
   ],
   "source": [
    "%%sql\n",
    "--#SET TERMINATOR @\n",
    "CREATE PROCEDURE UPDATE_LEADERS_SCORE(IN in_School_ID INTEGER,in_Leader_Score INTEGER)\n",
    "LANGUAGE SQL \n",
    "MODIFIES SQL DATA \n",
    "BEGIN \n",
    "\n",
    "\tIF in_Leader_Score < 20 THEN                       \n",
    "        UPDATE CHICAGO_PUBLIC_SCHOOLS\n",
    "        SET \"Leaders_Icon\" = 'VERY_WEAK';\n",
    "     \n",
    "    ELSEIF in_Leader_Score < 40 THEN                       \n",
    "        UPDATE CHICAGO_PUBLIC_SCHOOLS\n",
    "        SET \"Leaders_Icon\" = 'WEAK';\n",
    "        \n",
    "    ELSEIF in_Leader_Score < 60 THEN                       \n",
    "        UPDATE CHICAGO_PUBLIC_SCHOOLS\n",
    "        SET  \"Leaders_Icon\" = 'AVG';\n",
    "        \n",
    "    ELSEIF in_Leader_Score < 80 THEN                       \n",
    "        UPDATE CHICAGO_PUBLIC_SCHOOLS\n",
    "        SET \"Leaders_Icon\" = 'STRONG';\n",
    "\n",
    "\t ELSEIF in_Leader_Score < 100 THEN                      \n",
    "        UPDATE CHICAGO_PUBLIC_SCHOOLS\n",
    "        SET \"Leaders_Icon\" = 'VERY_STRONG';\n",
    "        \n",
    "    ELSE\n",
    "        ROLLBACK WORK;\n",
    "\n",
    "    END IF;       \n",
    "    \n",
    "    ELSE:\n",
    "    COMMIT WORK;\n",
    "\n",
    "END \n",
    "@"
   ]
  },
  {
   "cell_type": "code",
   "execution_count": null,
   "metadata": {},
   "outputs": [],
   "source": []
  }
 ],
 "metadata": {
  "kernelspec": {
   "display_name": "Python",
   "language": "python",
   "name": "conda-env-python-py"
  },
  "language_info": {
   "codemirror_mode": {
    "name": "ipython",
    "version": 3
   },
   "file_extension": ".py",
   "mimetype": "text/x-python",
   "name": "python",
   "nbconvert_exporter": "python",
   "pygments_lexer": "ipython3",
   "version": "3.6.12"
  }
 },
 "nbformat": 4,
 "nbformat_minor": 4
}
