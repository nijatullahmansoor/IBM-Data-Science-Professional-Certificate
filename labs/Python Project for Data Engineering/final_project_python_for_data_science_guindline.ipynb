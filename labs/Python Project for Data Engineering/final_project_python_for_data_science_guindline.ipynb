{
 "cells": [
  {
   "cell_type": "markdown",
   "id": "a0d68753",
   "metadata": {},
   "source": [
    "# Project Overview"
   ]
  },
  {
   "cell_type": "markdown",
   "id": "3ca68a86",
   "metadata": {},
   "source": [
    "For this project, you will assume the role of a Data Scientist / Data Analyst working for a new startup investment firm that helps customers invest their money in stocks. Your job is to extract financial data like historical share price and quarterly revenue reportings from various sources using Python libraries and webscraping on popular stocks. After collecting this data you will visualize it in a dashboard to identify patterns or trends. The stocks we will work with are Tesla, Amazon, AMD, and GameStop"
   ]
  },
  {
   "cell_type": "markdown",
   "id": "56005489",
   "metadata": {},
   "source": [
    "# Dashboard Analytics Displayed"
   ]
  },
  {
   "cell_type": "markdown",
   "id": "85ad90ec",
   "metadata": {},
   "source": [
    "A dashboard often provides a view of key performance indicators in a clear way. Analyzing a data set and extracting key performance indicators will be practiced. Prompts will be used to support learning in accessing and displaying data in dashboards. Learning how to display key performance indicators on a dashboard will be included in this assignment. We will be using Plotly in this course for data visualization and is not a requirement to take this course."
   ]
  },
  {
   "cell_type": "markdown",
   "id": "3ff9185a",
   "metadata": {},
   "source": [
    "# Watson Studio"
   ]
  },
  {
   "cell_type": "markdown",
   "id": "5b66f4cc",
   "metadata": {},
   "source": [
    "In the Python for Data Science, AI and Development course you utilized Skills Network Labs for hands-on labs.\n",
    "\n",
    "For this project you will use Skills Network Labs and Watson Studio. Skills Network Labs is a sandbox environment for learning and completing labs in courses. Whereas Watson Studio, a component of IBM Cloud Pak for Data, is a suite of tools and a collaborative environment for data scientists, data analysts, AI and machine learning engineers and domain experts to develop and deploy your projects."
   ]
  },
  {
   "cell_type": "markdown",
   "id": "566a69d3",
   "metadata": {},
   "source": [
    "# Review criteria"
   ]
  },
  {
   "cell_type": "markdown",
   "id": "f34c2a8b",
   "metadata": {},
   "source": [
    "There are two hands-on labs on Extracting Stock Data and one assignment to complete. You will be judged by completing two quizzes and one peer review assignment. The quizzes will test you based on the output of the hands-on labs. In the peer review assignment you will share and take screen shots of the outcomes of your assignment.\n",
    "\n"
   ]
  },
  {
   "cell_type": "markdown",
   "id": "c13a6f9e",
   "metadata": {},
   "source": [
    "# Stock shares"
   ]
  },
  {
   "cell_type": "markdown",
   "id": "4d66b3eb",
   "metadata": {},
   "source": [
    "A company's  [stock](https://www.investopedia.com/terms/s/stock.asp) share is a piece of the company; more precisely:\n",
    "\n",
    "A stock (also known as equity) is a security that represents the ownership of a fraction of a [corporation ](https://www.investopedia.com/terms/c/corporation.asp). This\n",
    "entitles the owner of the stock to a proportion of the corporation's [assets](https://www.investopedia.com/terms/c/core-assets.asp) and profits equal to how much stock they own. Units of stock are called \"shares.\"[ [1]](https://www.investopedia.com/terms/s/stock.asp)\n",
    "\n",
    "An investor can buy a stock and sell it later. If the stock price increases, the investor profits, If it decreases,\n",
    "the investor with incur a loss.  Determining the stock price is complex; it depends on the number of outstanding shares, the size of the company's future profits, and much more. People trade stocks throughout the day. The stock ticker is a report of the price of a certain stock, updated continuously throughout the trading session by the various stock market exchanges. In this lab, you will use the  y-finance API to obtain the stock ticker and extract information about the stock. You will then be asked questions about your results.  "
   ]
  },
  {
   "cell_type": "code",
   "execution_count": null,
   "id": "8b0d8d5a",
   "metadata": {},
   "outputs": [],
   "source": []
  }
 ],
 "metadata": {
  "kernelspec": {
   "display_name": "Python",
   "language": "python",
   "name": "conda-env-python-py"
  },
  "language_info": {
   "codemirror_mode": {
    "name": "ipython",
    "version": 3
   },
   "file_extension": ".py",
   "mimetype": "text/x-python",
   "name": "python",
   "nbconvert_exporter": "python",
   "pygments_lexer": "ipython3",
   "version": "3.6.13"
  }
 },
 "nbformat": 4,
 "nbformat_minor": 5
}
