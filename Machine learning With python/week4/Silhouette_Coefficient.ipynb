{
 "cells": [
  {
   "cell_type": "markdown",
   "id": "architectural-humanity",
   "metadata": {},
   "source": [
    "## Silhouette Coefficient\n",
    "\n",
    "Supervised algorithms have lots of metrics to check their goodness of fit like accuracy, r-square value, sensitivity, specificity etc. but what can we calculate to measure the accuracy or goodness of our clustering technique? The answer to this question is Silhouette Coefficient or Silhouette score.\n",
    "Silhouette Coefficient:\n",
    "Silhouette analysis can be used to study the separation distance between the resulting clusters. The silhouette plot displays a measure of how close each point in one cluster is to points in the neighboring clusters and thus provides a way to assess parameters like number of clusters visually. This measure has a range of` [-1, 1].`\n",
    "\n",
    "- 1: Means clusters are well apart from each other and clearly distinguished.\n",
    "- 0: Means clusters are indifferent, or we can say that the distance between clusters is not significant.\n",
    "-1: Means clusters are assigned in the wrong way.\n",
    "Calculating Silhouette Score\n"
   ]
  },
  {
   "cell_type": "code",
   "execution_count": 25,
   "id": "caroline-longer",
   "metadata": {},
   "outputs": [],
   "source": [
    "import pandas as pd\n",
    "import numpy as np\n",
    "import seaborn as sns\n",
    "from sklearn.cluster import KMeans\n",
    "from sklearn.metrics import silhouette_score\n",
    "import matplotlib.pyplot as plt\n",
    "%matplotlib inline"
   ]
  },
  {
   "cell_type": "markdown",
   "id": "looking-johnson",
   "metadata": {},
   "source": [
    "Generate some random data."
   ]
  },
  {
   "cell_type": "markdown",
   "id": "adopted-spencer",
   "metadata": {},
   "source": [
    "to run we are going to generate 100 random point."
   ]
  },
  {
   "cell_type": "code",
   "execution_count": 6,
   "id": "formal-million",
   "metadata": {},
   "outputs": [],
   "source": [
    "x = np.random.rand(50,2)\n",
    "y=2+np.random.rand(50,2)\n",
    "z = np.concatenate((x,y))\n",
    "z = pd.DataFrame(z)"
   ]
  },
  {
   "cell_type": "code",
   "execution_count": 7,
   "id": "automotive-audio",
   "metadata": {},
   "outputs": [
    {
     "data": {
      "text/html": [
       "<div>\n",
       "<style scoped>\n",
       "    .dataframe tbody tr th:only-of-type {\n",
       "        vertical-align: middle;\n",
       "    }\n",
       "\n",
       "    .dataframe tbody tr th {\n",
       "        vertical-align: top;\n",
       "    }\n",
       "\n",
       "    .dataframe thead th {\n",
       "        text-align: right;\n",
       "    }\n",
       "</style>\n",
       "<table border=\"1\" class=\"dataframe\">\n",
       "  <thead>\n",
       "    <tr style=\"text-align: right;\">\n",
       "      <th></th>\n",
       "      <th>0</th>\n",
       "      <th>1</th>\n",
       "    </tr>\n",
       "  </thead>\n",
       "  <tbody>\n",
       "    <tr>\n",
       "      <th>0</th>\n",
       "      <td>0.912642</td>\n",
       "      <td>0.545015</td>\n",
       "    </tr>\n",
       "    <tr>\n",
       "      <th>1</th>\n",
       "      <td>0.584408</td>\n",
       "      <td>0.639154</td>\n",
       "    </tr>\n",
       "    <tr>\n",
       "      <th>2</th>\n",
       "      <td>0.866574</td>\n",
       "      <td>0.851274</td>\n",
       "    </tr>\n",
       "    <tr>\n",
       "      <th>3</th>\n",
       "      <td>0.903100</td>\n",
       "      <td>0.270337</td>\n",
       "    </tr>\n",
       "    <tr>\n",
       "      <th>4</th>\n",
       "      <td>0.262212</td>\n",
       "      <td>0.237172</td>\n",
       "    </tr>\n",
       "    <tr>\n",
       "      <th>...</th>\n",
       "      <td>...</td>\n",
       "      <td>...</td>\n",
       "    </tr>\n",
       "    <tr>\n",
       "      <th>95</th>\n",
       "      <td>2.570598</td>\n",
       "      <td>2.822897</td>\n",
       "    </tr>\n",
       "    <tr>\n",
       "      <th>96</th>\n",
       "      <td>2.925563</td>\n",
       "      <td>2.317406</td>\n",
       "    </tr>\n",
       "    <tr>\n",
       "      <th>97</th>\n",
       "      <td>2.860191</td>\n",
       "      <td>2.955482</td>\n",
       "    </tr>\n",
       "    <tr>\n",
       "      <th>98</th>\n",
       "      <td>2.613023</td>\n",
       "      <td>2.112300</td>\n",
       "    </tr>\n",
       "    <tr>\n",
       "      <th>99</th>\n",
       "      <td>2.217406</td>\n",
       "      <td>2.939644</td>\n",
       "    </tr>\n",
       "  </tbody>\n",
       "</table>\n",
       "<p>100 rows × 2 columns</p>\n",
       "</div>"
      ],
      "text/plain": [
       "           0         1\n",
       "0   0.912642  0.545015\n",
       "1   0.584408  0.639154\n",
       "2   0.866574  0.851274\n",
       "3   0.903100  0.270337\n",
       "4   0.262212  0.237172\n",
       "..       ...       ...\n",
       "95  2.570598  2.822897\n",
       "96  2.925563  2.317406\n",
       "97  2.860191  2.955482\n",
       "98  2.613023  2.112300\n",
       "99  2.217406  2.939644\n",
       "\n",
       "[100 rows x 2 columns]"
      ]
     },
     "execution_count": 7,
     "metadata": {},
     "output_type": "execute_result"
    }
   ],
   "source": [
    "z"
   ]
  },
  {
   "cell_type": "code",
   "execution_count": 8,
   "id": "reverse-mortgage",
   "metadata": {},
   "outputs": [
    {
     "name": "stderr",
     "output_type": "stream",
     "text": [
      "C:\\Users\\nijat\\anaconda3\\lib\\site-packages\\seaborn\\_decorators.py:36: FutureWarning: Pass the following variables as keyword args: x, y. From version 0.12, the only valid positional argument will be `data`, and passing other arguments without an explicit keyword will result in an error or misinterpretation.\n",
      "  warnings.warn(\n"
     ]
    },
    {
     "data": {
      "text/plain": [
       "<AxesSubplot:xlabel='0', ylabel='1'>"
      ]
     },
     "execution_count": 8,
     "metadata": {},
     "output_type": "execute_result"
    },
    {
     "data": {
      "image/png": "[encoded data removed]",
      "text/plain": [
       "<Figure size 432x288 with 1 Axes>"
      ]
     },
     "metadata": {
      "needs_background": "light"
     },
     "output_type": "display_data"
    }
   ],
   "source": [
    "sns.scatterplot(z[0],z[1])"
   ]
  },
  {
   "cell_type": "markdown",
   "id": "constant-paris",
   "metadata": {},
   "source": [
    "Let's apply KMeans Cluster with 2 clusters."
   ]
  },
  {
   "cell_type": "code",
   "execution_count": 13,
   "id": "allied-treasury",
   "metadata": {},
   "outputs": [],
   "source": [
    "KMean= KMeans(n_clusters=2)\n",
    "KMean.fit(z)\n",
    "label=KMean.predict(z)"
   ]
  },
  {
   "cell_type": "markdown",
   "id": "alpha-harris",
   "metadata": {},
   "source": [
    "Calculating the silhouette score:"
   ]
  },
  {
   "cell_type": "code",
   "execution_count": 17,
   "id": "beneficial-airport",
   "metadata": {},
   "outputs": [
    {
     "name": "stdout",
     "output_type": "stream",
     "text": [
      "silhouette score(n=2):0.8082156966716069\n"
     ]
    }
   ],
   "source": [
    "print(f'silhouette score(n=2):{silhouette_score(z,label)}')"
   ]
  },
  {
   "cell_type": "markdown",
   "id": "great-minister",
   "metadata": {},
   "source": [
    "We can say that the clusters are well apart from each other as the silhouette score is closer to 1.\n",
    "To check whether our silhouette score is providing the right information or not let’s create another scatter plot showing labelled data points.\n"
   ]
  },
  {
   "cell_type": "code",
   "execution_count": 18,
   "id": "lesbian-chrome",
   "metadata": {},
   "outputs": [
    {
     "name": "stderr",
     "output_type": "stream",
     "text": [
      "C:\\Users\\nijat\\anaconda3\\lib\\site-packages\\seaborn\\_decorators.py:36: FutureWarning: Pass the following variables as keyword args: x, y. From version 0.12, the only valid positional argument will be `data`, and passing other arguments without an explicit keyword will result in an error or misinterpretation.\n",
      "  warnings.warn(\n"
     ]
    },
    {
     "data": {
      "text/plain": [
       "<AxesSubplot:xlabel='0', ylabel='1'>"
      ]
     },
     "execution_count": 18,
     "metadata": {},
     "output_type": "execute_result"
    },
    {
     "data": {
      "image/png": "[encoded data removed]",
      "text/plain": [
       "<Figure size 432x288 with 1 Axes>"
      ]
     },
     "metadata": {
      "needs_background": "light"
     },
     "output_type": "display_data"
    }
   ],
   "source": [
    "sns.scatterplot(z[0],z[1],hue=label)"
   ]
  },
  {
   "cell_type": "markdown",
   "id": "green-hawaii",
   "metadata": {},
   "source": [
    "Now let's try with 3 clusters:"
   ]
  },
  {
   "cell_type": "code",
   "execution_count": 23,
   "id": "sealed-confusion",
   "metadata": {},
   "outputs": [
    {
     "name": "stdout",
     "output_type": "stream",
     "text": [
      "silhouette score(n=2):0.6003733072954082\n",
      "\n"
     ]
    },
    {
     "name": "stderr",
     "output_type": "stream",
     "text": [
      "C:\\Users\\nijat\\anaconda3\\lib\\site-packages\\seaborn\\_decorators.py:36: FutureWarning: Pass the following variables as keyword args: x, y. From version 0.12, the only valid positional argument will be `data`, and passing other arguments without an explicit keyword will result in an error or misinterpretation.\n",
      "  warnings.warn(\n"
     ]
    },
    {
     "data": {
      "image/png": "[encoded data removed]",
      "text/plain": [
       "<Figure size 432x288 with 1 Axes>"
      ]
     },
     "metadata": {
      "needs_background": "light"
     },
     "output_type": "display_data"
    }
   ],
   "source": [
    "KMean = KMeans(n_clusters=3)\n",
    "KMean.fit(z)\n",
    "label = KMean.predict(z)\n",
    "print(f'silhouette score(n=2):{silhouette_score(z,label)}')\n",
    "print()\n",
    "sns.scatterplot(z[0],z[1],hue=label,palette='inferno_r')\n",
    "plt.show()"
   ]
  },
  {
   "cell_type": "markdown",
   "id": "approximate-indian",
   "metadata": {},
   "source": [
    "As you can see in the above figure clusters are not well apart. The inter cluster distance between cluster 1 and cluster 2 is almost negligible. That is why the silhouette score for n= 3(0.596) is lesser than that of n=2(0.806).\n",
    "When dealing with higher dimensions, the silhouette score is quite useful to validate the working of clustering algorithm as we can’t use any type of visualization to validate clustering when dimensions are greater than 3.\n",
    "We can also use the silhouette score to check the optimal number of clusters. In the above example, we can say that the optimal number of clusters is 2 as its silhouette score is greater than that of 3 clusters.\n"
   ]
  },
  {
   "cell_type": "markdown",
   "id": "forced-suspect",
   "metadata": {},
   "source": [
    "<img src='https://miro.medium.com/max/875/1*cUcY9jSBHFMqCmX-fp8BvQ.jpeg'>"
   ]
  },
  {
   "cell_type": "code",
   "execution_count": null,
   "id": "postal-consultancy",
   "metadata": {},
   "outputs": [],
   "source": []
  }
 ],
 "metadata": {
  "kernelspec": {
   "display_name": "Python 3",
   "language": "python",
   "name": "python3"
  },
  "language_info": {
   "codemirror_mode": {
    "name": "ipython",
    "version": 3
   },
   "file_extension": ".py",
   "mimetype": "text/x-python",
   "name": "python",
   "nbconvert_exporter": "python",
   "pygments_lexer": "ipython3",
   "version": "3.8.8"
  }
 },
 "nbformat": 4,
 "nbformat_minor": 5
}
