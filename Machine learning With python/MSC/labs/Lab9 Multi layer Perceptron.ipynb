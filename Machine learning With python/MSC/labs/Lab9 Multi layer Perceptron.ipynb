{
 "cells": [
  {
   "cell_type": "markdown",
   "id": "important-pound",
   "metadata": {},
   "source": [
    "## Lab assignment 9 - Multi layer Perceptron"
   ]
  },
  {
   "cell_type": "markdown",
   "id": "typical-engineer",
   "metadata": {},
   "source": [
    "- Name: Nijatullah Mansoor\n",
    "- Ro no: 2047119"
   ]
  },
  {
   "cell_type": "markdown",
   "id": "together-hearts",
   "metadata": {},
   "source": [
    "Demonstrate MLP. Demonstrate different architectures with different hidden layers and sizes and minimum 3 activation functions."
   ]
  },
  {
   "cell_type": "markdown",
   "id": "immune-franklin",
   "metadata": {},
   "source": [
    "Import the required library"
   ]
  },
  {
   "cell_type": "markdown",
   "id": "closing-given",
   "metadata": {},
   "source": [
    "A multilayer perceptron (MLP) is a feedforward artificial neural network that generates a set of outputs from a set of inputs. An MLP is characterized by several layers of input nodes connected as a directed graph between the input and output layers. ... MLP is a deep learning method."
   ]
  },
  {
   "cell_type": "code",
   "execution_count": 5,
   "id": "controlling-leather",
   "metadata": {},
   "outputs": [],
   "source": [
    "from sklearn.neural_network import MLPClassifier\n",
    "from sklearn.preprocessing import MinMaxScaler\n",
    "from sklearn.model_selection import train_test_split\n",
    "from sklearn.datasets import load_iris\n",
    "import numpy as np\n",
    "import pandas as pd\n",
    "import random\n",
    "import itertools\n",
    "import matplotlib.pyplot as plt\n",
    "import seaborn as sns\n",
    "from sklearn.datasets import load_digits, load_boston\n",
    "from sklearn.neural_network import MLPRegressor, MLPClassifier\n",
    "from sklearn.model_selection import train_test_split ,GridSearchCV\n",
    "from sklearn.metrics import confusion_matrix,r2_score\n",
    "import warnings "
   ]
  },
  {
   "cell_type": "markdown",
   "id": "conscious-india",
   "metadata": {},
   "source": [
    "# Digits Dataset"
   ]
  },
  {
   "cell_type": "markdown",
   "id": "dirty-meeting",
   "metadata": {},
   "source": [
    "## we will use Digits dataset which has 8*8 size images for 0-9 digits."
   ]
  },
  {
   "cell_type": "code",
   "execution_count": 6,
   "id": "appropriate-institute",
   "metadata": {},
   "outputs": [
    {
     "name": "stdout",
     "output_type": "stream",
     "text": [
      "x_digits Datasets size (1797, 64) \n",
      " y_digits Datasets size (1797,)\n"
     ]
    }
   ],
   "source": [
    "\n",
    "digits = load_digits()\n",
    "x_digits = digits.data\n",
    "y_digits = digits.target\n",
    "print(\"x_digits Datasets size\",x_digits.shape,\"\\n y_digits Datasets size\",y_digits.shape)"
   ]
  },
  {
   "cell_type": "markdown",
   "id": "chronic-galaxy",
   "metadata": {},
   "source": [
    "# Display Images"
   ]
  },
  {
   "cell_type": "code",
   "execution_count": 7,
   "id": "laughing-birth",
   "metadata": {},
   "outputs": [
    {
     "data": {
      "image/png": "[encoded data removed]",
      "text/plain": [
       "<Figure size 720x720 with 10 Axes>"
      ]
     },
     "metadata": {},
     "output_type": "display_data"
    }
   ],
   "source": [
    "fig, axes = plt.subplots(2,5,figsize=(10,10),subplot_kw = {'xticks':[],'yticks':[]})\n",
    "for i,ax in enumerate(axes.flat):\n",
    "    ax.imshow(digits.images[i], cmap='gray', interpolation='nearest') \n",
    "    ax.text(0.5,-0.2,str(digits.target[i]),transform = ax.transAxes)"
   ]
  },
  {
   "cell_type": "code",
   "execution_count": 8,
   "id": "impressed-priority",
   "metadata": {},
   "outputs": [
    {
     "name": "stdout",
     "output_type": "stream",
     "text": [
      "Train size:  (1437, 64) (1437,) Test Size:  (360, 64) (360,)\n"
     ]
    }
   ],
   "source": [
    "x_train,x_test,y_train,y_test = train_test_split(x_digits,y_digits,test_size=0.2,random_state=42,stratify= y_digits)\n",
    "print(\"Train size: \",x_train.shape,y_train.shape,\"Test Size: \",x_test.shape,y_test.shape )"
   ]
  },
  {
   "cell_type": "code",
   "execution_count": 9,
   "id": "hairy-sellers",
   "metadata": {},
   "outputs": [
    {
     "data": {
      "text/plain": [
       "MLPClassifier(random_state=42)"
      ]
     },
     "execution_count": 9,
     "metadata": {},
     "output_type": "execute_result"
    }
   ],
   "source": [
    "mlp_clf = MLPClassifier(random_state=42)\n",
    "mlp_clf.fit(x_train,y_train)"
   ]
  },
  {
   "cell_type": "code",
   "execution_count": 10,
   "id": "grave-basis",
   "metadata": {},
   "outputs": [
    {
     "name": "stdout",
     "output_type": "stream",
     "text": [
      "[5 2 8 1 7 2 6 2 6 5 0 5 9 3 4 4 2 4 9 9]\n",
      "[5 2 8 1 7 2 6 2 6 5 0 5 9 3 4 4 2 4 9 9]\n"
     ]
    }
   ],
   "source": [
    "y_preds = mlp_clf.predict(x_test)\n",
    "print(y_test[:20])\n",
    "print(y_preds[:20])"
   ]
  },
  {
   "cell_type": "code",
   "execution_count": 11,
   "id": "permanent-density",
   "metadata": {},
   "outputs": [
    {
     "name": "stdout",
     "output_type": "stream",
     "text": [
      "Train Accuracy:  1.0\n",
      "Test Accuracy:  0.9722222222222222\n",
      "Loss :  0.0025217979804438824\n"
     ]
    }
   ],
   "source": [
    "print(\"Train Accuracy: \", mlp_clf.score(x_train,y_train))\n",
    "print(\"Test Accuracy: \", mlp_clf.score(x_test,y_test))\n",
    "print(\"Loss : \", mlp_clf.loss_)"
   ]
  },
  {
   "cell_type": "code",
   "execution_count": 12,
   "id": "caroline-eleven",
   "metadata": {},
   "outputs": [
    {
     "data": {
      "image/png": "[encoded data removed]",
      "text/plain": [
       "<Figure size 648x648 with 1 Axes>"
      ]
     },
     "metadata": {
      "needs_background": "light"
     },
     "output_type": "display_data"
    }
   ],
   "source": [
    "con_max= confusion_matrix(y_test,y_preds)\n",
    "plt.figure(figsize = (9,9))\n",
    "sns.heatmap(con_max,annot= True,square= True,cbar= False,cmap='YlOrBr')\n",
    "plt.xlabel(\"Predicted Value\")\n",
    "plt.ylabel('Actual_value')\n",
    "plt.show()"
   ]
  },
  {
   "cell_type": "code",
   "execution_count": 13,
   "id": "organized-poker",
   "metadata": {},
   "outputs": [
    {
     "name": "stdout",
     "output_type": "stream",
     "text": [
      "Number of Iterations:  155\n",
      "Output Layer Activation Function : softmax\n"
     ]
    }
   ],
   "source": [
    "print(\"Number of Iterations: \",mlp_clf.n_iter_)\n",
    "print(\"Output Layer Activation Function :\", mlp_clf.out_activation_)"
   ]
  },
  {
   "cell_type": "markdown",
   "id": "cloudy-supply",
   "metadata": {},
   "source": [
    "# Iris dataset"
   ]
  },
  {
   "cell_type": "code",
   "execution_count": 14,
   "id": "logical-guidance",
   "metadata": {},
   "outputs": [],
   "source": [
    "iris = load_iris()\n",
    "(X_iris, y_iris) = load_iris(return_X_y = True)"
   ]
  },
  {
   "cell_type": "code",
   "execution_count": 15,
   "id": "framed-handle",
   "metadata": {},
   "outputs": [
    {
     "name": "stdout",
     "output_type": "stream",
     "text": [
      "iris dataset\n",
      "Accuracy of NN classifier on training set: 0.96\n",
      "Accuracy of NN classifier on test set: 0.97\n"
     ]
    }
   ],
   "source": [
    "scaler = MinMaxScaler()\n",
    "\n",
    "X_train, X_test, y_train, y_test = train_test_split(X_iris, y_iris, random_state = 0)\n",
    "X_train_scaled = scaler.fit_transform(X_train)\n",
    "X_test_scaled = scaler.transform(X_test)\n",
    "\n",
    "clf = MLPClassifier(hidden_layer_sizes = [3,3], alpha = 5.0,\n",
    "                   random_state = 0, solver='lbfgs').fit(X_train_scaled, y_train)\n",
    "\n",
    "print('iris dataset')\n",
    "print('Accuracy of NN classifier on training set: {:.2f}'\n",
    "     .format(clf.score(X_train_scaled, y_train)))\n",
    "print('Accuracy of NN classifier on test set: {:.2f}'\n",
    "     .format(clf.score(X_test_scaled, y_test)))"
   ]
  },
  {
   "cell_type": "code",
   "execution_count": 16,
   "id": "lightweight-ethics",
   "metadata": {},
   "outputs": [
    {
     "data": {
      "text/plain": [
       "4"
      ]
     },
     "execution_count": 16,
     "metadata": {},
     "output_type": "execute_result"
    }
   ],
   "source": [
    "clf.n_layers_\n",
    "#clf.n_outputs_\n",
    "#clf.out_activation_\n",
    "#clf.coefs_"
   ]
  },
  {
   "cell_type": "code",
   "execution_count": 17,
   "id": "jewish-token",
   "metadata": {},
   "outputs": [],
   "source": [
    "import numpy as np\n",
    "import pandas as pd\n",
    "import seaborn as sn\n",
    "import matplotlib.pyplot as plt\n",
    "\n",
    "from sklearn.model_selection import train_test_split\n",
    "from sklearn.datasets import make_classification, make_blobs\n",
    "from sklearn.metrics import confusion_matrix"
   ]
  },
  {
   "cell_type": "code",
   "execution_count": 18,
   "id": "effective-wrestling",
   "metadata": {},
   "outputs": [
    {
     "data": {
      "text/plain": [
       "array([1, 0, 0, 0, 0, 0, 1, 1, 1, 1, 0, 0, 1, 1, 1, 0, 0, 1, 1, 1, 0, 1,\n",
       "       1, 1, 1, 1, 0, 1, 0, 0, 1, 0, 0, 1, 1, 1, 1, 0, 1, 1, 0, 0, 0, 0,\n",
       "       0, 0, 0, 0, 0, 0, 1, 0, 1, 1, 1, 0, 0, 1, 1, 1, 1, 1, 0, 1, 1, 0,\n",
       "       1, 1, 1, 0, 0, 0, 1, 0, 1, 1, 0, 0, 1, 0, 0, 1, 0, 0, 1, 0, 0, 0,\n",
       "       0, 0, 1, 1, 0, 0, 1, 1, 0, 1, 0, 1], dtype=int32)"
      ]
     },
     "execution_count": 18,
     "metadata": {},
     "output_type": "execute_result"
    }
   ],
   "source": [
    "from sklearn.metrics import confusion_matrix\n",
    "from matplotlib.colors import ListedColormap\n",
    "X_D2, y_D2 = make_blobs(n_samples = 100, n_features = 2,\n",
    "                       centers = 8, cluster_std = 1.3,\n",
    "                       random_state = 4)\n",
    "y_D2 = y_D2 % 2\n",
    "y_D2\n"
   ]
  },
  {
   "cell_type": "code",
   "execution_count": 19,
   "id": "willing-marking",
   "metadata": {},
   "outputs": [
    {
     "data": {
      "image/png": "[encoded data removed]",
      "text/plain": [
       "<Figure size 432x288 with 1 Axes>"
      ]
     },
     "metadata": {
      "needs_background": "light"
     },
     "output_type": "display_data"
    }
   ],
   "source": [
    "y_D2 = y_D2 % 2\n",
    "plt.figure()\n",
    "plt.title('Sample binary classification problem with non-linearly separable classes')\n",
    "plt.scatter(X_D2[:,0], X_D2[:,1], c=y_D2,\n",
    "           marker= 'o', s=50)\n",
    "plt.show()"
   ]
  },
  {
   "cell_type": "code",
   "execution_count": 20,
   "id": "external-illinois",
   "metadata": {},
   "outputs": [
    {
     "name": "stdout",
     "output_type": "stream",
     "text": [
      "Accuracy of NN classifier on training set: 0.51\n",
      "Accuracy of NN classifier on test set: 0.48\n",
      "Accuracy of NN classifier on training set: 0.96\n",
      "Accuracy of NN classifier on test set: 0.72\n",
      "Accuracy of NN classifier on training set: 0.91\n",
      "Accuracy of NN classifier on test set: 0.76\n"
     ]
    },
    {
     "name": "stderr",
     "output_type": "stream",
     "text": [
      "C:\\Users\\nijat\\anaconda3\\lib\\site-packages\\sklearn\\neural_network\\_multilayer_perceptron.py:500: ConvergenceWarning: lbfgs failed to converge (status=1):\n",
      "STOP: TOTAL NO. of ITERATIONS REACHED LIMIT.\n",
      "\n",
      "Increase the number of iterations (max_iter) or scale the data as shown in:\n",
      "    https://scikit-learn.org/stable/modules/preprocessing.html\n",
      "  self.n_iter_ = _check_optimize_result(\"lbfgs\", opt_res, self.max_iter)\n"
     ]
    }
   ],
   "source": [
    "X_train, X_test, y_train, y_test = train_test_split(X_D2, y_D2, random_state=0)\n",
    "for this_activation in ['logistic', 'tanh', 'relu']:\n",
    "    nnclf = MLPClassifier(solver='lbfgs', activation = this_activation,\n",
    "                         alpha = 0.1, hidden_layer_sizes = [20,20,20,20],\n",
    "                         random_state = 0).fit(X_train, y_train)\n",
    "    #y_pred=nnclf.predict(X_test)\n",
    "    print('Accuracy of NN classifier on training set: {:.2f}'\n",
    "    .format(nnclf.score(X_train, y_train)))\n",
    "    print('Accuracy of NN classifier on test set: {:.2f}'\n",
    "    .format(nnclf.score(X_test, y_test)))  \n",
    "    #confusion_matrix(y_test,y_pred)"
   ]
  },
  {
   "cell_type": "code",
   "execution_count": 21,
   "id": "treated-oracle",
   "metadata": {},
   "outputs": [
    {
     "data": {
      "text/plain": [
       "'softmax'"
      ]
     },
     "execution_count": 21,
     "metadata": {},
     "output_type": "execute_result"
    }
   ],
   "source": [
    "#nnclf.n_layers_\n",
    "#nnclf.n_outputs_\n",
    "clf.out_activation_"
   ]
  },
  {
   "cell_type": "markdown",
   "id": "sunset-astronomy",
   "metadata": {},
   "source": [
    "Fine Tuning model and using different paramenters -\n",
    "hidden_layer_sizes- It accepts tuple of integer specifying sizes of hidden layers in multi layer perceptrons. According to size of tuple, that many perceptrons will be created per hidden layer. default=(100,)\n",
    "\n",
    "activation - It specifies activation function for hidden layers. It accepts one of below strings as input. default=relu\n",
    "\n",
    "**'identity'** - No Activation. f(x) = x\n",
    "\n",
    "'**logistic**' - Logistic Sigmoid Function. f(x) = 1 / (1 + exp(-x))\n",
    "\n",
    "'**tanh**' - Hyperbolic tangent function. f(x) = tanh(x)\n",
    "\n",
    "'**relu**' - Rectified Linear Unit function. f(x) = max(0, x)\n",
    "\n",
    "**solver** - It accepts one of below strings specifying which optimization solver to use for updating weights of neural network hidden layer perceptrons. default='adam' 'lbfgs' 'sgd' 'adam'\n",
    "\n",
    "**learning_rate_init** - It specifies initial learning rate to be used. Based on value of this parameter weights of perceptrons are updated.default=0.001\n",
    "\n",
    "**learning_rate** - It specifies learning rate schedule to be used for training. It accepts one of below strings as value and only applicable when solver='sgd'.\n",
    "\n",
    "'**constant**' - Keeps learning rate constant through a learning process which was set in learning_rate_init.\n",
    "\n",
    "'**invscaling**' - It gradually decreases learning rate. effective_learning_rate = learning_rate_init / pow(t, power_t)\n",
    "\n",
    "'**adaptive**' - It keeps learning rate constant as long as loss is decreasing or score is improving. If consecutive epochs fails in decreasing loss according to tol parameter and early_stopping is on, then it divides current learning rate by 5.\n",
    "\n",
    "batch_size - It accepts integer value specifying size of batch to use for dataset. default='auto'. The default auto batch size will set batch size to min(200, n_samples).\n",
    "\n",
    "tol - It accepts float values specifying threshold for optimization. When training loss or score is not improved by at least tol for n_iter_no_change iterations, then optimization ends if learning_rate is constant else it decreases learning rate if learning_rate is adaptive. default=0.0001\n",
    "\n",
    "alpha - It specifies L2 penalty coefficient to be applied to perceptrons. default=0.0001\n",
    "\n",
    "**momentum** - It specifies momentum to be used for gradient descent and accepts float value between 0-1. It's applicable when solver is sgd.\n",
    "\n",
    "**early_stopping** - It accepts boolean value specifying whether to stop training if training score/loss is not improving. default=False\n",
    "\n",
    "validation_fraction It accepts float value between 0-1 specifying amount of training data to keep aside if early_stopping is set.default=0.1"
   ]
  },
  {
   "cell_type": "code",
   "execution_count": null,
   "id": "clear-hobby",
   "metadata": {},
   "outputs": [],
   "source": []
  }
 ],
 "metadata": {
  "kernelspec": {
   "display_name": "Python 3",
   "language": "python",
   "name": "python3"
  },
  "language_info": {
   "codemirror_mode": {
    "name": "ipython",
    "version": 3
   },
   "file_extension": ".py",
   "mimetype": "text/x-python",
   "name": "python",
   "nbconvert_exporter": "python",
   "pygments_lexer": "ipython3",
   "version": "3.8.8"
  }
 },
 "nbformat": 4,
 "nbformat_minor": 5
}
