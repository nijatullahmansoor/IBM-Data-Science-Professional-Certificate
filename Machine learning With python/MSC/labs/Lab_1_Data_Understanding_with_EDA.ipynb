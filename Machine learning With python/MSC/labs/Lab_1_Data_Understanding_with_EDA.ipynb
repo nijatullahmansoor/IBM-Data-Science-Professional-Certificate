{
 "cells": [
  {
   "cell_type": "markdown",
   "id": "classical-netscape",
   "metadata": {},
   "source": [
    "## Lab 1 - Data Understanding with EDA"
   ]
  },
  {
   "cell_type": "markdown",
   "id": "bigger-array",
   "metadata": {},
   "source": [
    "Use any dataset of your choice\n",
    "Demonstrate methods for visualization as well as computation\n",
    "Demonstrate methods for numeric as well as nominal data\n",
    "Apply minimum one graph from seaborn library"
   ]
  },
  {
   "cell_type": "markdown",
   "id": "commercial-grill",
   "metadata": {},
   "source": [
    "## Author : Nijatullah Mansoor\n",
    "## Ro No: 2047119"
   ]
  },
  {
   "cell_type": "markdown",
   "id": "gothic-things",
   "metadata": {},
   "source": [
    "### Objective \n",
    "\n",
    "we wil do EDA analyse the world covid-19 data and see which region is the most affected and wich region is less effected in the world we will also see the relation between the number of cases and deaths. "
   ]
  },
  {
   "cell_type": "markdown",
   "id": "suitable-emerald",
   "metadata": {},
   "source": [
    "### Let's Import Libraries"
   ]
  },
  {
   "cell_type": "markdown",
   "id": "sweet-breath",
   "metadata": {},
   "source": [
    "`Step1:` Let's' import the libraries."
   ]
  },
  {
   "cell_type": "code",
   "execution_count": 1,
   "id": "extra-chase",
   "metadata": {},
   "outputs": [],
   "source": [
    "import pandas as pd  # for data manipulation and analysis\n",
    "import numpy as np   # for scientific computing\n",
    "import statistics    # \n",
    "import seaborn as sns      # visualization library for statistical graphics plotting \n",
    "import matplotlib.pyplot as plt   # import matplotlib.pyplot as plt "
   ]
  },
  {
   "cell_type": "markdown",
   "id": "revolutionary-carter",
   "metadata": {},
   "source": [
    "`Step2`: Let's read the dataset and see how it organized."
   ]
  },
  {
   "cell_type": "code",
   "execution_count": 2,
   "id": "corresponding-platinum",
   "metadata": {},
   "outputs": [],
   "source": [
    "covid_df = pd.read_csv(\"WHO COVID-19 global table data July 28th 2021 at 6.19.06 PM.csv\")"
   ]
  },
  {
   "cell_type": "markdown",
   "id": "noted-veteran",
   "metadata": {},
   "source": [
    "Let's first check the columns names."
   ]
  },
  {
   "cell_type": "code",
   "execution_count": 3,
   "id": "efficient-strand",
   "metadata": {},
   "outputs": [
    {
     "data": {
      "text/plain": [
       "Index(['Name', 'WHO Region', 'Cases - cumulative total',\n",
       "       'Cases - cumulative total per 100000 population',\n",
       "       'Cases - newly reported in last 7 days',\n",
       "       'Cases - newly reported in last 7 days per 100000 population',\n",
       "       'Cases - newly reported in last 24 hours', 'Deaths - cumulative total',\n",
       "       'Deaths - cumulative total per 100000 population',\n",
       "       'Deaths - newly reported in last 7 days',\n",
       "       'Deaths - newly reported in last 7 days per 100000 population',\n",
       "       'Deaths - newly reported in last 24 hours'],\n",
       "      dtype='object')"
      ]
     },
     "execution_count": 3,
     "metadata": {},
     "output_type": "execute_result"
    }
   ],
   "source": [
    "covid_df.columns"
   ]
  },
  {
   "cell_type": "markdown",
   "id": "tender-basket",
   "metadata": {},
   "source": [
    "We can see that the column names is very long, let's rename with short names. "
   ]
  },
  {
   "cell_type": "code",
   "execution_count": 4,
   "id": "smooth-front",
   "metadata": {},
   "outputs": [],
   "source": [
    "original_columns_name = covid_df.columns"
   ]
  },
  {
   "cell_type": "markdown",
   "id": "appropriate-cream",
   "metadata": {},
   "source": [
    "You can alwasy refe to the original name for claryfication."
   ]
  },
  {
   "cell_type": "code",
   "execution_count": 5,
   "id": "regulation-breed",
   "metadata": {},
   "outputs": [],
   "source": [
    "covid_df.rename(columns={'Name': 'name', 'WHO Region': 'region','Cases - cumulative total':'total_cases',\n",
    "                          'Cases - cumulative total per 100000 population':'total_cases_per_100000p',\n",
    "                          'Cases - newly reported in last 7 days':'new_last_7_day_cases',\n",
    "                          'Cases - newly reported in last 7 days per 100000 population':'new_last_7_day_per_100000p',\n",
    "                          'Cases - newly reported in last 24 hours':'new_cases_last_24h',\n",
    "                          'Deaths - cumulative total':'total_deaths',\n",
    "                          'Deaths - cumulative total per 100000 population':'total_deaths_per_100000p',\n",
    "                           'Deaths - newly reported in last 7 days':'new_deaths_last_7_days',\n",
    "                           'Deaths - newly reported in last 7 days per 100000 population':'new_deaths_last_7_day_per_100000p',\n",
    "                           'Deaths - newly reported in last 24 hours':'new_deaths_last_24h'}, inplace=True)"
   ]
  },
  {
   "cell_type": "markdown",
   "id": "aware-bookmark",
   "metadata": {},
   "source": [
    "Now let's check the columns names."
   ]
  },
  {
   "cell_type": "code",
   "execution_count": 6,
   "id": "norwegian-intent",
   "metadata": {},
   "outputs": [
    {
     "data": {
      "text/plain": [
       "Index(['name', 'region', 'total_cases', 'total_cases_per_100000p',\n",
       "       'new_last_7_day_cases', 'new_last_7_day_per_100000p',\n",
       "       'new_cases_last_24h', 'total_deaths', 'total_deaths_per_100000p',\n",
       "       'new_deaths_last_7_days', 'new_deaths_last_7_day_per_100000p',\n",
       "       'new_deaths_last_24h'],\n",
       "      dtype='object')"
      ]
     },
     "execution_count": 6,
     "metadata": {},
     "output_type": "execute_result"
    }
   ],
   "source": [
    "covid_df.columns"
   ]
  },
  {
   "cell_type": "markdown",
   "id": "unavailable-shirt",
   "metadata": {},
   "source": [
    "Let's check the head of the dataFrame."
   ]
  },
  {
   "cell_type": "code",
   "execution_count": 7,
   "id": "ordered-jones",
   "metadata": {},
   "outputs": [
    {
     "data": {
      "text/html": [
       "<div>\n",
       "<style scoped>\n",
       "    .dataframe tbody tr th:only-of-type {\n",
       "        vertical-align: middle;\n",
       "    }\n",
       "\n",
       "    .dataframe tbody tr th {\n",
       "        vertical-align: top;\n",
       "    }\n",
       "\n",
       "    .dataframe thead th {\n",
       "        text-align: right;\n",
       "    }\n",
       "</style>\n",
       "<table border=\"1\" class=\"dataframe\">\n",
       "  <thead>\n",
       "    <tr style=\"text-align: right;\">\n",
       "      <th></th>\n",
       "      <th>name</th>\n",
       "      <th>region</th>\n",
       "      <th>total_cases</th>\n",
       "      <th>total_cases_per_100000p</th>\n",
       "      <th>new_last_7_day_cases</th>\n",
       "      <th>new_last_7_day_per_100000p</th>\n",
       "      <th>new_cases_last_24h</th>\n",
       "      <th>total_deaths</th>\n",
       "      <th>total_deaths_per_100000p</th>\n",
       "      <th>new_deaths_last_7_days</th>\n",
       "      <th>new_deaths_last_7_day_per_100000p</th>\n",
       "      <th>new_deaths_last_24h</th>\n",
       "    </tr>\n",
       "  </thead>\n",
       "  <tbody>\n",
       "    <tr>\n",
       "      <th>0</th>\n",
       "      <td>Global</td>\n",
       "      <td>World</td>\n",
       "      <td>194608040</td>\n",
       "      <td>2496.722463</td>\n",
       "      <td>3821392</td>\n",
       "      <td>49.026521</td>\n",
       "      <td>410645</td>\n",
       "      <td>4170155</td>\n",
       "      <td>53.500974</td>\n",
       "      <td>70540</td>\n",
       "      <td>0.904992</td>\n",
       "      <td>7628</td>\n",
       "    </tr>\n",
       "    <tr>\n",
       "      <th>1</th>\n",
       "      <td>United States of America</td>\n",
       "      <td>Americas</td>\n",
       "      <td>34256255</td>\n",
       "      <td>10349.240000</td>\n",
       "      <td>462055</td>\n",
       "      <td>139.590000</td>\n",
       "      <td>11680</td>\n",
       "      <td>605780</td>\n",
       "      <td>183.010000</td>\n",
       "      <td>1739</td>\n",
       "      <td>0.530000</td>\n",
       "      <td>45</td>\n",
       "    </tr>\n",
       "    <tr>\n",
       "      <th>2</th>\n",
       "      <td>India</td>\n",
       "      <td>South-East Asia</td>\n",
       "      <td>31440951</td>\n",
       "      <td>2278.320000</td>\n",
       "      <td>266629</td>\n",
       "      <td>19.320000</td>\n",
       "      <td>29689</td>\n",
       "      <td>421382</td>\n",
       "      <td>30.530000</td>\n",
       "      <td>6900</td>\n",
       "      <td>0.500000</td>\n",
       "      <td>415</td>\n",
       "    </tr>\n",
       "    <tr>\n",
       "      <th>3</th>\n",
       "      <td>Brazil</td>\n",
       "      <td>Americas</td>\n",
       "      <td>19688663</td>\n",
       "      <td>9262.660000</td>\n",
       "      <td>312089</td>\n",
       "      <td>146.820000</td>\n",
       "      <td>18129</td>\n",
       "      <td>549924</td>\n",
       "      <td>258.720000</td>\n",
       "      <td>7710</td>\n",
       "      <td>3.630000</td>\n",
       "      <td>476</td>\n",
       "    </tr>\n",
       "    <tr>\n",
       "      <th>4</th>\n",
       "      <td>Russian Federation</td>\n",
       "      <td>Europe</td>\n",
       "      <td>6172812</td>\n",
       "      <td>4229.850000</td>\n",
       "      <td>166276</td>\n",
       "      <td>113.940000</td>\n",
       "      <td>23032</td>\n",
       "      <td>155380</td>\n",
       "      <td>106.470000</td>\n",
       "      <td>5458</td>\n",
       "      <td>3.740000</td>\n",
       "      <td>779</td>\n",
       "    </tr>\n",
       "  </tbody>\n",
       "</table>\n",
       "</div>"
      ],
      "text/plain": [
       "                       name           region  total_cases  \\\n",
       "0                    Global            World    194608040   \n",
       "1  United States of America         Americas     34256255   \n",
       "2                     India  South-East Asia     31440951   \n",
       "3                    Brazil         Americas     19688663   \n",
       "4        Russian Federation           Europe      6172812   \n",
       "\n",
       "   total_cases_per_100000p  new_last_7_day_cases  new_last_7_day_per_100000p  \\\n",
       "0              2496.722463               3821392                   49.026521   \n",
       "1             10349.240000                462055                  139.590000   \n",
       "2              2278.320000                266629                   19.320000   \n",
       "3              9262.660000                312089                  146.820000   \n",
       "4              4229.850000                166276                  113.940000   \n",
       "\n",
       "   new_cases_last_24h  total_deaths  total_deaths_per_100000p  \\\n",
       "0              410645       4170155                 53.500974   \n",
       "1               11680        605780                183.010000   \n",
       "2               29689        421382                 30.530000   \n",
       "3               18129        549924                258.720000   \n",
       "4               23032        155380                106.470000   \n",
       "\n",
       "   new_deaths_last_7_days  new_deaths_last_7_day_per_100000p  \\\n",
       "0                   70540                           0.904992   \n",
       "1                    1739                           0.530000   \n",
       "2                    6900                           0.500000   \n",
       "3                    7710                           3.630000   \n",
       "4                    5458                           3.740000   \n",
       "\n",
       "   new_deaths_last_24h  \n",
       "0                 7628  \n",
       "1                   45  \n",
       "2                  415  \n",
       "3                  476  \n",
       "4                  779  "
      ]
     },
     "execution_count": 7,
     "metadata": {},
     "output_type": "execute_result"
    }
   ],
   "source": [
    "covid_df.head()"
   ]
  },
  {
   "cell_type": "markdown",
   "id": "affected-empire",
   "metadata": {},
   "source": [
    "Le'ts check the genral information about our datasets."
   ]
  },
  {
   "cell_type": "code",
   "execution_count": 8,
   "id": "working-processor",
   "metadata": {},
   "outputs": [
    {
     "name": "stdout",
     "output_type": "stream",
     "text": [
      "<class 'pandas.core.frame.DataFrame'>\n",
      "RangeIndex: 238 entries, 0 to 237\n",
      "Data columns (total 12 columns):\n",
      " #   Column                             Non-Null Count  Dtype  \n",
      "---  ------                             --------------  -----  \n",
      " 0   name                               238 non-null    object \n",
      " 1   region                             238 non-null    object \n",
      " 2   total_cases                        238 non-null    int64  \n",
      " 3   total_cases_per_100000p            237 non-null    float64\n",
      " 4   new_last_7_day_cases               238 non-null    int64  \n",
      " 5   new_last_7_day_per_100000p         237 non-null    float64\n",
      " 6   new_cases_last_24h                 238 non-null    int64  \n",
      " 7   total_deaths                       238 non-null    int64  \n",
      " 8   total_deaths_per_100000p           237 non-null    float64\n",
      " 9   new_deaths_last_7_days             238 non-null    int64  \n",
      " 10  new_deaths_last_7_day_per_100000p  237 non-null    float64\n",
      " 11  new_deaths_last_24h                238 non-null    int64  \n",
      "dtypes: float64(4), int64(6), object(2)\n",
      "memory usage: 22.4+ KB\n"
     ]
    }
   ],
   "source": [
    "covid_df.info()"
   ]
  },
  {
   "cell_type": "markdown",
   "id": "satellite-influence",
   "metadata": {},
   "source": [
    "Let's check for the null values."
   ]
  },
  {
   "cell_type": "code",
   "execution_count": 9,
   "id": "identified-surgery",
   "metadata": {},
   "outputs": [
    {
     "data": {
      "text/plain": [
       "name                                 0\n",
       "region                               0\n",
       "total_cases                          0\n",
       "total_cases_per_100000p              1\n",
       "new_last_7_day_cases                 0\n",
       "new_last_7_day_per_100000p           1\n",
       "new_cases_last_24h                   0\n",
       "total_deaths                         0\n",
       "total_deaths_per_100000p             1\n",
       "new_deaths_last_7_days               0\n",
       "new_deaths_last_7_day_per_100000p    1\n",
       "new_deaths_last_24h                  0\n",
       "dtype: int64"
      ]
     },
     "execution_count": 9,
     "metadata": {},
     "output_type": "execute_result"
    }
   ],
   "source": [
    "covid_df.isnull().sum()"
   ]
  },
  {
   "cell_type": "markdown",
   "id": "oriental-police",
   "metadata": {},
   "source": [
    "We have only one null record let's drop this record. "
   ]
  },
  {
   "cell_type": "code",
   "execution_count": 10,
   "id": "architectural-london",
   "metadata": {},
   "outputs": [],
   "source": [
    "covid_df.dropna(inplace=True)"
   ]
  },
  {
   "cell_type": "code",
   "execution_count": 11,
   "id": "valued-aircraft",
   "metadata": {},
   "outputs": [
    {
     "data": {
      "text/plain": [
       "name                                 0\n",
       "region                               0\n",
       "total_cases                          0\n",
       "total_cases_per_100000p              0\n",
       "new_last_7_day_cases                 0\n",
       "new_last_7_day_per_100000p           0\n",
       "new_cases_last_24h                   0\n",
       "total_deaths                         0\n",
       "total_deaths_per_100000p             0\n",
       "new_deaths_last_7_days               0\n",
       "new_deaths_last_7_day_per_100000p    0\n",
       "new_deaths_last_24h                  0\n",
       "dtype: int64"
      ]
     },
     "execution_count": 11,
     "metadata": {},
     "output_type": "execute_result"
    }
   ],
   "source": [
    "covid_df.isnull().sum()"
   ]
  },
  {
   "cell_type": "markdown",
   "id": "through-charity",
   "metadata": {},
   "source": [
    "Let's check the head of the dataFrame."
   ]
  },
  {
   "cell_type": "code",
   "execution_count": 12,
   "id": "massive-heritage",
   "metadata": {},
   "outputs": [
    {
     "data": {
      "text/html": [
       "<div>\n",
       "<style scoped>\n",
       "    .dataframe tbody tr th:only-of-type {\n",
       "        vertical-align: middle;\n",
       "    }\n",
       "\n",
       "    .dataframe tbody tr th {\n",
       "        vertical-align: top;\n",
       "    }\n",
       "\n",
       "    .dataframe thead th {\n",
       "        text-align: right;\n",
       "    }\n",
       "</style>\n",
       "<table border=\"1\" class=\"dataframe\">\n",
       "  <thead>\n",
       "    <tr style=\"text-align: right;\">\n",
       "      <th></th>\n",
       "      <th>name</th>\n",
       "      <th>region</th>\n",
       "      <th>total_cases</th>\n",
       "      <th>total_cases_per_100000p</th>\n",
       "      <th>new_last_7_day_cases</th>\n",
       "      <th>new_last_7_day_per_100000p</th>\n",
       "      <th>new_cases_last_24h</th>\n",
       "      <th>total_deaths</th>\n",
       "      <th>total_deaths_per_100000p</th>\n",
       "      <th>new_deaths_last_7_days</th>\n",
       "      <th>new_deaths_last_7_day_per_100000p</th>\n",
       "      <th>new_deaths_last_24h</th>\n",
       "    </tr>\n",
       "  </thead>\n",
       "  <tbody>\n",
       "    <tr>\n",
       "      <th>0</th>\n",
       "      <td>Global</td>\n",
       "      <td>World</td>\n",
       "      <td>194608040</td>\n",
       "      <td>2496.722463</td>\n",
       "      <td>3821392</td>\n",
       "      <td>49.026521</td>\n",
       "      <td>410645</td>\n",
       "      <td>4170155</td>\n",
       "      <td>53.500974</td>\n",
       "      <td>70540</td>\n",
       "      <td>0.904992</td>\n",
       "      <td>7628</td>\n",
       "    </tr>\n",
       "    <tr>\n",
       "      <th>1</th>\n",
       "      <td>United States of America</td>\n",
       "      <td>Americas</td>\n",
       "      <td>34256255</td>\n",
       "      <td>10349.240000</td>\n",
       "      <td>462055</td>\n",
       "      <td>139.590000</td>\n",
       "      <td>11680</td>\n",
       "      <td>605780</td>\n",
       "      <td>183.010000</td>\n",
       "      <td>1739</td>\n",
       "      <td>0.530000</td>\n",
       "      <td>45</td>\n",
       "    </tr>\n",
       "    <tr>\n",
       "      <th>2</th>\n",
       "      <td>India</td>\n",
       "      <td>South-East Asia</td>\n",
       "      <td>31440951</td>\n",
       "      <td>2278.320000</td>\n",
       "      <td>266629</td>\n",
       "      <td>19.320000</td>\n",
       "      <td>29689</td>\n",
       "      <td>421382</td>\n",
       "      <td>30.530000</td>\n",
       "      <td>6900</td>\n",
       "      <td>0.500000</td>\n",
       "      <td>415</td>\n",
       "    </tr>\n",
       "    <tr>\n",
       "      <th>3</th>\n",
       "      <td>Brazil</td>\n",
       "      <td>Americas</td>\n",
       "      <td>19688663</td>\n",
       "      <td>9262.660000</td>\n",
       "      <td>312089</td>\n",
       "      <td>146.820000</td>\n",
       "      <td>18129</td>\n",
       "      <td>549924</td>\n",
       "      <td>258.720000</td>\n",
       "      <td>7710</td>\n",
       "      <td>3.630000</td>\n",
       "      <td>476</td>\n",
       "    </tr>\n",
       "    <tr>\n",
       "      <th>4</th>\n",
       "      <td>Russian Federation</td>\n",
       "      <td>Europe</td>\n",
       "      <td>6172812</td>\n",
       "      <td>4229.850000</td>\n",
       "      <td>166276</td>\n",
       "      <td>113.940000</td>\n",
       "      <td>23032</td>\n",
       "      <td>155380</td>\n",
       "      <td>106.470000</td>\n",
       "      <td>5458</td>\n",
       "      <td>3.740000</td>\n",
       "      <td>779</td>\n",
       "    </tr>\n",
       "  </tbody>\n",
       "</table>\n",
       "</div>"
      ],
      "text/plain": [
       "                       name           region  total_cases  \\\n",
       "0                    Global            World    194608040   \n",
       "1  United States of America         Americas     34256255   \n",
       "2                     India  South-East Asia     31440951   \n",
       "3                    Brazil         Americas     19688663   \n",
       "4        Russian Federation           Europe      6172812   \n",
       "\n",
       "   total_cases_per_100000p  new_last_7_day_cases  new_last_7_day_per_100000p  \\\n",
       "0              2496.722463               3821392                   49.026521   \n",
       "1             10349.240000                462055                  139.590000   \n",
       "2              2278.320000                266629                   19.320000   \n",
       "3              9262.660000                312089                  146.820000   \n",
       "4              4229.850000                166276                  113.940000   \n",
       "\n",
       "   new_cases_last_24h  total_deaths  total_deaths_per_100000p  \\\n",
       "0              410645       4170155                 53.500974   \n",
       "1               11680        605780                183.010000   \n",
       "2               29689        421382                 30.530000   \n",
       "3               18129        549924                258.720000   \n",
       "4               23032        155380                106.470000   \n",
       "\n",
       "   new_deaths_last_7_days  new_deaths_last_7_day_per_100000p  \\\n",
       "0                   70540                           0.904992   \n",
       "1                    1739                           0.530000   \n",
       "2                    6900                           0.500000   \n",
       "3                    7710                           3.630000   \n",
       "4                    5458                           3.740000   \n",
       "\n",
       "   new_deaths_last_24h  \n",
       "0                 7628  \n",
       "1                   45  \n",
       "2                  415  \n",
       "3                  476  \n",
       "4                  779  "
      ]
     },
     "execution_count": 12,
     "metadata": {},
     "output_type": "execute_result"
    }
   ],
   "source": [
    "covid_df.head()"
   ]
  },
  {
   "cell_type": "markdown",
   "id": "worst-mineral",
   "metadata": {},
   "source": [
    "Let's get some common statistics about the dataset."
   ]
  },
  {
   "cell_type": "code",
   "execution_count": 13,
   "id": "governmental-wildlife",
   "metadata": {},
   "outputs": [
    {
     "data": {
      "text/html": [
       "<div>\n",
       "<style scoped>\n",
       "    .dataframe tbody tr th:only-of-type {\n",
       "        vertical-align: middle;\n",
       "    }\n",
       "\n",
       "    .dataframe tbody tr th {\n",
       "        vertical-align: top;\n",
       "    }\n",
       "\n",
       "    .dataframe thead th {\n",
       "        text-align: right;\n",
       "    }\n",
       "</style>\n",
       "<table border=\"1\" class=\"dataframe\">\n",
       "  <thead>\n",
       "    <tr style=\"text-align: right;\">\n",
       "      <th></th>\n",
       "      <th>total_cases</th>\n",
       "      <th>total_cases_per_100000p</th>\n",
       "      <th>new_last_7_day_cases</th>\n",
       "      <th>new_last_7_day_per_100000p</th>\n",
       "      <th>new_cases_last_24h</th>\n",
       "      <th>total_deaths</th>\n",
       "      <th>total_deaths_per_100000p</th>\n",
       "      <th>new_deaths_last_7_days</th>\n",
       "      <th>new_deaths_last_7_day_per_100000p</th>\n",
       "      <th>new_deaths_last_24h</th>\n",
       "    </tr>\n",
       "  </thead>\n",
       "  <tbody>\n",
       "    <tr>\n",
       "      <th>count</th>\n",
       "      <td>2.370000e+02</td>\n",
       "      <td>237.000000</td>\n",
       "      <td>2.370000e+02</td>\n",
       "      <td>237.000000</td>\n",
       "      <td>237.000000</td>\n",
       "      <td>2.370000e+02</td>\n",
       "      <td>237.000000</td>\n",
       "      <td>237.000000</td>\n",
       "      <td>237.000000</td>\n",
       "      <td>237.000000</td>\n",
       "    </tr>\n",
       "    <tr>\n",
       "      <th>mean</th>\n",
       "      <td>1.642259e+06</td>\n",
       "      <td>3793.507985</td>\n",
       "      <td>3.224803e+04</td>\n",
       "      <td>88.865892</td>\n",
       "      <td>3465.358650</td>\n",
       "      <td>3.519113e+04</td>\n",
       "      <td>62.419920</td>\n",
       "      <td>595.274262</td>\n",
       "      <td>1.058418</td>\n",
       "      <td>64.371308</td>\n",
       "    </tr>\n",
       "    <tr>\n",
       "      <th>std</th>\n",
       "      <td>1.303647e+07</td>\n",
       "      <td>4145.312287</td>\n",
       "      <td>2.526766e+05</td>\n",
       "      <td>211.301464</td>\n",
       "      <td>27081.788516</td>\n",
       "      <td>2.776488e+05</td>\n",
       "      <td>81.886423</td>\n",
       "      <td>4722.788629</td>\n",
       "      <td>3.947925</td>\n",
       "      <td>517.348239</td>\n",
       "    </tr>\n",
       "    <tr>\n",
       "      <th>min</th>\n",
       "      <td>0.000000e+00</td>\n",
       "      <td>0.000000</td>\n",
       "      <td>0.000000e+00</td>\n",
       "      <td>0.000000</td>\n",
       "      <td>0.000000</td>\n",
       "      <td>0.000000e+00</td>\n",
       "      <td>0.000000</td>\n",
       "      <td>0.000000</td>\n",
       "      <td>0.000000</td>\n",
       "      <td>0.000000</td>\n",
       "    </tr>\n",
       "    <tr>\n",
       "      <th>25%</th>\n",
       "      <td>4.985000e+03</td>\n",
       "      <td>277.580000</td>\n",
       "      <td>3.900000e+01</td>\n",
       "      <td>2.610000</td>\n",
       "      <td>0.000000</td>\n",
       "      <td>4.800000e+01</td>\n",
       "      <td>2.930000</td>\n",
       "      <td>0.000000</td>\n",
       "      <td>0.000000</td>\n",
       "      <td>0.000000</td>\n",
       "    </tr>\n",
       "    <tr>\n",
       "      <th>50%</th>\n",
       "      <td>5.208900e+04</td>\n",
       "      <td>2278.320000</td>\n",
       "      <td>6.910000e+02</td>\n",
       "      <td>24.900000</td>\n",
       "      <td>27.000000</td>\n",
       "      <td>8.230000e+02</td>\n",
       "      <td>26.040000</td>\n",
       "      <td>4.000000</td>\n",
       "      <td>0.080000</td>\n",
       "      <td>0.000000</td>\n",
       "    </tr>\n",
       "    <tr>\n",
       "      <th>75%</th>\n",
       "      <td>3.804310e+05</td>\n",
       "      <td>6661.700000</td>\n",
       "      <td>6.269000e+03</td>\n",
       "      <td>91.850000</td>\n",
       "      <td>723.000000</td>\n",
       "      <td>6.461000e+03</td>\n",
       "      <td>95.640000</td>\n",
       "      <td>69.000000</td>\n",
       "      <td>0.710000</td>\n",
       "      <td>7.000000</td>\n",
       "    </tr>\n",
       "    <tr>\n",
       "      <th>max</th>\n",
       "      <td>1.946080e+08</td>\n",
       "      <td>18866.240000</td>\n",
       "      <td>3.821392e+06</td>\n",
       "      <td>2018.060000</td>\n",
       "      <td>410645.000000</td>\n",
       "      <td>4.170155e+06</td>\n",
       "      <td>594.110000</td>\n",
       "      <td>70540.000000</td>\n",
       "      <td>50.100000</td>\n",
       "      <td>7628.000000</td>\n",
       "    </tr>\n",
       "  </tbody>\n",
       "</table>\n",
       "</div>"
      ],
      "text/plain": [
       "        total_cases  total_cases_per_100000p  new_last_7_day_cases  \\\n",
       "count  2.370000e+02               237.000000          2.370000e+02   \n",
       "mean   1.642259e+06              3793.507985          3.224803e+04   \n",
       "std    1.303647e+07              4145.312287          2.526766e+05   \n",
       "min    0.000000e+00                 0.000000          0.000000e+00   \n",
       "25%    4.985000e+03               277.580000          3.900000e+01   \n",
       "50%    5.208900e+04              2278.320000          6.910000e+02   \n",
       "75%    3.804310e+05              6661.700000          6.269000e+03   \n",
       "max    1.946080e+08             18866.240000          3.821392e+06   \n",
       "\n",
       "       new_last_7_day_per_100000p  new_cases_last_24h  total_deaths  \\\n",
       "count                  237.000000          237.000000  2.370000e+02   \n",
       "mean                    88.865892         3465.358650  3.519113e+04   \n",
       "std                    211.301464        27081.788516  2.776488e+05   \n",
       "min                      0.000000            0.000000  0.000000e+00   \n",
       "25%                      2.610000            0.000000  4.800000e+01   \n",
       "50%                     24.900000           27.000000  8.230000e+02   \n",
       "75%                     91.850000          723.000000  6.461000e+03   \n",
       "max                   2018.060000       410645.000000  4.170155e+06   \n",
       "\n",
       "       total_deaths_per_100000p  new_deaths_last_7_days  \\\n",
       "count                237.000000              237.000000   \n",
       "mean                  62.419920              595.274262   \n",
       "std                   81.886423             4722.788629   \n",
       "min                    0.000000                0.000000   \n",
       "25%                    2.930000                0.000000   \n",
       "50%                   26.040000                4.000000   \n",
       "75%                   95.640000               69.000000   \n",
       "max                  594.110000            70540.000000   \n",
       "\n",
       "       new_deaths_last_7_day_per_100000p  new_deaths_last_24h  \n",
       "count                         237.000000           237.000000  \n",
       "mean                            1.058418            64.371308  \n",
       "std                             3.947925           517.348239  \n",
       "min                             0.000000             0.000000  \n",
       "25%                             0.000000             0.000000  \n",
       "50%                             0.080000             0.000000  \n",
       "75%                             0.710000             7.000000  \n",
       "max                            50.100000          7628.000000  "
      ]
     },
     "execution_count": 13,
     "metadata": {},
     "output_type": "execute_result"
    }
   ],
   "source": [
    "covid_df.describe()"
   ]
  },
  {
   "cell_type": "markdown",
   "id": "incorporated-morrison",
   "metadata": {},
   "source": [
    "### Descriptive analyses"
   ]
  },
  {
   "cell_type": "markdown",
   "id": "acquired-apparatus",
   "metadata": {},
   "source": [
    "Let's caculate the 5-Number Summary for some columns of our dataset.\n",
    "\n",
    "first we will caculate for the total cases."
   ]
  },
  {
   "cell_type": "code",
   "execution_count": 14,
   "id": "fallen-robinson",
   "metadata": {},
   "outputs": [
    {
     "name": "stdout",
     "output_type": "stream",
     "text": [
      "Min: 0.000\n",
      "Q1: 4985.000\n",
      "Median: 52089.000\n",
      "Q3: 380431.000\n",
      "Max: 194608040.000\n"
     ]
    }
   ],
   "source": [
    "# calculate quartiles\n",
    "quartiles = np.percentile(covid_df['total_cases'], [25, 50, 75])\n",
    "# calculate min/max\n",
    "data_min, data_max = covid_df['total_cases'].min(), covid_df['total_cases'].max()\n",
    "# let's print 5-number summary\n",
    "print('Min: %.3f' % data_min)\n",
    "print('Q1: %.3f' % quartiles[0])\n",
    "print('Median: %.3f' % quartiles[1])\n",
    "print('Q3: %.3f' % quartiles[2])\n",
    "print('Max: %.3f' % data_max)"
   ]
  },
  {
   "cell_type": "markdown",
   "id": "accompanied-nirvana",
   "metadata": {},
   "source": [
    "Now will calculate for the total_deaths."
   ]
  },
  {
   "cell_type": "code",
   "execution_count": 15,
   "id": "strange-airfare",
   "metadata": {},
   "outputs": [
    {
     "name": "stdout",
     "output_type": "stream",
     "text": [
      "Min: 0.000\n",
      "Q1: 48.000\n",
      "Median: 823.000\n",
      "Q3: 6461.000\n",
      "Max: 4170155.000\n"
     ]
    }
   ],
   "source": [
    "# calculate quartiles\n",
    "quartiles = np.percentile(covid_df['total_deaths'], [25, 50, 75])\n",
    "# calculate min/max\n",
    "data_min, data_max = covid_df['total_deaths'].min(), covid_df['total_deaths'].max()\n",
    "# let's print 5-number summary\n",
    "print('Min: %.3f' % data_min)\n",
    "print('Q1: %.3f' % quartiles[0])\n",
    "print('Median: %.3f' % quartiles[1])\n",
    "print('Q3: %.3f' % quartiles[2])\n",
    "print('Max: %.3f' % data_max)"
   ]
  },
  {
   "cell_type": "markdown",
   "id": "exclusive-height",
   "metadata": {},
   "source": [
    "Now let's analysis the data based on the region we will find out which region has the most number of deaths and covid cases."
   ]
  },
  {
   "cell_type": "code",
   "execution_count": 16,
   "id": "related-arizona",
   "metadata": {},
   "outputs": [
    {
     "data": {
      "text/plain": [
       "array(['World', 'Americas', 'South-East Asia', 'Europe',\n",
       "       'Eastern Mediterranean', 'Africa', 'Western Pacific'], dtype=object)"
      ]
     },
     "execution_count": 16,
     "metadata": {},
     "output_type": "execute_result"
    }
   ],
   "source": [
    "covid_df['region'].unique()"
   ]
  },
  {
   "cell_type": "markdown",
   "id": "pending-valentine",
   "metadata": {},
   "source": [
    "we won't consider the world because it represent the whole world."
   ]
  },
  {
   "cell_type": "code",
   "execution_count": 17,
   "id": "chinese-freedom",
   "metadata": {},
   "outputs": [
    {
     "data": {
      "text/html": [
       "<div>\n",
       "<style scoped>\n",
       "    .dataframe tbody tr th:only-of-type {\n",
       "        vertical-align: middle;\n",
       "    }\n",
       "\n",
       "    .dataframe tbody tr th {\n",
       "        vertical-align: top;\n",
       "    }\n",
       "\n",
       "    .dataframe thead tr th {\n",
       "        text-align: left;\n",
       "    }\n",
       "\n",
       "    .dataframe thead tr:last-of-type th {\n",
       "        text-align: right;\n",
       "    }\n",
       "</style>\n",
       "<table border=\"1\" class=\"dataframe\">\n",
       "  <thead>\n",
       "    <tr>\n",
       "      <th></th>\n",
       "      <th>total_cases</th>\n",
       "    </tr>\n",
       "    <tr>\n",
       "      <th></th>\n",
       "      <th>sum</th>\n",
       "    </tr>\n",
       "    <tr>\n",
       "      <th>region</th>\n",
       "      <th></th>\n",
       "    </tr>\n",
       "  </thead>\n",
       "  <tbody>\n",
       "    <tr>\n",
       "      <th>Africa</th>\n",
       "      <td>4813735</td>\n",
       "    </tr>\n",
       "    <tr>\n",
       "      <th>Americas</th>\n",
       "      <td>76182529</td>\n",
       "    </tr>\n",
       "    <tr>\n",
       "      <th>Eastern Mediterranean</th>\n",
       "      <td>12255849</td>\n",
       "    </tr>\n",
       "    <tr>\n",
       "      <th>Europe</th>\n",
       "      <td>59312787</td>\n",
       "    </tr>\n",
       "    <tr>\n",
       "      <th>South-East Asia</th>\n",
       "      <td>37755175</td>\n",
       "    </tr>\n",
       "    <tr>\n",
       "      <th>Western Pacific</th>\n",
       "      <td>4287201</td>\n",
       "    </tr>\n",
       "    <tr>\n",
       "      <th>World</th>\n",
       "      <td>194608040</td>\n",
       "    </tr>\n",
       "  </tbody>\n",
       "</table>\n",
       "</div>"
      ],
      "text/plain": [
       "                      total_cases\n",
       "                              sum\n",
       "region                           \n",
       "Africa                    4813735\n",
       "Americas                 76182529\n",
       "Eastern Mediterranean    12255849\n",
       "Europe                   59312787\n",
       "South-East Asia          37755175\n",
       "Western Pacific           4287201\n",
       "World                   194608040"
      ]
     },
     "execution_count": 17,
     "metadata": {},
     "output_type": "execute_result"
    }
   ],
   "source": [
    "region_covid_df = covid_df.groupby(['region']).agg({'total_cases': ['sum']})\n",
    "region_covid_df"
   ]
  },
  {
   "cell_type": "markdown",
   "id": "thirty-charge",
   "metadata": {},
   "source": [
    "Let's drop the World from the data because we don't require it."
   ]
  },
  {
   "cell_type": "code",
   "execution_count": 18,
   "id": "noticed-marble",
   "metadata": {},
   "outputs": [],
   "source": [
    "region_covid_df.drop([\"World\"],inplace=True)"
   ]
  },
  {
   "cell_type": "code",
   "execution_count": 19,
   "id": "changed-administrator",
   "metadata": {},
   "outputs": [
    {
     "data": {
      "text/html": [
       "<div>\n",
       "<style scoped>\n",
       "    .dataframe tbody tr th:only-of-type {\n",
       "        vertical-align: middle;\n",
       "    }\n",
       "\n",
       "    .dataframe tbody tr th {\n",
       "        vertical-align: top;\n",
       "    }\n",
       "\n",
       "    .dataframe thead tr th {\n",
       "        text-align: left;\n",
       "    }\n",
       "\n",
       "    .dataframe thead tr:last-of-type th {\n",
       "        text-align: right;\n",
       "    }\n",
       "</style>\n",
       "<table border=\"1\" class=\"dataframe\">\n",
       "  <thead>\n",
       "    <tr>\n",
       "      <th></th>\n",
       "      <th>total_cases</th>\n",
       "    </tr>\n",
       "    <tr>\n",
       "      <th></th>\n",
       "      <th>sum</th>\n",
       "    </tr>\n",
       "    <tr>\n",
       "      <th>region</th>\n",
       "      <th></th>\n",
       "    </tr>\n",
       "  </thead>\n",
       "  <tbody>\n",
       "    <tr>\n",
       "      <th>Africa</th>\n",
       "      <td>4813735</td>\n",
       "    </tr>\n",
       "    <tr>\n",
       "      <th>Americas</th>\n",
       "      <td>76182529</td>\n",
       "    </tr>\n",
       "    <tr>\n",
       "      <th>Eastern Mediterranean</th>\n",
       "      <td>12255849</td>\n",
       "    </tr>\n",
       "    <tr>\n",
       "      <th>Europe</th>\n",
       "      <td>59312787</td>\n",
       "    </tr>\n",
       "    <tr>\n",
       "      <th>South-East Asia</th>\n",
       "      <td>37755175</td>\n",
       "    </tr>\n",
       "    <tr>\n",
       "      <th>Western Pacific</th>\n",
       "      <td>4287201</td>\n",
       "    </tr>\n",
       "  </tbody>\n",
       "</table>\n",
       "</div>"
      ],
      "text/plain": [
       "                      total_cases\n",
       "                              sum\n",
       "region                           \n",
       "Africa                    4813735\n",
       "Americas                 76182529\n",
       "Eastern Mediterranean    12255849\n",
       "Europe                   59312787\n",
       "South-East Asia          37755175\n",
       "Western Pacific           4287201"
      ]
     },
     "execution_count": 19,
     "metadata": {},
     "output_type": "execute_result"
    }
   ],
   "source": [
    "region_covid_df"
   ]
  },
  {
   "cell_type": "code",
   "execution_count": 20,
   "id": "hearing-feedback",
   "metadata": {},
   "outputs": [],
   "source": [
    "df = region_covid_df['total_cases']"
   ]
  },
  {
   "cell_type": "markdown",
   "id": "elegant-campus",
   "metadata": {},
   "source": [
    "Let's plot a bar graph."
   ]
  },
  {
   "cell_type": "code",
   "execution_count": 21,
   "id": "conditional-insulin",
   "metadata": {},
   "outputs": [
    {
     "data": {
      "image/png": "[encoded data removed]",
      "text/plain": [
       "<Figure size 720x432 with 1 Axes>"
      ]
     },
     "metadata": {
      "needs_background": "light"
     },
     "output_type": "display_data"
    }
   ],
   "source": [
    "plt.figure(figsize=(10,6))\n",
    "sns.barplot(x=df.index,y='sum',data=df)\n",
    "plt.title(\"Total Number of Covid-19 cases per region\")\n",
    "plt.ylabel(\"Number of Cases\")\n",
    "plt.xlabel(\"Region Name\")\n",
    "plt.show()"
   ]
  },
  {
   "cell_type": "markdown",
   "id": "regional-november",
   "metadata": {},
   "source": [
    "Let's plot a pie chart"
   ]
  },
  {
   "cell_type": "code",
   "execution_count": 22,
   "id": "liked-garlic",
   "metadata": {},
   "outputs": [
    {
     "data": {
      "image/png": "[encoded data removed]",
      "text/plain": [
       "<Figure size 720x576 with 1 Axes>"
      ]
     },
     "metadata": {},
     "output_type": "display_data"
    }
   ],
   "source": [
    "plt.figure(figsize=(10,8))\n",
    "y = df['sum']\n",
    "mylabels = df.index\n",
    "plt.pie(y,autopct='%1.1f%%',pctdistance=1.1, labeldistance=1.2)\n",
    "plt.title(\"Total Number of Covid-19 cases per region\")\n",
    "plt.legend(mylabels,title=\"Region\",loc=\"center left\",bbox_to_anchor=(1, 0, 0.5, 1))\n",
    "plt.axis('equal')\n",
    "plt.show() "
   ]
  },
  {
   "cell_type": "markdown",
   "id": "alpha-idaho",
   "metadata": {},
   "source": [
    "From the pie and bar graph we can see that the most effected Region is Americas and the lest effeted region is Western Pacific"
   ]
  },
  {
   "cell_type": "markdown",
   "id": "agricultural-group",
   "metadata": {},
   "source": [
    "Let's do the same for the total death see where the most death occure."
   ]
  },
  {
   "cell_type": "code",
   "execution_count": 23,
   "id": "promising-andorra",
   "metadata": {},
   "outputs": [
    {
     "data": {
      "text/html": [
       "<div>\n",
       "<style scoped>\n",
       "    .dataframe tbody tr th:only-of-type {\n",
       "        vertical-align: middle;\n",
       "    }\n",
       "\n",
       "    .dataframe tbody tr th {\n",
       "        vertical-align: top;\n",
       "    }\n",
       "\n",
       "    .dataframe thead tr th {\n",
       "        text-align: left;\n",
       "    }\n",
       "\n",
       "    .dataframe thead tr:last-of-type th {\n",
       "        text-align: right;\n",
       "    }\n",
       "</style>\n",
       "<table border=\"1\" class=\"dataframe\">\n",
       "  <thead>\n",
       "    <tr>\n",
       "      <th></th>\n",
       "      <th>total_deaths</th>\n",
       "    </tr>\n",
       "    <tr>\n",
       "      <th></th>\n",
       "      <th>sum</th>\n",
       "    </tr>\n",
       "    <tr>\n",
       "      <th>region</th>\n",
       "      <th></th>\n",
       "    </tr>\n",
       "  </thead>\n",
       "  <tbody>\n",
       "    <tr>\n",
       "      <th>Africa</th>\n",
       "      <td>113646</td>\n",
       "    </tr>\n",
       "    <tr>\n",
       "      <th>Americas</th>\n",
       "      <td>1993599</td>\n",
       "    </tr>\n",
       "    <tr>\n",
       "      <th>Eastern Mediterranean</th>\n",
       "      <td>232235</td>\n",
       "    </tr>\n",
       "    <tr>\n",
       "      <th>Europe</th>\n",
       "      <td>1213879</td>\n",
       "    </tr>\n",
       "    <tr>\n",
       "      <th>South-East Asia</th>\n",
       "      <td>554200</td>\n",
       "    </tr>\n",
       "    <tr>\n",
       "      <th>Western Pacific</th>\n",
       "      <td>62583</td>\n",
       "    </tr>\n",
       "    <tr>\n",
       "      <th>World</th>\n",
       "      <td>4170155</td>\n",
       "    </tr>\n",
       "  </tbody>\n",
       "</table>\n",
       "</div>"
      ],
      "text/plain": [
       "                      total_deaths\n",
       "                               sum\n",
       "region                            \n",
       "Africa                      113646\n",
       "Americas                   1993599\n",
       "Eastern Mediterranean       232235\n",
       "Europe                     1213879\n",
       "South-East Asia             554200\n",
       "Western Pacific              62583\n",
       "World                      4170155"
      ]
     },
     "execution_count": 23,
     "metadata": {},
     "output_type": "execute_result"
    }
   ],
   "source": [
    "region_covid_df = covid_df.groupby(['region']).agg({'total_deaths': ['sum']})\n",
    "region_covid_df"
   ]
  },
  {
   "cell_type": "code",
   "execution_count": 24,
   "id": "accessory-gilbert",
   "metadata": {},
   "outputs": [
    {
     "data": {
      "image/png": "[encoded data removed]",
      "text/plain": [
       "<Figure size 720x432 with 1 Axes>"
      ]
     },
     "metadata": {
      "needs_background": "light"
     },
     "output_type": "display_data"
    }
   ],
   "source": [
    "region_covid_df.drop([\"World\"],inplace=True)\n",
    "df = region_covid_df['total_deaths']\n",
    "\n",
    "plt.figure(figsize=(10,6))\n",
    "sns.barplot(x=df.index,y='sum',data=df)\n",
    "plt.title(\"Total Number of Covid-19 death per region\")\n",
    "plt.ylabel(\"Number of death\")\n",
    "plt.xlabel(\"Region Name\")\n",
    "plt.show()"
   ]
  },
  {
   "cell_type": "markdown",
   "id": "stainless-bloom",
   "metadata": {},
   "source": [
    "We can see the most number of cases was in Americas and the most number of deaths is also in America which make sense. But we can see that the number of cases in africa was less comparatively to Westren Pascific but the number of death is more in Africa than Westren Pacific which make sense because they countries for example American Samoa (USA),Australia,Brunei Darussalam,Cambodia and  China. These countries may have better healthcare system compare to Africa."
   ]
  },
  {
   "cell_type": "markdown",
   "id": "vertical-custom",
   "metadata": {},
   "source": [
    "### Let's visualize the Deaths - cumulative total per 100000 population.\n",
    "\n",
    "First let's get the data."
   ]
  },
  {
   "cell_type": "code",
   "execution_count": 25,
   "id": "indie-exercise",
   "metadata": {},
   "outputs": [
    {
     "data": {
      "text/html": [
       "<div>\n",
       "<style scoped>\n",
       "    .dataframe tbody tr th:only-of-type {\n",
       "        vertical-align: middle;\n",
       "    }\n",
       "\n",
       "    .dataframe tbody tr th {\n",
       "        vertical-align: top;\n",
       "    }\n",
       "\n",
       "    .dataframe thead tr th {\n",
       "        text-align: left;\n",
       "    }\n",
       "\n",
       "    .dataframe thead tr:last-of-type th {\n",
       "        text-align: right;\n",
       "    }\n",
       "</style>\n",
       "<table border=\"1\" class=\"dataframe\">\n",
       "  <thead>\n",
       "    <tr>\n",
       "      <th></th>\n",
       "      <th>total_deaths_per_100000p</th>\n",
       "    </tr>\n",
       "    <tr>\n",
       "      <th></th>\n",
       "      <th>sum</th>\n",
       "    </tr>\n",
       "    <tr>\n",
       "      <th>region</th>\n",
       "      <th></th>\n",
       "    </tr>\n",
       "  </thead>\n",
       "  <tbody>\n",
       "    <tr>\n",
       "      <th>Africa</th>\n",
       "      <td>807.620000</td>\n",
       "    </tr>\n",
       "    <tr>\n",
       "      <th>Americas</th>\n",
       "      <td>4626.500000</td>\n",
       "    </tr>\n",
       "    <tr>\n",
       "      <th>Eastern Mediterranean</th>\n",
       "      <td>1033.960000</td>\n",
       "    </tr>\n",
       "    <tr>\n",
       "      <th>Europe</th>\n",
       "      <td>7751.140000</td>\n",
       "    </tr>\n",
       "    <tr>\n",
       "      <th>South-East Asia</th>\n",
       "      <td>190.150000</td>\n",
       "    </tr>\n",
       "    <tr>\n",
       "      <th>Western Pacific</th>\n",
       "      <td>330.650000</td>\n",
       "    </tr>\n",
       "    <tr>\n",
       "      <th>World</th>\n",
       "      <td>53.500974</td>\n",
       "    </tr>\n",
       "  </tbody>\n",
       "</table>\n",
       "</div>"
      ],
      "text/plain": [
       "                      total_deaths_per_100000p\n",
       "                                           sum\n",
       "region                                        \n",
       "Africa                              807.620000\n",
       "Americas                           4626.500000\n",
       "Eastern Mediterranean              1033.960000\n",
       "Europe                             7751.140000\n",
       "South-East Asia                     190.150000\n",
       "Western Pacific                     330.650000\n",
       "World                                53.500974"
      ]
     },
     "execution_count": 25,
     "metadata": {},
     "output_type": "execute_result"
    }
   ],
   "source": [
    "region_covid_df = covid_df.groupby(['region']).agg({'total_deaths_per_100000p': ['sum']})\n",
    "region_covid_df"
   ]
  },
  {
   "cell_type": "code",
   "execution_count": 26,
   "id": "knowing-prefix",
   "metadata": {},
   "outputs": [
    {
     "data": {
      "image/png": "[encoded data removed]",
      "text/plain": [
       "<Figure size 720x432 with 1 Axes>"
      ]
     },
     "metadata": {
      "needs_background": "light"
     },
     "output_type": "display_data"
    }
   ],
   "source": [
    "region_covid_df.drop([\"World\"],inplace=True)\n",
    "df = region_covid_df['total_deaths_per_100000p']\n",
    "\n",
    "plt.figure(figsize=(10,6))\n",
    "sns.barplot(x=df.index,y='sum',data=df)\n",
    "plt.title(\"Total Number of Covid-19 death per 100000 Based on Region\")\n",
    "plt.ylabel(\"Number of death per 100000 populations\")\n",
    "plt.xlabel(\"Region Name\")\n",
    "plt.show()"
   ]
  },
  {
   "cell_type": "markdown",
   "id": "considerable-castle",
   "metadata": {},
   "source": [
    "We can see that the Deaths - cumulative total per 100000 population the most effected area is Europe. However the most number of deaths was in us, the reason is that because the population of whole Europe is less than America. "
   ]
  },
  {
   "cell_type": "markdown",
   "id": "possible-sense",
   "metadata": {},
   "source": [
    "### Now let's find the average number of death per region. "
   ]
  },
  {
   "cell_type": "code",
   "execution_count": 27,
   "id": "driving-victor",
   "metadata": {},
   "outputs": [
    {
     "data": {
      "text/html": [
       "<div>\n",
       "<style scoped>\n",
       "    .dataframe tbody tr th:only-of-type {\n",
       "        vertical-align: middle;\n",
       "    }\n",
       "\n",
       "    .dataframe tbody tr th {\n",
       "        vertical-align: top;\n",
       "    }\n",
       "\n",
       "    .dataframe thead tr th {\n",
       "        text-align: left;\n",
       "    }\n",
       "\n",
       "    .dataframe thead tr:last-of-type th {\n",
       "        text-align: right;\n",
       "    }\n",
       "</style>\n",
       "<table border=\"1\" class=\"dataframe\">\n",
       "  <thead>\n",
       "    <tr>\n",
       "      <th></th>\n",
       "      <th>total_cases</th>\n",
       "    </tr>\n",
       "    <tr>\n",
       "      <th></th>\n",
       "      <th>mean</th>\n",
       "    </tr>\n",
       "    <tr>\n",
       "      <th>region</th>\n",
       "      <th></th>\n",
       "    </tr>\n",
       "  </thead>\n",
       "  <tbody>\n",
       "    <tr>\n",
       "      <th>Africa</th>\n",
       "      <td>9.627470e+04</td>\n",
       "    </tr>\n",
       "    <tr>\n",
       "      <th>Americas</th>\n",
       "      <td>1.360402e+06</td>\n",
       "    </tr>\n",
       "    <tr>\n",
       "      <th>Eastern Mediterranean</th>\n",
       "      <td>5.570840e+05</td>\n",
       "    </tr>\n",
       "    <tr>\n",
       "      <th>Europe</th>\n",
       "      <td>9.566579e+05</td>\n",
       "    </tr>\n",
       "    <tr>\n",
       "      <th>South-East Asia</th>\n",
       "      <td>3.432289e+06</td>\n",
       "    </tr>\n",
       "    <tr>\n",
       "      <th>Western Pacific</th>\n",
       "      <td>1.224915e+05</td>\n",
       "    </tr>\n",
       "    <tr>\n",
       "      <th>World</th>\n",
       "      <td>1.946080e+08</td>\n",
       "    </tr>\n",
       "  </tbody>\n",
       "</table>\n",
       "</div>"
      ],
      "text/plain": [
       "                        total_cases\n",
       "                               mean\n",
       "region                             \n",
       "Africa                 9.627470e+04\n",
       "Americas               1.360402e+06\n",
       "Eastern Mediterranean  5.570840e+05\n",
       "Europe                 9.566579e+05\n",
       "South-East Asia        3.432289e+06\n",
       "Western Pacific        1.224915e+05\n",
       "World                  1.946080e+08"
      ]
     },
     "execution_count": 27,
     "metadata": {},
     "output_type": "execute_result"
    }
   ],
   "source": [
    "region_covid_df = covid_df.groupby(['region']).agg({'total_cases': ['mean']})\n",
    "region_covid_df"
   ]
  },
  {
   "cell_type": "code",
   "execution_count": 28,
   "id": "declared-district",
   "metadata": {},
   "outputs": [
    {
     "data": {
      "image/png": "[encoded data removed]",
      "text/plain": [
       "<Figure size 720x432 with 1 Axes>"
      ]
     },
     "metadata": {
      "needs_background": "light"
     },
     "output_type": "display_data"
    }
   ],
   "source": [
    "region_covid_df.drop([\"World\"],inplace=True)\n",
    "df = region_covid_df['total_cases']\n",
    "\n",
    "plt.figure(figsize=(10,6))\n",
    "sns.barplot(x=df.index,y='mean',data=df)\n",
    "plt.title(\"Average Number of Covid-19 cases Per Region\")\n",
    "plt.ylabel(\"Average Number Of Cases\")\n",
    "plt.xlabel(\"Region Name\")\n",
    "plt.show()"
   ]
  },
  {
   "cell_type": "markdown",
   "id": "administrative-secondary",
   "metadata": {},
   "source": [
    "Let's see the relationship betweent the new_casses in last 24 and the deaths in last 24 hours."
   ]
  },
  {
   "cell_type": "code",
   "execution_count": 29,
   "id": "perceived-garage",
   "metadata": {},
   "outputs": [
    {
     "data": {
      "image/png": "[encoded data removed]",
      "text/plain": [
       "<Figure size 720x432 with 1 Axes>"
      ]
     },
     "metadata": {
      "needs_background": "light"
     },
     "output_type": "display_data"
    }
   ],
   "source": [
    "plt.figure(figsize=(10,6))\n",
    "sns.regplot(x = covid_df['new_cases_last_24h'],y = covid_df['new_deaths_last_24h'])\n",
    "plt.xlabel('New Cases Last 24 hours')\n",
    "plt.ylabel('New Deaths Last 24 hours')\n",
    "plt.title('Cases vs Death in Last 24 hours')\n",
    "plt.show()"
   ]
  },
  {
   "cell_type": "code",
   "execution_count": 30,
   "id": "hollow-archives",
   "metadata": {},
   "outputs": [
    {
     "data": {
      "image/png": "[encoded data removed]",
      "text/plain": [
       "<Figure size 720x432 with 1 Axes>"
      ]
     },
     "metadata": {
      "needs_background": "light"
     },
     "output_type": "display_data"
    }
   ],
   "source": [
    "plt.figure(figsize=(10,6))\n",
    "sns.regplot(y = covid_df['total_cases'],x = covid_df['total_deaths'])\n",
    "plt.ylabel('New Cases Last 24 hours')\n",
    "plt.xlabel('New Deaths Last 24 hours')\n",
    "plt.title('Cases vs Death')\n",
    "plt.show()"
   ]
  },
  {
   "cell_type": "markdown",
   "id": "worth-listening",
   "metadata": {},
   "source": [
    "From the above visualiztion we cas see that the death has a direct relation with the cases as the number of cases increase the death aslo increase."
   ]
  },
  {
   "cell_type": "code",
   "execution_count": 31,
   "id": "selective-factor",
   "metadata": {},
   "outputs": [
    {
     "data": {
      "text/plain": [
       "<AxesSubplot:xlabel='total_cases'>"
      ]
     },
     "execution_count": 31,
     "metadata": {},
     "output_type": "execute_result"
    },
    {
     "data": {
      "image/png": "[encoded data removed]",
      "text/plain": [
       "<Figure size 432x288 with 1 Axes>"
      ]
     },
     "metadata": {
      "needs_background": "light"
     },
     "output_type": "display_data"
    }
   ],
   "source": [
    "df = covid_df.drop(0)\n",
    "sns.boxplot(x=df['total_cases'])"
   ]
  },
  {
   "cell_type": "code",
   "execution_count": 32,
   "id": "valuable-elizabeth",
   "metadata": {},
   "outputs": [
    {
     "data": {
      "text/plain": [
       "<AxesSubplot:xlabel='total_deaths'>"
      ]
     },
     "execution_count": 32,
     "metadata": {},
     "output_type": "execute_result"
    },
    {
     "data": {
      "image/png": "[encoded data removed]",
      "text/plain": [
       "<Figure size 432x288 with 1 Axes>"
      ]
     },
     "metadata": {
      "needs_background": "light"
     },
     "output_type": "display_data"
    }
   ],
   "source": [
    "sns.boxplot(x=df['total_deaths'])"
   ]
  },
  {
   "cell_type": "markdown",
   "id": "right-magic",
   "metadata": {},
   "source": [
    "Let's plot the normal distribution of deaths. "
   ]
  },
  {
   "cell_type": "code",
   "execution_count": 33,
   "id": "cardiac-tumor",
   "metadata": {},
   "outputs": [
    {
     "data": {
      "image/png": "[encoded data removed]",
      "text/plain": [
       "<Figure size 432x288 with 1 Axes>"
      ]
     },
     "metadata": {
      "needs_background": "light"
     },
     "output_type": "display_data"
    }
   ],
   "source": [
    "from scipy.stats import norm\n",
    "import statistics\n",
    "mean = statistics.mean(df['total_deaths'])\n",
    "sd = statistics.stdev(df['total_deaths'])\n",
    "plt.plot(df['total_deaths'], norm.pdf(df['total_deaths'], mean, sd))\n",
    "plt.show()"
   ]
  },
  {
   "cell_type": "code",
   "execution_count": 34,
   "id": "focal-cinema",
   "metadata": {},
   "outputs": [
    {
     "data": {
      "text/plain": [
       "65965.78357209619"
      ]
     },
     "execution_count": 34,
     "metadata": {},
     "output_type": "execute_result"
    }
   ],
   "source": [
    "sd"
   ]
  },
  {
   "cell_type": "markdown",
   "id": "superb-airplane",
   "metadata": {},
   "source": [
    "Hence the  data is very variant we won't get proper plot for this we need data which is not to much variant."
   ]
  },
  {
   "cell_type": "code",
   "execution_count": null,
   "id": "starting-willow",
   "metadata": {},
   "outputs": [],
   "source": []
  }
 ],
 "metadata": {
  "kernelspec": {
   "display_name": "Python 3",
   "language": "python",
   "name": "python3"
  },
  "language_info": {
   "codemirror_mode": {
    "name": "ipython",
    "version": 3
   },
   "file_extension": ".py",
   "mimetype": "text/x-python",
   "name": "python",
   "nbconvert_exporter": "python",
   "pygments_lexer": "ipython3",
   "version": "3.8.8"
  }
 },
 "nbformat": 4,
 "nbformat_minor": 5
}
