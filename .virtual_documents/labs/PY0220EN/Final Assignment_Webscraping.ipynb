#!pip install pandas
#!pip install requests
get_ipython().getoutput("pip install bs4")
#!pip install plotly


import pandas as pd
import requests
from bs4 import BeautifulSoup


import pandas as pd


import requests


from bs4 import BeautifulSoup


url = "https://finance.yahoo.com/quote/AMZN/history?period1=1451606400&period2=1612137600&interval=1mo&filter=history&frequency=1mo&includeAdjustedClose=true"
html_data = requests.get(url).text



soup = BeautifulSoup(html_data,'html5lib')


soup.title





amazon_data = pd.DataFrame(columns=["Date", "Open", "High", "Low", "Close", "Volume"])

for row in soup.find("tbody").find_all("tr"):
    col = row.find_all("td")

    date = col[0].text
    Open = col[1].text
    high = col[2].text
    low = col[3].text
    close = col[4].text
    adj_close = col[5].text
    volume = col[6].text

    amazon_data = amazon_data.append({"Date":date, "Open":Open, "High":high, "Low":low, "Close":close, "Adj Close":adj_close, "Volume":volume}, ignore_index=True)


amazon_data


amazon_data.columns


#amazon_data[['Open','Date'],Date="Jun 01, 2019"]
amazon_data[amazon_data["Date"] == "Jun 01, 2019"]
