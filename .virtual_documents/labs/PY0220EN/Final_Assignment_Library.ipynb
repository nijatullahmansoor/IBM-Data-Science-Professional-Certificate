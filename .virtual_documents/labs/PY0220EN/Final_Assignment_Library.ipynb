get_ipython().getoutput("pip install yfinance")
#!pip install pandas


import yfinance as yf
import pandas as pd


apple = yf.Ticker("AAPL")


apple_info=apple.info
apple_info


apple_info['country']


apple_share_price_data = apple.history(period="max")


apple_share_price_data.head()


apple_share_price_data.reset_index(inplace=True)


apple_share_price_data.plot(x="Date", y="Open")


apple.dividends


apple.dividends.plot()












