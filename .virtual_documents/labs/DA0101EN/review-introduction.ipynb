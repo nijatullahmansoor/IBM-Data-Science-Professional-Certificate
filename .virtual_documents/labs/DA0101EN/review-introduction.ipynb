# import pandas library
import pandas as pd
import numpy as np


# Import pandas library
import pandas as pd

# Read the online file by the URL provides above, and assign it to variable "df"
other_path = "https://cf-courses-data.s3.us.cloud-object-storage.appdomain.cloud/IBMDeveloperSkillsNetwork-DA0101EN-SkillsNetwork/labs/Data%20files/auto.csv"
df = pd.read_csv(other_path, header=None)


# show the first 5 rows using dataframe.head() method
print("The first 5 rows of the dataframe") 
df.head(5)


# Write your code below and press Shift+Enter to execute 



# create headers list
headers = ["symboling","normalized-losses","make","fuel-type","aspiration", "num-of-doors","body-style",
         "drive-wheels","engine-location","wheel-base", "length","width","height","curb-weight","engine-type",
         "num-of-cylinders", "engine-size","fuel-system","bore","stroke","compression-ratio","horsepower",
         "peak-rpm","city-mpg","highway-mpg","price"]
print("headers\n", headers)


df.columns = headers
df.head(10)


df1=df.replace('?',np.NaN)



df=df1.dropna(subset=["price"], axis=0)
df.head(20)


# Write your code below and press Shift+Enter to execute 



df.dtypes



# check the data type of data frame "df" by .dtypes
print(df.dtypes)


df.describe()


# describe all the columns in "df" 
df.describe(include = "all")


# Write your code below and press Shift+Enter to execute 



# look at the info of "df"
df.info()
