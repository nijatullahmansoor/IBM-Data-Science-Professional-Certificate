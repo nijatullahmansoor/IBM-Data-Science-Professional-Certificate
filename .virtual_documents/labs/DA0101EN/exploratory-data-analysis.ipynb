import pandas as pd
import numpy as np


path='https://cf-courses-data.s3.us.cloud-object-storage.appdomain.cloud/IBMDeveloperSkillsNetwork-DA0101EN-SkillsNetwork/labs/Data%20files/automobileEDA.csv'
df = pd.read_csv(path)
df.head()


get_ipython().run_cell_magic("capture", "", """! pip install seaborn""")


import matplotlib.pyplot as plt
import seaborn as sns
get_ipython().run_line_magic("matplotlib", " inline")


# list the data types for each column
print(df.dtypes)


# Write your code below and press Shift+Enter to execute 
df['peak-rpm'].dtypes


df.corr()


# Write your code below and press Shift+Enter to execute 
df[['bore','stroke','compression-ratio','horsepower']].corr()


sns.regplot(x='engine-size',y='price',data=df)
plt.ylim(0,)


# Engine size as potential predictor variable of price
sns.regplot(x="engine-size", y="price", data=df)
plt.ylim(0,)





sns.regplot(x='engine-size',y='price',data = df)
plt.ylim(0,)


df[["engine-size", "price"]].corr()


df[['engine-size','price']].corr()


sns.regplot(x='highway-mpg',y='price',data=df)



sns.regplot(x='highway-mpg',y='price',data=df)
plt.ylim(0,)


sns.regplot(x="highway-mpg", y="price", data=df)


df[['highway-mpg', 'price']].corr()


df[['highway-mpg','price']].corr()


df[['peak-rpm','price']].corr()



sns.regplot(x="peak-rpm", y="price", data=df)


df[['peak-rpm','price']].corr()


# Write your code below and press Shift+Enter to execute
df[['stroke','price']].corr()





# Write your code below and press Shift+Enter to execute 
sns.regplot(x='stroke',y='price',data=df)


df.head(1)


sns.boxplot(x='body-style',y='price',data=df)


sns.boxplot(x="engine-location", y="price", data=df)


# drive-wheels

sns.boxplot(x='drive-wheels',y='price',data=df)


df.describe()



df.describe(include=['object'])


df['drive-wheels'].value_counts()


df['drive-wheels'].value_counts()


df['drive-wheels'].value_counts().to_frame()


df['drive-wheels'].value_counts().to_frame()


drive_wheels_count = df['drive-wheels'].value_counts().to_frame()
drive_wheels_count.rename(columns={'drive-wheels':'value_counts'},inplace=True)
drive_wheels_count


drive_wheels_counts = df['drive-wheels'].value_counts().to_frame()
drive_wheels_counts.rename(columns={'drive-wheels': 'value_counts'}, inplace=True)
drive_wheels_counts


drive_wheels_count.index.name='drive-wheels'
drive_wheels_count


drive_wheels_counts.index.name = 'drive-wheels'
drive_wheels_counts


# engine-location as variable
engine_loc_counts = df['engine-location'].value_counts().to_frame()
engine_loc_counts.rename(columns={'engine-location': 'value_counts'}, inplace=True)
engine_loc_counts.index.name = 'engine-location'
engine_loc_counts.head()


df['drive-wheels'].unique()


df['drive-wheels'].unique()


len(df['price'].unique())


df_group_one = df[['drive-wheels','body-style','price']]
df_group_one.head()


# grouping results
df_group_one = df_group_one.groupby(['drive-wheels'],as_index=False).mean()
df_group_one


# grouping results
df_group_one = df_group_one.groupby(['body-style'],as_index=False).mean()
df_group_one


# grouping results
df_gptest = df[['drive-wheels','body-style','price']]
grouped_test1 = df_gptest.groupby(['drive-wheels','body-style'],as_index=False).mean()
grouped_test1


df_gptest = df[['drive-wheels','body-style','price']]
grouped_test1 = df_gptest.groupby(['drive-wheels','body-style'],as_index=False).mean()
grouped_test1


grouped_pivot = grouped_test1.pivot(index='drive-wheels',columns='body-style')
grouped_pivot


grouped_pivot = grouped_test1.pivot(index='drive-wheels',columns='body-style')
grouped_pivot


grouped_pivot = grouped_pivot.fillna(0) #fill missing values with 0
grouped_pivot


# Write your code below and press Shift+Enter to execute 
df_gptest2 = df[['body-style','price']]
grouped_test_bodystyle = df_gptest2.groupby(['body-style'],as_index= False).mean()
grouped_test_bodystyle






import matplotlib.pyplot as plt
get_ipython().run_line_magic("matplotlib", " inline ")


#use the grouped results
plt.pcolor(grouped_pivot, cmap='RdBu')
plt.colorbar()
plt.show()


fig, ax = plt.subplots()
im = ax.pcolor(grouped_pivot, cmap='RdBu')

#label names
row_labels = grouped_pivot.columns.levels[1]
col_labels = grouped_pivot.index

#move ticks and labels to the center
ax.set_xticks(np.arange(grouped_pivot.shape[1]) + 0.5, minor=False)
ax.set_yticks(np.arange(grouped_pivot.shape[0]) + 0.5, minor=False)

#insert labels
ax.set_xticklabels(row_labels, minor=False)
ax.set_yticklabels(col_labels, minor=False)

#rotate label if too long
plt.xticks(rotation=90)

fig.colorbar(im)
plt.show()


df.corr()


from scipy import stats


from scipy import stats


pearson_coef, p_value = stats.pearsonr(df['wheel-base'], df['price'])
print("The Pearson Correlation Coefficient is", pearson_coef, " with a P-value of P =", p_value)  


person_coef, p_value = stats.pearsonr(df['wheel-base'],df['price'])
print("The Person Correclation coefficient is:",person_coef,"with a p-value=",p_value)


pearson_coef, p_value = stats.pearsonr(df['horsepower'], df['price'])
print("The Pearson Correlation Coefficient is", pearson_coef, " with a P-value of P = ", p_value)  


pearson_coef, p_value = stats.pearsonr(df['length'], df['price'])
print("The Pearson Correlation Coefficient is", pearson_coef, " with a P-value of P = ", p_value)  


pearson_coef, p_value = stats.pearsonr(df['width'], df['price'])
print("The Pearson Correlation Coefficient is", pearson_coef, " with a P-value of P =", p_value ) 


pearson_coef, p_value = stats.pearsonr(df['curb-weight'], df['price'])
print( "The Pearson Correlation Coefficient is", pearson_coef, " with a P-value of P = ", p_value)  


pearson_coef, p_value = stats.pearsonr(df['engine-size'], df['price'])
print("The Pearson Correlation Coefficient is", pearson_coef, " with a P-value of P =", p_value) 


pearson_coef, p_value = stats.pearsonr(df['bore'], df['price'])
print("The Pearson Correlation Coefficient is", pearson_coef, " with a P-value of P =  ", p_value ) 


pearson_coef, p_value = stats.pearsonr(df['city-mpg'], df['price'])
print("The Pearson Correlation Coefficient is", pearson_coef, " with a P-value of P = ", p_value)  


pearson_coef, p_value = stats.pearsonr(df['highway-mpg'], df['price'])
print( "The Pearson Correlation Coefficient is", pearson_coef, " with a P-value of P = ", p_value ) 


grouped_test2=df_gptest[['drive-wheels', 'price']].groupby(['drive-wheels'])
grouped_test2.head(2)


df_gptest


grouped_test2.get_group('4wd')['price']


# ANOVA
f_val, p_val = stats.f_oneway(grouped_test2.get_group('fwd')['price'], grouped_test2.get_group('rwd')['price'], grouped_test2.get_group('4wd')['price'])  
 
print( "ANOVA results: F=", f_val, ", P =", p_val)   


f_val, p_val = stats.f_oneway(grouped_test2.get_group('fwd')['price'], grouped_test2.get_group('rwd')['price'])  
 
print( "ANOVA results: F=", f_val, ", P =", p_val )


f_val, p_val = stats.f_oneway(grouped_test2.get_group('4wd')['price'], grouped_test2.get_group('rwd')['price'])  
   
print( "ANOVA results: F=", f_val, ", P =", p_val)   


f_val, p_val = stats.f_oneway(grouped_test2.get_group('4wd')['price'], grouped_test2.get_group('fwd')['price'])  
 
print("ANOVA results: F=", f_val, ", P =", p_val)   
